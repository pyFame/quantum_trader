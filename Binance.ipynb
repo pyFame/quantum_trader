{
 "cells": [
  {
   "cell_type": "markdown",
   "source": [
    "Concurrency"
   ],
   "metadata": {
    "collapsed": false
   }
  },
  {
   "cell_type": "code",
   "execution_count": 4,
   "metadata": {
    "id": "R4Oa00sGTJU0"
   },
   "outputs": [],
   "source": [
    "import trade\n",
    "from utils.concurrency import *\n",
    "from utils.time_ops import  *\n",
    "from utils.pandas_ops import *\n",
    "from utils import *"
   ]
  },
  {
   "cell_type": "markdown",
   "source": [
    "Configurations"
   ],
   "metadata": {
    "collapsed": false
   }
  },
  {
   "cell_type": "code",
   "execution_count": 43,
   "outputs": [],
   "source": [
    "from conf.setup_log import bLog,log, ic"
   ],
   "metadata": {
    "collapsed": false
   }
  },
  {
   "cell_type": "code",
   "execution_count": 1,
   "outputs": [],
   "source": [
    "from conf.binance_client import client,async_client"
   ],
   "metadata": {
    "collapsed": false
   }
  },
  {
   "cell_type": "markdown",
   "source": [
    "Test configs"
   ],
   "metadata": {
    "collapsed": false
   }
  },
  {
   "cell_type": "code",
   "execution_count": 15,
   "outputs": [
    {
     "name": "stdout",
     "output_type": "stream",
     "text": [
      "'03/25/2023 16:24:17' - INFO - 16:24:17'Begging to begin'\n"
     ]
    },
    {
     "data": {
      "text/plain": "'Begging to begin'"
     },
     "execution_count": 15,
     "metadata": {},
     "output_type": "execute_result"
    }
   ],
   "source": [
    "ic(\"Begging to begin\")"
   ],
   "metadata": {
    "collapsed": false
   }
  },
  {
   "cell_type": "code",
   "execution_count": 57,
   "outputs": [
    {
     "ename": "ImportError",
     "evalue": "cannot import name 'to_date' from 'utils.time_ops' (/Users/hiro/pythoneerHiro/binance/utils/time_ops.py)",
     "output_type": "error",
     "traceback": [
      "\u001B[0;31m---------------------------------------------------------------------------\u001B[0m",
      "\u001B[0;31mImportError\u001B[0m                               Traceback (most recent call last)",
      "\u001B[0;32m/var/folders/44/nbbyll_10jd0z8rj_qxm43740000gn/T/ipykernel_30455/1837577404.py\u001B[0m in \u001B[0;36m<module>\u001B[0;34m\u001B[0m\n\u001B[0;32m----> 1\u001B[0;31m \u001B[0;32mfrom\u001B[0m \u001B[0mtrade\u001B[0m\u001B[0;34m.\u001B[0m\u001B[0maccount\u001B[0m \u001B[0;32mimport\u001B[0m \u001B[0;34m*\u001B[0m\u001B[0;34m\u001B[0m\u001B[0;34m\u001B[0m\u001B[0m\n\u001B[0m\u001B[1;32m      2\u001B[0m \u001B[0;34m\u001B[0m\u001B[0m\n\u001B[1;32m      3\u001B[0m \u001B[0;34m\u001B[0m\u001B[0m\n\u001B[1;32m      4\u001B[0m \u001B[0mbalance\u001B[0m\u001B[0;34m(\u001B[0m\u001B[0;34m)\u001B[0m\u001B[0;34m\u001B[0m\u001B[0;34m\u001B[0m\u001B[0m\n",
      "\u001B[0;32m~/pythoneerHiro/binance/trade/__init__.py\u001B[0m in \u001B[0;36m<module>\u001B[0;34m\u001B[0m\n\u001B[1;32m      1\u001B[0m \u001B[0;32mimport\u001B[0m \u001B[0mpandas\u001B[0m \u001B[0;32mas\u001B[0m \u001B[0mpd\u001B[0m\u001B[0;34m\u001B[0m\u001B[0;34m\u001B[0m\u001B[0m\n\u001B[1;32m      2\u001B[0m \u001B[0;34m\u001B[0m\u001B[0m\n\u001B[0;32m----> 3\u001B[0;31m \u001B[0;32mfrom\u001B[0m \u001B[0mutils\u001B[0m\u001B[0;34m.\u001B[0m\u001B[0mtime_ops\u001B[0m \u001B[0;32mimport\u001B[0m \u001B[0mto_date\u001B[0m\u001B[0;34m\u001B[0m\u001B[0;34m\u001B[0m\u001B[0m\n\u001B[0m\u001B[1;32m      4\u001B[0m \u001B[0;34m\u001B[0m\u001B[0m\n\u001B[1;32m      5\u001B[0m \u001B[0;32mfrom\u001B[0m \u001B[0mconf\u001B[0m \u001B[0;32mimport\u001B[0m \u001B[0mclient\u001B[0m\u001B[0;34m\u001B[0m\u001B[0;34m\u001B[0m\u001B[0m\n",
      "\u001B[0;31mImportError\u001B[0m: cannot import name 'to_date' from 'utils.time_ops' (/Users/hiro/pythoneerHiro/binance/utils/time_ops.py)"
     ]
    }
   ],
   "source": [
    "from trade.account import *\n",
    "\n",
    "\n",
    "balance()"
   ],
   "metadata": {
    "collapsed": false
   }
  },
  {
   "cell_type": "code",
   "execution_count": 3,
   "outputs": [
    {
     "name": "stdout",
     "output_type": "stream",
     "text": [
      "{'e': 'kline', 'E': 1679919295842, 's': 'BTCUSDT', 'k': {'t': 1679919240000, 'T': 1679919299999, 's': 'BTCUSDT', 'i': '1m', 'f': 5394808, 'L': 5394832, 'o': '27906.94000000', 'c': '27905.91000000', 'h': '27906.98000000', 'l': '27905.90000000', 'v': '0.48986100', 'n': 25, 'x': False, 'q': '13670.34040025', 'V': '0.24613000', 'Q': '6868.73656649', 'B': '0'}}\n"
     ]
    },
    {
     "ename": "CancelledError",
     "evalue": "",
     "output_type": "error",
     "traceback": [
      "\u001B[0;31m---------------------------------------------------------------------------\u001B[0m",
      "\u001B[0;31mCancelledError\u001B[0m                            Traceback (most recent call last)",
      "\u001B[0;32m/var/folders/44/nbbyll_10jd0z8rj_qxm43740000gn/T/ipykernel_3069/4056012005.py\u001B[0m in \u001B[0;36m<module>\u001B[0;34m\u001B[0m\n\u001B[1;32m     18\u001B[0m                 \u001B[0;32mcontinue\u001B[0m\u001B[0;34m\u001B[0m\u001B[0;34m\u001B[0m\u001B[0m\n\u001B[1;32m     19\u001B[0m \u001B[0;34m\u001B[0m\u001B[0m\n\u001B[0;32m---> 20\u001B[0;31m \u001B[0;32mawait\u001B[0m \u001B[0mstart_websocket\u001B[0m\u001B[0;34m(\u001B[0m\u001B[0;34m'BTCUSDT'\u001B[0m\u001B[0;34m,\u001B[0m \u001B[0;34m'1m'\u001B[0m\u001B[0;34m)\u001B[0m\u001B[0;34m\u001B[0m\u001B[0;34m\u001B[0m\u001B[0m\n\u001B[0m",
      "\u001B[0;32m/var/folders/44/nbbyll_10jd0z8rj_qxm43740000gn/T/ipykernel_3069/4056012005.py\u001B[0m in \u001B[0;36mstart_websocket\u001B[0;34m(symbol, interval)\u001B[0m\n\u001B[1;32m     13\u001B[0m         \u001B[0;32mwhile\u001B[0m \u001B[0;32mTrue\u001B[0m\u001B[0;34m:\u001B[0m\u001B[0;34m\u001B[0m\u001B[0;34m\u001B[0m\u001B[0m\n\u001B[1;32m     14\u001B[0m             \u001B[0;32mtry\u001B[0m\u001B[0;34m:\u001B[0m\u001B[0;34m\u001B[0m\u001B[0;34m\u001B[0m\u001B[0m\n\u001B[0;32m---> 15\u001B[0;31m                 \u001B[0mmsg\u001B[0m \u001B[0;34m=\u001B[0m \u001B[0;32mawait\u001B[0m \u001B[0masyncio\u001B[0m\u001B[0;34m.\u001B[0m\u001B[0mwait_for\u001B[0m\u001B[0;34m(\u001B[0m\u001B[0mstream\u001B[0m\u001B[0;34m.\u001B[0m\u001B[0mrecv\u001B[0m\u001B[0;34m(\u001B[0m\u001B[0;34m)\u001B[0m\u001B[0;34m,\u001B[0m \u001B[0mtimeout\u001B[0m\u001B[0;34m=\u001B[0m\u001B[0;36m1.0\u001B[0m\u001B[0;34m)\u001B[0m\u001B[0;34m\u001B[0m\u001B[0;34m\u001B[0m\u001B[0m\n\u001B[0m\u001B[1;32m     16\u001B[0m                 \u001B[0;32mawait\u001B[0m \u001B[0mhandle_socket_message\u001B[0m\u001B[0;34m(\u001B[0m\u001B[0mmsg\u001B[0m\u001B[0;34m)\u001B[0m\u001B[0;34m\u001B[0m\u001B[0;34m\u001B[0m\u001B[0m\n\u001B[1;32m     17\u001B[0m             \u001B[0;32mexcept\u001B[0m \u001B[0masyncio\u001B[0m\u001B[0;34m.\u001B[0m\u001B[0mTimeoutError\u001B[0m\u001B[0;34m:\u001B[0m\u001B[0;34m\u001B[0m\u001B[0;34m\u001B[0m\u001B[0m\n",
      "\u001B[0;32m~/opt/anaconda3/lib/python3.9/asyncio/tasks.py\u001B[0m in \u001B[0;36mwait_for\u001B[0;34m(fut, timeout, loop)\u001B[0m\n\u001B[1;32m    464\u001B[0m         \u001B[0;31m# wait until the future completes or the timeout\u001B[0m\u001B[0;34m\u001B[0m\u001B[0;34m\u001B[0m\u001B[0m\n\u001B[1;32m    465\u001B[0m         \u001B[0;32mtry\u001B[0m\u001B[0;34m:\u001B[0m\u001B[0;34m\u001B[0m\u001B[0;34m\u001B[0m\u001B[0m\n\u001B[0;32m--> 466\u001B[0;31m             \u001B[0;32mawait\u001B[0m \u001B[0mwaiter\u001B[0m\u001B[0;34m\u001B[0m\u001B[0;34m\u001B[0m\u001B[0m\n\u001B[0m\u001B[1;32m    467\u001B[0m         \u001B[0;32mexcept\u001B[0m \u001B[0mexceptions\u001B[0m\u001B[0;34m.\u001B[0m\u001B[0mCancelledError\u001B[0m\u001B[0;34m:\u001B[0m\u001B[0;34m\u001B[0m\u001B[0;34m\u001B[0m\u001B[0m\n\u001B[1;32m    468\u001B[0m             \u001B[0;32mif\u001B[0m \u001B[0mfut\u001B[0m\u001B[0;34m.\u001B[0m\u001B[0mdone\u001B[0m\u001B[0;34m(\u001B[0m\u001B[0;34m)\u001B[0m\u001B[0;34m:\u001B[0m\u001B[0;34m\u001B[0m\u001B[0;34m\u001B[0m\u001B[0m\n",
      "\u001B[0;31mCancelledError\u001B[0m: "
     ]
    }
   ],
   "source": [
    "from binance import AsyncClient, BinanceSocketManager\n",
    "import asyncio\n",
    "\n",
    "async def handle_socket_message(msg):\n",
    "    print(msg)\n",
    "\n",
    "async def start_websocket(symbol, interval):\n",
    "    client = async_client\n",
    "    bm = BinanceSocketManager(client)\n",
    "    kline_socket = bm.kline_socket(symbol, interval)\n",
    "\n",
    "    async with kline_socket as stream:\n",
    "        while True:\n",
    "            try:\n",
    "                msg = await asyncio.wait_for(stream.recv(), timeout=1.0)\n",
    "                await handle_socket_message(msg)\n",
    "            except asyncio.TimeoutError:\n",
    "                continue\n",
    "\n",
    "await start_websocket('BTCUSDT', '1m')"
   ],
   "metadata": {
    "collapsed": false
   }
  },
  {
   "cell_type": "code",
   "execution_count": 44,
   "outputs": [],
   "source": [
    "import pandas as pd\n",
    "import numpy as np\n",
    "import talib\n",
    "import time\n",
    "import asyncio\n",
    "import unsync\n",
    "from queue import Queue\n",
    "from dask import delayed,compute\n",
    "from unsync import unsync\n",
    "import math"
   ],
   "metadata": {
    "collapsed": false
   }
  },
  {
   "cell_type": "code",
   "execution_count": 59,
   "outputs": [
    {
     "ename": "ImportError",
     "evalue": "cannot import name 'to_date' from 'utils.time_ops' (/Users/hiro/pythoneerHiro/binance/utils/time_ops.py)",
     "output_type": "error",
     "traceback": [
      "\u001B[0;31m---------------------------------------------------------------------------\u001B[0m",
      "\u001B[0;31mImportError\u001B[0m                               Traceback (most recent call last)",
      "\u001B[0;32m/var/folders/44/nbbyll_10jd0z8rj_qxm43740000gn/T/ipykernel_30455/2413846106.py\u001B[0m in \u001B[0;36m<module>\u001B[0;34m\u001B[0m\n\u001B[0;32m----> 1\u001B[0;31m \u001B[0;32mfrom\u001B[0m \u001B[0mtrade\u001B[0m\u001B[0;34m.\u001B[0m\u001B[0mcoin\u001B[0m \u001B[0;32mimport\u001B[0m \u001B[0;34m*\u001B[0m\u001B[0;34m\u001B[0m\u001B[0;34m\u001B[0m\u001B[0m\n\u001B[0m",
      "\u001B[0;32m~/pythoneerHiro/binance/trade/__init__.py\u001B[0m in \u001B[0;36m<module>\u001B[0;34m\u001B[0m\n\u001B[1;32m      1\u001B[0m \u001B[0;32mimport\u001B[0m \u001B[0mpandas\u001B[0m \u001B[0;32mas\u001B[0m \u001B[0mpd\u001B[0m\u001B[0;34m\u001B[0m\u001B[0;34m\u001B[0m\u001B[0m\n\u001B[1;32m      2\u001B[0m \u001B[0;34m\u001B[0m\u001B[0m\n\u001B[0;32m----> 3\u001B[0;31m \u001B[0;32mfrom\u001B[0m \u001B[0mutils\u001B[0m\u001B[0;34m.\u001B[0m\u001B[0mtime_ops\u001B[0m \u001B[0;32mimport\u001B[0m \u001B[0mto_date\u001B[0m\u001B[0;34m\u001B[0m\u001B[0;34m\u001B[0m\u001B[0m\n\u001B[0m\u001B[1;32m      4\u001B[0m \u001B[0;34m\u001B[0m\u001B[0m\n\u001B[1;32m      5\u001B[0m \u001B[0;32mfrom\u001B[0m \u001B[0mconf\u001B[0m \u001B[0;32mimport\u001B[0m \u001B[0mclient\u001B[0m\u001B[0;34m\u001B[0m\u001B[0;34m\u001B[0m\u001B[0m\n",
      "\u001B[0;31mImportError\u001B[0m: cannot import name 'to_date' from 'utils.time_ops' (/Users/hiro/pythoneerHiro/binance/utils/time_ops.py)"
     ]
    }
   ],
   "source": [
    "from trade.coin import *"
   ],
   "metadata": {
    "collapsed": false
   }
  },
  {
   "cell_type": "code",
   "execution_count": null,
   "outputs": [],
   "source": [
    "from exchange_data import SocketHandler\n",
    "from events import SignalHandler\n",
    "from strategies import Strategy\n",
    "from exchange_data import Socket\n",
    "\n",
    "\n",
    "class Trader(Strategy,SignalHandler,SocketHandler,Socket):\n",
    "\n",
    "  args = {}\n",
    "  # for i in ['OS','OL','CS','CL'] : args[i] = {}\n",
    "\n",
    "  def __init__(self,crypto,profit=1,hedge=1,amount=''):\n",
    "    l_h = 0 if hedge in [0,2] else 1\n",
    "    s_h = 0 if hedge in [0,3] else 1\n",
    "    self.CRYPTO = crypto\n",
    "    self.BALANCE = balance('USDT')\n",
    "    self.AMOUNT = amount if amount else min_q(crypto)\n",
    "    self.PROFIT = profit #self.BALANCE*profit*.01  # percentage\n",
    "    self.LONG = Position('L',crypto,self.PROFIT,l_h)\n",
    "    self.SHORT =Position('S',crypto,self.PROFIT,s_h)\n",
    "    self.PRECISION = precision(crypto)\n",
    "    self.SYMBOL = symboler(self.CRYPTO)\n",
    "\n",
    "\n",
    "  def update_args(self,pos,**args):\n",
    "    self.args[pos].update(args)\n",
    "    mode,ps = pos\n",
    "    if mode=='O':\n",
    "      if ps=='S': self.SHORT.open_args = args\n",
    "      else: self.LONG.open_args = args\n",
    "    else:\n",
    "      if ps=='S': self.SHORT.close_args = args\n",
    "      else: self.LONG.close_args = args\n",
    "\n",
    "  def set_args(self,pos,**args):\n",
    "    self.args[pos]={}\n",
    "    self.update_args(pos,**args)\n",
    "\n",
    "  async def trade(self,period=math.inf):\n",
    "    self.buys = Queue(100)\n",
    "    self.sells = Queue(100)\n",
    "    r_trades = recent_trades(self.CRYPTO)\n",
    "    self.CLOSES = r_trades['price'].to_numpy()\n",
    "\n",
    "    self.macding() #My cur strategy\n",
    "    self.buying()\n",
    "    self.selling() #next is the opening\n",
    "    max = await self.market_socket()\n",
    "    handler = self.handle_socket\n",
    "    await self.socket_handler(max,handler,period)"
   ],
   "metadata": {
    "collapsed": false
   }
  },
  {
   "cell_type": "code",
   "execution_count": null,
   "outputs": [],
   "source": [
    "\n",
    "#  dir(client)"
   ],
   "metadata": {
    "collapsed": false
   }
  },
  {
   "cell_type": "code",
   "execution_count": null,
   "outputs": [],
   "source": [
    "def cancel_order(coin,id=''):\n",
    "  d = {'orderId':id,'symbol':symboler(coin)}\n",
    "  return client.futures_cancel_all_open_orders(**d) #{'code': 200, 'msg': 'The operation of cancel all open order is done.'}\n",
    "\n",
    "def order(coin,side,mode,quantity='',price='',profit='',loss='',trail='',PRECISION=''):\n",
    "  p,q,bP,qP,minP,maxP,minQ = PRECISION or precision(coin)\n",
    "\n",
    "  if quantity: quantity = round(max(quantity,minQ),q)\n",
    "\n",
    "  d = {'type':'MARKET','symbol':symboler(coin), \"quantity\":quantity,'positionSide':mode}\n",
    "\n",
    "  if price:\n",
    "    price = round(price,p)\n",
    "    price = min(maxP,price)\n",
    "    price = max(minP,price)\n",
    "    d['type'] = 'LIMIT'\n",
    "    d['price'] = price\n",
    "    d['timeInForce']='GTC'\n",
    "\n",
    "  if profit:\n",
    "        d['type']='TAKE_PROFIT' if price else 'TAKE_PROFIT_MARKET'\n",
    "        d['stopPrice'] = round(profit,p)\n",
    "  elif loss:\n",
    "    d['type']='STOP' if price else 'STOP_MARKET'\n",
    "    d['stopPrice'] = round(loss,p)\n",
    "  elif trail:\n",
    "        d['type'] = 'TRAILING_STOP_MARKET'\n",
    "        d['callbackRate'] = trail\n",
    "        d['activationPrice'] = price\n",
    "\n",
    "  if side=='OPEN' :\n",
    "    d['side']  = 'BUY' if mode == 'LONG' else 'SELL'\n",
    "  else :\n",
    "     d['side']  = 'SELL' if mode == 'LONG' else 'BUY'\n",
    "     if quantity=='' and (profit or loss):\n",
    "        d['closePosition'] = True\n",
    "        del d['quantity']\n",
    "\n",
    "  log.info(d)\n",
    "\n",
    "  x=client.futures_create_order(**d)\n",
    "  df = pd.DataFrame(x,index=[0]).rename(columns={\"\":\"position\"})\n",
    "  drop_cols(df,*['status','clientOrderId','avgPrice','executedQty','cumQty','cumQuote','timeInForce','reduceOnly','workingType','priceProtect','origType','updateTime'])\n",
    "  ncol = ['activatePrice','origQty','price','priceRate','stopPrice']\n",
    "  for i in ncol:\n",
    "    if i in df.columns:df[i] = num_col(df[i])\n",
    "  x = df.iloc[0].to_dict()\n",
    "  return x\n",
    "#https://dev.binance.vision/t/what-does-the-percent-price-filter-mean/134"
   ],
   "metadata": {
    "collapsed": false
   }
  },
  {
   "cell_type": "code",
   "execution_count": 53,
   "metadata": {
    "colab": {
     "base_uri": "https://localhost:8080/"
    },
    "id": "UBiDiABQgVye",
    "outputId": "1e8c34c4-a317-44f0-8ea3-87fbf8cda8a4"
   },
   "outputs": [
    {
     "name": "stdout",
     "output_type": "stream",
     "text": [
      "Sat Mar 25 20:17:04 IST 2023\r\n"
     ]
    }
   ],
   "source": [
    "!date"
   ]
  },
  {
   "cell_type": "code",
   "execution_count": null,
   "metadata": {
    "id": "cYhsO4YQkg16"
   },
   "outputs": [],
   "source": [
    "@unsync\n",
    "async def main():\n",
    "  ic.disable()\n",
    "  opening()\n",
    "  closing()\n",
    "  period = math.inf      \n",
    "  BALANCE = balance('USDT')\n",
    "  # AMOUNT = .01         #hedge -0 (open disabled) 1- long&short 2-long only 3-short only\n",
    "  T1 = Trader('LTC',2,hedge=1)\n",
    "  T2 = Trader('ETH',.02,hedge=1)\n",
    "  T3 = Trader('BTC',2,hedge=1)\n",
    "\n",
    "  T4 = Trader('EOS',.3,hedge=1)\n",
    "  T5 = Trader('GALA',.2,hedge=1)\n",
    "  T6 = Trader('HOT',.2,hedge=0)\n",
    "  T7 = Trader('ANKR',.3,hedge=0)\n",
    "  \n",
    "  T8 = Trader('WAVES',.03,hedge=1)\n",
    "  T9 = Trader('REEF',.01,hedge=0)\n",
    "  T10 = Trader('MANA',.08,hedge=1)\n",
    "  T11 = Trader('DENT',.03,hedge=1)\n",
    "  T12 = Trader('AKRO',.08,hedge=1)\n",
    "  d = {\n",
    "      'LTC':(.02,1),\n",
    "      'ETH':(.02,1),\n",
    "      'BTC':(.1,1)\n",
    "  }\n",
    "  args = {\n",
    "      'OS':{\n",
    "          'price':'',\n",
    "          'trail':.1\n",
    "      },\n",
    "      'OL':{\n",
    "          'trail':.1\n",
    "      },\n",
    "     'CS':{\n",
    "          'price':'',\n",
    "         'trail':.1\n",
    "      },\n",
    "      'CL':{\n",
    "         'price':'',\n",
    "         'trail':.2\n",
    "      }\n",
    "    }\n",
    "  # trades = [T8,T9,T10,T11,T12]\n",
    "  trades = [T9,T11]\n",
    "  for pos,kwargs in args.items():\n",
    "    for trade in trades:\n",
    "      trade.set_args(pos,**kwargs)\n",
    "      leverage(trade.coin) #setting max lev\n",
    "\n",
    "  await  asyncio.gather(*[i.trade() for i in trades])"
   ]
  },
  {
   "cell_type": "code",
   "execution_count": null,
   "metadata": {
    "id": "bOPdLgggSw0z"
   },
   "outputs": [],
   "source": [
    "client = gen_client(True)\n"
   ]
  },
  {
   "cell_type": "code",
   "execution_count": null,
   "metadata": {
    "colab": {
     "base_uri": "https://localhost:8080/",
     "height": 363
    },
    "id": "xKK2PuBCTFwK",
    "outputId": "9dcc0fc1-8529-4adf-bfc7-ad9c9b9f3d76"
   },
   "outputs": [
    {
     "output_type": "error",
     "ename": "BinanceAPIException",
     "evalue": "ignored",
     "traceback": [
      "\u001B[0;31m---------------------------------------------------------------------------\u001B[0m",
      "\u001B[0;31mBinanceAPIException\u001B[0m                       Traceback (most recent call last)",
      "\u001B[0;32m<ipython-input-82-33cef4bbca53>\u001B[0m in \u001B[0;36m<module>\u001B[0;34m\u001B[0m\n\u001B[0;32m----> 1\u001B[0;31m \u001B[0msocket\u001B[0m \u001B[0;34m=\u001B[0m \u001B[0msocket_manager\u001B[0m\u001B[0;34m(\u001B[0m\u001B[0;34m)\u001B[0m\u001B[0;34m.\u001B[0m\u001B[0mresult\u001B[0m\u001B[0;34m(\u001B[0m\u001B[0;34m)\u001B[0m\u001B[0;34m\u001B[0m\u001B[0;34m\u001B[0m\u001B[0m\n\u001B[0m\u001B[1;32m      2\u001B[0m \u001B[0;34m\u001B[0m\u001B[0m\n\u001B[1;32m      3\u001B[0m \u001B[0mmain\u001B[0m\u001B[0;34m(\u001B[0m\u001B[0;34m)\u001B[0m\u001B[0;34m.\u001B[0m\u001B[0mresult\u001B[0m\u001B[0;34m(\u001B[0m\u001B[0;34m)\u001B[0m\u001B[0;34m\u001B[0m\u001B[0;34m\u001B[0m\u001B[0m\n",
      "\u001B[0;32m/usr/local/lib/python3.8/dist-packages/unsync/unsync.py\u001B[0m in \u001B[0;36mresult\u001B[0;34m(self, *args, **kwargs)\u001B[0m\n\u001B[1;32m    142\u001B[0m             \u001B[0;32mraise\u001B[0m \u001B[0masyncio\u001B[0m\u001B[0;34m.\u001B[0m\u001B[0mInvalidStateError\u001B[0m\u001B[0;34m(\u001B[0m\u001B[0;34m\"Calling result() in an unsync method is not allowed\"\u001B[0m\u001B[0;34m)\u001B[0m\u001B[0;34m\u001B[0m\u001B[0;34m\u001B[0m\u001B[0m\n\u001B[1;32m    143\u001B[0m         \u001B[0;31m# Wait on the concurrent Future outside unsync.thread\u001B[0m\u001B[0;34m\u001B[0m\u001B[0;34m\u001B[0m\u001B[0;34m\u001B[0m\u001B[0m\n\u001B[0;32m--> 144\u001B[0;31m         \u001B[0;32mreturn\u001B[0m \u001B[0mself\u001B[0m\u001B[0;34m.\u001B[0m\u001B[0mconcurrent_future\u001B[0m\u001B[0;34m.\u001B[0m\u001B[0mresult\u001B[0m\u001B[0;34m(\u001B[0m\u001B[0;34m*\u001B[0m\u001B[0margs\u001B[0m\u001B[0;34m,\u001B[0m \u001B[0;34m**\u001B[0m\u001B[0mkwargs\u001B[0m\u001B[0;34m)\u001B[0m\u001B[0;34m\u001B[0m\u001B[0;34m\u001B[0m\u001B[0m\n\u001B[0m\u001B[1;32m    145\u001B[0m \u001B[0;34m\u001B[0m\u001B[0m\n\u001B[1;32m    146\u001B[0m     \u001B[0;32mdef\u001B[0m \u001B[0mdone\u001B[0m\u001B[0;34m(\u001B[0m\u001B[0mself\u001B[0m\u001B[0;34m)\u001B[0m\u001B[0;34m:\u001B[0m\u001B[0;34m\u001B[0m\u001B[0;34m\u001B[0m\u001B[0m\n",
      "\u001B[0;32m/usr/lib/python3.8/concurrent/futures/_base.py\u001B[0m in \u001B[0;36mresult\u001B[0;34m(self, timeout)\u001B[0m\n\u001B[1;32m    442\u001B[0m                     \u001B[0;32mraise\u001B[0m \u001B[0mCancelledError\u001B[0m\u001B[0;34m(\u001B[0m\u001B[0;34m)\u001B[0m\u001B[0;34m\u001B[0m\u001B[0;34m\u001B[0m\u001B[0m\n\u001B[1;32m    443\u001B[0m                 \u001B[0;32melif\u001B[0m \u001B[0mself\u001B[0m\u001B[0;34m.\u001B[0m\u001B[0m_state\u001B[0m \u001B[0;34m==\u001B[0m \u001B[0mFINISHED\u001B[0m\u001B[0;34m:\u001B[0m\u001B[0;34m\u001B[0m\u001B[0;34m\u001B[0m\u001B[0m\n\u001B[0;32m--> 444\u001B[0;31m                     \u001B[0;32mreturn\u001B[0m \u001B[0mself\u001B[0m\u001B[0;34m.\u001B[0m\u001B[0m__get_result\u001B[0m\u001B[0;34m(\u001B[0m\u001B[0;34m)\u001B[0m\u001B[0;34m\u001B[0m\u001B[0;34m\u001B[0m\u001B[0m\n\u001B[0m\u001B[1;32m    445\u001B[0m                 \u001B[0;32melse\u001B[0m\u001B[0;34m:\u001B[0m\u001B[0;34m\u001B[0m\u001B[0;34m\u001B[0m\u001B[0m\n\u001B[1;32m    446\u001B[0m                     \u001B[0;32mraise\u001B[0m \u001B[0mTimeoutError\u001B[0m\u001B[0;34m(\u001B[0m\u001B[0;34m)\u001B[0m\u001B[0;34m\u001B[0m\u001B[0;34m\u001B[0m\u001B[0m\n",
      "\u001B[0;32m/usr/lib/python3.8/concurrent/futures/_base.py\u001B[0m in \u001B[0;36m__get_result\u001B[0;34m(self)\u001B[0m\n\u001B[1;32m    387\u001B[0m         \u001B[0;32mif\u001B[0m \u001B[0mself\u001B[0m\u001B[0;34m.\u001B[0m\u001B[0m_exception\u001B[0m\u001B[0;34m:\u001B[0m\u001B[0;34m\u001B[0m\u001B[0;34m\u001B[0m\u001B[0m\n\u001B[1;32m    388\u001B[0m             \u001B[0;32mtry\u001B[0m\u001B[0;34m:\u001B[0m\u001B[0;34m\u001B[0m\u001B[0;34m\u001B[0m\u001B[0m\n\u001B[0;32m--> 389\u001B[0;31m                 \u001B[0;32mraise\u001B[0m \u001B[0mself\u001B[0m\u001B[0;34m.\u001B[0m\u001B[0m_exception\u001B[0m\u001B[0;34m\u001B[0m\u001B[0;34m\u001B[0m\u001B[0m\n\u001B[0m\u001B[1;32m    390\u001B[0m             \u001B[0;32mfinally\u001B[0m\u001B[0;34m:\u001B[0m\u001B[0;34m\u001B[0m\u001B[0;34m\u001B[0m\u001B[0m\n\u001B[1;32m    391\u001B[0m                 \u001B[0;31m# Break a reference cycle with the exception in self._exception\u001B[0m\u001B[0;34m\u001B[0m\u001B[0;34m\u001B[0m\u001B[0;34m\u001B[0m\u001B[0m\n",
      "\u001B[0;32m<ipython-input-73-25e7e361c477>\u001B[0m in \u001B[0;36msocket_manager\u001B[0;34m(client)\u001B[0m\n\u001B[1;32m     19\u001B[0m \u001B[0;34m@\u001B[0m\u001B[0munsync\u001B[0m\u001B[0;34m\u001B[0m\u001B[0;34m\u001B[0m\u001B[0m\n\u001B[1;32m     20\u001B[0m \u001B[0;32masync\u001B[0m \u001B[0;32mdef\u001B[0m \u001B[0msocket_manager\u001B[0m\u001B[0;34m(\u001B[0m\u001B[0mclient\u001B[0m\u001B[0;34m=\u001B[0m\u001B[0;34m''\u001B[0m\u001B[0;34m)\u001B[0m\u001B[0;34m:\u001B[0m\u001B[0;34m\u001B[0m\u001B[0;34m\u001B[0m\u001B[0m\n\u001B[0;32m---> 21\u001B[0;31m     \u001B[0mc1\u001B[0m \u001B[0;34m=\u001B[0m \u001B[0;32mawait\u001B[0m \u001B[0mAsyncClient\u001B[0m\u001B[0;34m.\u001B[0m\u001B[0mcreate\u001B[0m\u001B[0;34m(\u001B[0m\u001B[0;34m)\u001B[0m \u001B[0;32mif\u001B[0m \u001B[0;32mnot\u001B[0m \u001B[0mclient\u001B[0m \u001B[0;32melse\u001B[0m \u001B[0mclient\u001B[0m\u001B[0;34m\u001B[0m\u001B[0;34m\u001B[0m\u001B[0m\n\u001B[0m\u001B[1;32m     22\u001B[0m     \u001B[0msocket\u001B[0m \u001B[0;34m=\u001B[0m \u001B[0mBinanceSocketManager\u001B[0m\u001B[0;34m(\u001B[0m\u001B[0mc1\u001B[0m\u001B[0;34m)\u001B[0m\u001B[0;34m\u001B[0m\u001B[0;34m\u001B[0m\u001B[0m\n\u001B[1;32m     23\u001B[0m     \u001B[0;32mreturn\u001B[0m \u001B[0msocket\u001B[0m\u001B[0;34m\u001B[0m\u001B[0;34m\u001B[0m\u001B[0m\n",
      "\u001B[0;32m/usr/local/lib/python3.8/dist-packages/binance/client.py\u001B[0m in \u001B[0;36mcreate\u001B[0;34m(cls, api_key, api_secret, requests_params, tld, testnet, loop)\u001B[0m\n\u001B[1;32m   7256\u001B[0m \u001B[0;34m\u001B[0m\u001B[0m\n\u001B[1;32m   7257\u001B[0m         \u001B[0;32mtry\u001B[0m\u001B[0;34m:\u001B[0m\u001B[0;34m\u001B[0m\u001B[0;34m\u001B[0m\u001B[0m\n\u001B[0;32m-> 7258\u001B[0;31m             \u001B[0;32mawait\u001B[0m \u001B[0mself\u001B[0m\u001B[0;34m.\u001B[0m\u001B[0mping\u001B[0m\u001B[0;34m(\u001B[0m\u001B[0;34m)\u001B[0m\u001B[0;34m\u001B[0m\u001B[0;34m\u001B[0m\u001B[0m\n\u001B[0m\u001B[1;32m   7259\u001B[0m \u001B[0;34m\u001B[0m\u001B[0m\n\u001B[1;32m   7260\u001B[0m             \u001B[0;31m# calculate timestamp offset between local and binance server\u001B[0m\u001B[0;34m\u001B[0m\u001B[0;34m\u001B[0m\u001B[0;34m\u001B[0m\u001B[0m\n",
      "\u001B[0;32m/usr/local/lib/python3.8/dist-packages/binance/client.py\u001B[0m in \u001B[0;36mping\u001B[0;34m(self)\u001B[0m\n\u001B[1;32m   7377\u001B[0m \u001B[0;34m\u001B[0m\u001B[0m\n\u001B[1;32m   7378\u001B[0m     \u001B[0;32masync\u001B[0m \u001B[0;32mdef\u001B[0m \u001B[0mping\u001B[0m\u001B[0;34m(\u001B[0m\u001B[0mself\u001B[0m\u001B[0;34m)\u001B[0m \u001B[0;34m->\u001B[0m \u001B[0mDict\u001B[0m\u001B[0;34m:\u001B[0m\u001B[0;34m\u001B[0m\u001B[0;34m\u001B[0m\u001B[0m\n\u001B[0;32m-> 7379\u001B[0;31m         \u001B[0;32mreturn\u001B[0m \u001B[0;32mawait\u001B[0m \u001B[0mself\u001B[0m\u001B[0;34m.\u001B[0m\u001B[0m_get\u001B[0m\u001B[0;34m(\u001B[0m\u001B[0;34m'ping'\u001B[0m\u001B[0;34m,\u001B[0m \u001B[0mversion\u001B[0m\u001B[0;34m=\u001B[0m\u001B[0mself\u001B[0m\u001B[0;34m.\u001B[0m\u001B[0mPRIVATE_API_VERSION\u001B[0m\u001B[0;34m)\u001B[0m\u001B[0;34m\u001B[0m\u001B[0;34m\u001B[0m\u001B[0m\n\u001B[0m\u001B[1;32m   7380\u001B[0m     \u001B[0mping\u001B[0m\u001B[0;34m.\u001B[0m\u001B[0m__doc__\u001B[0m \u001B[0;34m=\u001B[0m \u001B[0mClient\u001B[0m\u001B[0;34m.\u001B[0m\u001B[0mping\u001B[0m\u001B[0;34m.\u001B[0m\u001B[0m__doc__\u001B[0m\u001B[0;34m\u001B[0m\u001B[0;34m\u001B[0m\u001B[0m\n\u001B[1;32m   7381\u001B[0m \u001B[0;34m\u001B[0m\u001B[0m\n",
      "\u001B[0;32m/usr/local/lib/python3.8/dist-packages/binance/client.py\u001B[0m in \u001B[0;36m_get\u001B[0;34m(self, path, signed, version, **kwargs)\u001B[0m\n\u001B[1;32m   7342\u001B[0m \u001B[0;34m\u001B[0m\u001B[0m\n\u001B[1;32m   7343\u001B[0m     \u001B[0;32masync\u001B[0m \u001B[0;32mdef\u001B[0m \u001B[0m_get\u001B[0m\u001B[0;34m(\u001B[0m\u001B[0mself\u001B[0m\u001B[0;34m,\u001B[0m \u001B[0mpath\u001B[0m\u001B[0;34m,\u001B[0m \u001B[0msigned\u001B[0m\u001B[0;34m=\u001B[0m\u001B[0;32mFalse\u001B[0m\u001B[0;34m,\u001B[0m \u001B[0mversion\u001B[0m\u001B[0;34m=\u001B[0m\u001B[0mBaseClient\u001B[0m\u001B[0;34m.\u001B[0m\u001B[0mPUBLIC_API_VERSION\u001B[0m\u001B[0;34m,\u001B[0m \u001B[0;34m**\u001B[0m\u001B[0mkwargs\u001B[0m\u001B[0;34m)\u001B[0m\u001B[0;34m:\u001B[0m\u001B[0;34m\u001B[0m\u001B[0;34m\u001B[0m\u001B[0m\n\u001B[0;32m-> 7344\u001B[0;31m         \u001B[0;32mreturn\u001B[0m \u001B[0;32mawait\u001B[0m \u001B[0mself\u001B[0m\u001B[0;34m.\u001B[0m\u001B[0m_request_api\u001B[0m\u001B[0;34m(\u001B[0m\u001B[0;34m'get'\u001B[0m\u001B[0;34m,\u001B[0m \u001B[0mpath\u001B[0m\u001B[0;34m,\u001B[0m \u001B[0msigned\u001B[0m\u001B[0;34m,\u001B[0m \u001B[0mversion\u001B[0m\u001B[0;34m,\u001B[0m \u001B[0;34m**\u001B[0m\u001B[0mkwargs\u001B[0m\u001B[0;34m)\u001B[0m\u001B[0;34m\u001B[0m\u001B[0;34m\u001B[0m\u001B[0m\n\u001B[0m\u001B[1;32m   7345\u001B[0m \u001B[0;34m\u001B[0m\u001B[0m\n\u001B[1;32m   7346\u001B[0m     \u001B[0;32masync\u001B[0m \u001B[0;32mdef\u001B[0m \u001B[0m_post\u001B[0m\u001B[0;34m(\u001B[0m\u001B[0mself\u001B[0m\u001B[0;34m,\u001B[0m \u001B[0mpath\u001B[0m\u001B[0;34m,\u001B[0m \u001B[0msigned\u001B[0m\u001B[0;34m=\u001B[0m\u001B[0;32mFalse\u001B[0m\u001B[0;34m,\u001B[0m \u001B[0mversion\u001B[0m\u001B[0;34m=\u001B[0m\u001B[0mBaseClient\u001B[0m\u001B[0;34m.\u001B[0m\u001B[0mPUBLIC_API_VERSION\u001B[0m\u001B[0;34m,\u001B[0m \u001B[0;34m**\u001B[0m\u001B[0mkwargs\u001B[0m\u001B[0;34m)\u001B[0m \u001B[0;34m->\u001B[0m \u001B[0mDict\u001B[0m\u001B[0;34m:\u001B[0m\u001B[0;34m\u001B[0m\u001B[0;34m\u001B[0m\u001B[0m\n",
      "\u001B[0;32m/usr/local/lib/python3.8/dist-packages/binance/client.py\u001B[0m in \u001B[0;36m_request_api\u001B[0;34m(self, method, path, signed, version, **kwargs)\u001B[0m\n\u001B[1;32m   7305\u001B[0m     \u001B[0;32masync\u001B[0m \u001B[0;32mdef\u001B[0m \u001B[0m_request_api\u001B[0m\u001B[0;34m(\u001B[0m\u001B[0mself\u001B[0m\u001B[0;34m,\u001B[0m \u001B[0mmethod\u001B[0m\u001B[0;34m,\u001B[0m \u001B[0mpath\u001B[0m\u001B[0;34m,\u001B[0m \u001B[0msigned\u001B[0m\u001B[0;34m=\u001B[0m\u001B[0;32mFalse\u001B[0m\u001B[0;34m,\u001B[0m \u001B[0mversion\u001B[0m\u001B[0;34m=\u001B[0m\u001B[0mBaseClient\u001B[0m\u001B[0;34m.\u001B[0m\u001B[0mPUBLIC_API_VERSION\u001B[0m\u001B[0;34m,\u001B[0m \u001B[0;34m**\u001B[0m\u001B[0mkwargs\u001B[0m\u001B[0;34m)\u001B[0m\u001B[0;34m:\u001B[0m\u001B[0;34m\u001B[0m\u001B[0;34m\u001B[0m\u001B[0m\n\u001B[1;32m   7306\u001B[0m         \u001B[0muri\u001B[0m \u001B[0;34m=\u001B[0m \u001B[0mself\u001B[0m\u001B[0;34m.\u001B[0m\u001B[0m_create_api_uri\u001B[0m\u001B[0;34m(\u001B[0m\u001B[0mpath\u001B[0m\u001B[0;34m,\u001B[0m \u001B[0msigned\u001B[0m\u001B[0;34m,\u001B[0m \u001B[0mversion\u001B[0m\u001B[0;34m)\u001B[0m\u001B[0;34m\u001B[0m\u001B[0;34m\u001B[0m\u001B[0m\n\u001B[0;32m-> 7307\u001B[0;31m         \u001B[0;32mreturn\u001B[0m \u001B[0;32mawait\u001B[0m \u001B[0mself\u001B[0m\u001B[0;34m.\u001B[0m\u001B[0m_request\u001B[0m\u001B[0;34m(\u001B[0m\u001B[0mmethod\u001B[0m\u001B[0;34m,\u001B[0m \u001B[0muri\u001B[0m\u001B[0;34m,\u001B[0m \u001B[0msigned\u001B[0m\u001B[0;34m,\u001B[0m \u001B[0;34m**\u001B[0m\u001B[0mkwargs\u001B[0m\u001B[0;34m)\u001B[0m\u001B[0;34m\u001B[0m\u001B[0;34m\u001B[0m\u001B[0m\n\u001B[0m\u001B[1;32m   7308\u001B[0m \u001B[0;34m\u001B[0m\u001B[0m\n\u001B[1;32m   7309\u001B[0m     \u001B[0;32masync\u001B[0m \u001B[0;32mdef\u001B[0m \u001B[0m_request_futures_api\u001B[0m\u001B[0;34m(\u001B[0m\u001B[0mself\u001B[0m\u001B[0;34m,\u001B[0m \u001B[0mmethod\u001B[0m\u001B[0;34m,\u001B[0m \u001B[0mpath\u001B[0m\u001B[0;34m,\u001B[0m \u001B[0msigned\u001B[0m\u001B[0;34m=\u001B[0m\u001B[0;32mFalse\u001B[0m\u001B[0;34m,\u001B[0m \u001B[0;34m**\u001B[0m\u001B[0mkwargs\u001B[0m\u001B[0;34m)\u001B[0m \u001B[0;34m->\u001B[0m \u001B[0mDict\u001B[0m\u001B[0;34m:\u001B[0m\u001B[0;34m\u001B[0m\u001B[0;34m\u001B[0m\u001B[0m\n",
      "\u001B[0;32m/usr/local/lib/python3.8/dist-packages/binance/client.py\u001B[0m in \u001B[0;36m_request\u001B[0;34m(self, method, uri, signed, force_params, **kwargs)\u001B[0m\n\u001B[1;32m   7288\u001B[0m         \u001B[0;32masync\u001B[0m \u001B[0;32mwith\u001B[0m \u001B[0mgetattr\u001B[0m\u001B[0;34m(\u001B[0m\u001B[0mself\u001B[0m\u001B[0;34m.\u001B[0m\u001B[0msession\u001B[0m\u001B[0;34m,\u001B[0m \u001B[0mmethod\u001B[0m\u001B[0;34m)\u001B[0m\u001B[0;34m(\u001B[0m\u001B[0muri\u001B[0m\u001B[0;34m,\u001B[0m \u001B[0;34m**\u001B[0m\u001B[0mkwargs\u001B[0m\u001B[0;34m)\u001B[0m \u001B[0;32mas\u001B[0m \u001B[0mresponse\u001B[0m\u001B[0;34m:\u001B[0m\u001B[0;34m\u001B[0m\u001B[0;34m\u001B[0m\u001B[0m\n\u001B[1;32m   7289\u001B[0m             \u001B[0mself\u001B[0m\u001B[0;34m.\u001B[0m\u001B[0mresponse\u001B[0m \u001B[0;34m=\u001B[0m \u001B[0mresponse\u001B[0m\u001B[0;34m\u001B[0m\u001B[0;34m\u001B[0m\u001B[0m\n\u001B[0;32m-> 7290\u001B[0;31m             \u001B[0;32mreturn\u001B[0m \u001B[0;32mawait\u001B[0m \u001B[0mself\u001B[0m\u001B[0;34m.\u001B[0m\u001B[0m_handle_response\u001B[0m\u001B[0;34m(\u001B[0m\u001B[0mresponse\u001B[0m\u001B[0;34m)\u001B[0m\u001B[0;34m\u001B[0m\u001B[0;34m\u001B[0m\u001B[0m\n\u001B[0m\u001B[1;32m   7291\u001B[0m \u001B[0;34m\u001B[0m\u001B[0m\n\u001B[1;32m   7292\u001B[0m     \u001B[0;32masync\u001B[0m \u001B[0;32mdef\u001B[0m \u001B[0m_handle_response\u001B[0m\u001B[0;34m(\u001B[0m\u001B[0mself\u001B[0m\u001B[0;34m,\u001B[0m \u001B[0mresponse\u001B[0m\u001B[0;34m:\u001B[0m \u001B[0maiohttp\u001B[0m\u001B[0;34m.\u001B[0m\u001B[0mClientResponse\u001B[0m\u001B[0;34m)\u001B[0m\u001B[0;34m:\u001B[0m\u001B[0;34m\u001B[0m\u001B[0;34m\u001B[0m\u001B[0m\n",
      "\u001B[0;32m/usr/local/lib/python3.8/dist-packages/binance/client.py\u001B[0m in \u001B[0;36m_handle_response\u001B[0;34m(self, response)\u001B[0m\n\u001B[1;32m   7296\u001B[0m         \"\"\"\n\u001B[1;32m   7297\u001B[0m         \u001B[0;32mif\u001B[0m \u001B[0;32mnot\u001B[0m \u001B[0mstr\u001B[0m\u001B[0;34m(\u001B[0m\u001B[0mresponse\u001B[0m\u001B[0;34m.\u001B[0m\u001B[0mstatus\u001B[0m\u001B[0;34m)\u001B[0m\u001B[0;34m.\u001B[0m\u001B[0mstartswith\u001B[0m\u001B[0;34m(\u001B[0m\u001B[0;34m'2'\u001B[0m\u001B[0;34m)\u001B[0m\u001B[0;34m:\u001B[0m\u001B[0;34m\u001B[0m\u001B[0;34m\u001B[0m\u001B[0m\n\u001B[0;32m-> 7298\u001B[0;31m             \u001B[0;32mraise\u001B[0m \u001B[0mBinanceAPIException\u001B[0m\u001B[0;34m(\u001B[0m\u001B[0mresponse\u001B[0m\u001B[0;34m,\u001B[0m \u001B[0mresponse\u001B[0m\u001B[0;34m.\u001B[0m\u001B[0mstatus\u001B[0m\u001B[0;34m,\u001B[0m \u001B[0;32mawait\u001B[0m \u001B[0mresponse\u001B[0m\u001B[0;34m.\u001B[0m\u001B[0mtext\u001B[0m\u001B[0;34m(\u001B[0m\u001B[0;34m)\u001B[0m\u001B[0;34m)\u001B[0m\u001B[0;34m\u001B[0m\u001B[0;34m\u001B[0m\u001B[0m\n\u001B[0m\u001B[1;32m   7299\u001B[0m         \u001B[0;32mtry\u001B[0m\u001B[0;34m:\u001B[0m\u001B[0;34m\u001B[0m\u001B[0;34m\u001B[0m\u001B[0m\n\u001B[1;32m   7300\u001B[0m             \u001B[0;32mreturn\u001B[0m \u001B[0;32mawait\u001B[0m \u001B[0mresponse\u001B[0m\u001B[0;34m.\u001B[0m\u001B[0mjson\u001B[0m\u001B[0;34m(\u001B[0m\u001B[0;34m)\u001B[0m\u001B[0;34m\u001B[0m\u001B[0;34m\u001B[0m\u001B[0m\n",
      "\u001B[0;31mBinanceAPIException\u001B[0m: APIError(code=0): Service unavailable from a restricted location according to 'b. Eligibility' in https://www.binance.com/en/terms. Please contact customer service if you believe you received this message in error."
     ]
    }
   ],
   "source": [
    "socket = socket_manager().result()\n",
    "\n",
    "main().result()"
   ]
  },
  {
   "cell_type": "markdown",
   "source": [
    "Archived Interests"
   ],
   "metadata": {
    "collapsed": false
   }
  },
  {
   "cell_type": "code",
   "execution_count": null,
   "metadata": {
    "id": "Q49Hl1-7oNwv"
   },
   "outputs": [],
   "source": [
    "##THIS is overall i guess its bitcoins\n",
    "\n",
    "import requests\n",
    "\n",
    "url = \"https://fear-and-greed-index.p.rapidapi.com/v1/fgi\"\n",
    "\n",
    "headers = {\n",
    "    'x-rapidapi-host': \"fear-and-greed-index.p.rapidapi.com\",\n",
    "    'x-rapidapi-key': \"56c20be206msh6f859fcbad9eef4p1810efjsn69b5010a55d2\"\n",
    "    }\n",
    "\n",
    "response = requests.request(\"GET\", url, headers=headers)\n",
    "\n",
    "print(response.text)"
   ]
  },
  {
   "cell_type": "code",
   "execution_count": null,
   "metadata": {
    "id": "7J8hHJmNoTAN"
   },
   "outputs": [],
   "source": [
    "#I need to find fgi using macd at larger intervals & take the avg\n",
    "\n",
    "#get k-lines - dont just take closes, take opens,and avg . %of that two\n",
    "\n",
    "#overall macd should be used to say whether the market is bulling or bearish !!!....\n",
    "\n",
    "#async fc or keepAlive should do the job\n",
    "\n",
    "#also take coin fgi into consideration"
   ]
  },
  {
   "cell_type": "code",
   "execution_count": null,
   "metadata": {
    "id": "h4uFhw7Dn5ef"
   },
   "outputs": [],
   "source": [
    "df= income(1,1)\n",
    "print(df)\n",
    "df.groupby(by=['symbol']).sum()"
   ]
  },
  {
   "cell_type": "code",
   "execution_count": null,
   "metadata": {
    "id": "HOPpN0XzSfkF"
   },
   "outputs": [],
   "source": [
    "import subprocess\n",
    "\n",
    "proc = subprocess.Popen(\n",
    "            ic(),\n",
    "            shell=False,\n",
    "            stdout=subprocess.PIPE,\n",
    "        )\n",
    "\n",
    "while proc.poll() is None:\n",
    "   ic(proc.stdout.readline() + '<br/>\\n')"
   ]
  },
  {
   "cell_type": "markdown",
   "metadata": {
    "id": "x_vfb-Fl24-A"
   },
   "source": [
    "https://binance-docs.github.io/apidocs/futures/en/#20xx-processing-issues"
   ]
  },
  {
   "cell_type": "code",
   "execution_count": null,
   "metadata": {
    "id": "wD7oNIW7Twj-"
   },
   "outputs": [],
   "source": [
    "import sys\n",
    "\n",
    "with open(sys.stdout,'r') as f1:\n",
    "     c = f1.read()\n",
    "     ic(c)"
   ]
  },
  {
   "cell_type": "markdown",
   "metadata": {
    "id": "JGRfFxZ8xRli"
   },
   "source": [
    "Work Area"
   ]
  },
  {
   "cell_type": "code",
   "execution_count": null,
   "metadata": {
    "id": "3U0SL-gWqGqN"
   },
   "outputs": [],
   "source": [
    "!date"
   ]
  },
  {
   "cell_type": "code",
   "execution_count": null,
   "metadata": {
    "id": "RPW7tH5u_AYR"
   },
   "outputs": [],
   "source": [
    "!date"
   ]
  },
  {
   "cell_type": "code",
   "execution_count": null,
   "metadata": {
    "id": "uB28TJ4jqMyd"
   },
   "outputs": [],
   "source": [
    "income()"
   ]
  },
  {
   "cell_type": "code",
   "execution_count": null,
   "metadata": {
    "id": "LX2LSk4Bp3FW"
   },
   "outputs": [],
   "source": [
    "income(False,False)"
   ]
  },
  {
   "cell_type": "code",
   "execution_count": null,
   "metadata": {
    "id": "qqV3tnXLPCWT"
   },
   "outputs": [],
   "source": [
    "def get_macd(price, slow, fast, smooth):\n",
    "    exp1 = price.ewm(span = fast, adjust = False).mean() #properties of df\n",
    "    exp2 = price.ewm(span = slow, adjust = False).mean()\n",
    "    df = pd.DataFrame()\n",
    "    df['price'] = price\n",
    "    df['macd'] = exp1 - exp2\n",
    "    df['signal'] = df['macd'].ewm(span = smooth, adjust = False).mean()\n",
    "    df['hist'] = df['macd'] - df['signal']\n",
    "    return df\n",
    "\n",
    "cd = pd.DataFrame(CLOSES)\n",
    "mac1 = get_macd(cd, 26, 12, 9)"
   ]
  },
  {
   "cell_type": "code",
   "execution_count": null,
   "metadata": {
    "id": "Hr2lSW_rRvN4"
   },
   "outputs": [],
   "source": [
    "import multiprocessing #standard in python 3\n",
    "from threading import enumerate\n",
    "\n",
    "print(multiprocessing.cpu_count())\n",
    "ic(threading.active_count())\n",
    "\n",
    "for thread in enumerate(): \n",
    "    print(thread.name)\n",
    "\n"
   ]
  },
  {
   "cell_type": "code",
   "execution_count": null,
   "metadata": {
    "id": "ATlFeVVCdXKl"
   },
   "outputs": [],
   "source": [
    "p = lambda x : print(\"SDSD\")\n",
    "def timeIT(fc,*args):\n",
    "  k=[]\n",
    "  for i in range(1000):\n",
    "    x = time.time()\n",
    "    y = time.time()\n",
    "    fc(*args)\n",
    "    k.append(x-y)\n",
    "  z = np.array(k).mean()\n",
    "  ic(fc.__name__,'took',z)\n",
    "  return z\n",
    "\n",
    "# timeIT(p)\n",
    "cd = pd.DataFrame(CLOSES)\n",
    "timeIT(get_macd,cd,26,12,9)\n",
    "timeIT(talib.MACD,CLOSES,12,26,9) #Talib is faster apparently..."
   ]
  },
  {
   "cell_type": "code",
   "execution_count": null,
   "metadata": {
    "id": "34DUVy5EoDjJ"
   },
   "outputs": [],
   "source": [
    "def async_run(fc):\n",
    "  def inner(*args,**kwargs):\n",
    "    coroutine = fc(*args,**kwargs)\n",
    "    try:\n",
    "        loop = asyncio.get_running_loop()\n",
    "    except RuntimeError:  \n",
    "        loop = None\n",
    "        log.debug('Starting new event loop')\n",
    "        asyncio.run(coroutine)\n",
    "    else:\n",
    "        log.debug('Async event loop already running. Adding coroutine to the event loop.')\n",
    "        tsk = loop.create_task(coroutine)\n",
    "        tsk.add_done_callback(lambda t: print(f'Task done with result={t.result()}'))\n",
    "  return inner"
   ]
  },
  {
   "cell_type": "code",
   "execution_count": null,
   "metadata": {
    "id": "Au4dudS5BnWL"
   },
   "outputs": [],
   "source": [
    "    # @unsync(cpu_bound=True)\n"
   ]
  },
  {
   "cell_type": "code",
   "execution_count": null,
   "metadata": {
    "id": "FfI6TpLims6G"
   },
   "outputs": [],
   "source": [
    "\n",
    "@async_run\n",
    "async def c(v):\n",
    "  while 1:\n",
    "    ic(v,122)\n",
    "    await asyncio.sleep(3)\n",
    "\n",
    "async def d(v):\n",
    "  print(v)\n"
   ]
  },
  {
   "cell_type": "code",
   "execution_count": null,
   "metadata": {
    "id": "KuM7eaz-nL6X"
   },
   "outputs": [],
   "source": [
    "c(1)"
   ]
  },
  {
   "cell_type": "code",
   "execution_count": null,
   "metadata": {
    "id": "uT5PWgDcumwk"
   },
   "outputs": [],
   "source": [
    "loop = asyncio.get_running_loop()"
   ]
  },
  {
   "cell_type": "code",
   "execution_count": null,
   "metadata": {
    "id": "qT2338ip_Vyz"
   },
   "outputs": [],
   "source": []
  },
  {
   "cell_type": "code",
   "execution_count": null,
   "metadata": {
    "id": "E2H479TD8CBk"
   },
   "outputs": [],
   "source": [
    "c = CLOSES \n",
    "m,s,histogram = talib.MACD(c, fastperiod=12, slowperiod=26, signalperiod=9)\n",
    "frames = talib.MACD(c, fastperiod=12, slowperiod=26, signalperiod=9)\n",
    "# df = pd.concat([m,s,histogram], join = 'inner', axis = 1)\n",
    "df = pd.DataFrame(frames).transpose()\n",
    "df.columns = ['macd','signal','histogram']\n",
    "# df.dropna(inplace=True)\n",
    "df\n",
    "\n",
    "\n",
    "# m,s = df.iloc[0,:2]\n",
    "\n",
    "# net = m-s\n",
    "# if m>]\n",
    "\n",
    "# prev_net = net\n",
    "# net = m-s\n",
    " "
   ]
  },
  {
   "cell_type": "markdown",
   "metadata": {
    "id": "n63e3MpFBA-6"
   },
   "source": [
    "Ploting macd plus our Strategy"
   ]
  },
  {
   "cell_type": "code",
   "execution_count": null,
   "metadata": {
    "id": "9B_YMvO4YVxm"
   },
   "outputs": [],
   "source": [
    "def implement_macd_strategy(prices, data):    #for ploting\n",
    "    buy_price = []\n",
    "    sell_price = []\n",
    "    macd_signal = []\n",
    "    signal = 0\n",
    "\n",
    "    for i in range(len(data)):\n",
    "        if data['macd'][i] > data['signal'][i]:\n",
    "            if signal != 1:\n",
    "                buy_price.append(prices[i])\n",
    "                sell_price.append(np.nan)\n",
    "                signal = 1\n",
    "                macd_signal.append(signal)\n",
    "            else:\n",
    "                buy_price.append(np.nan)\n",
    "                sell_price.append(np.nan)\n",
    "                macd_signal.append(0)\n",
    "        elif data['macd'][i] < data['signal'][i]:\n",
    "            if signal != -1:\n",
    "                buy_price.append(np.nan)\n",
    "                sell_price.append(prices[i])\n",
    "                signal = -1\n",
    "                macd_signal.append(signal)\n",
    "            else:\n",
    "                buy_price.append(np.nan)\n",
    "                sell_price.append(np.nan)\n",
    "                macd_signal.append(0)\n",
    "        else:\n",
    "            buy_price.append(np.nan)\n",
    "            sell_price.append(np.nan)\n",
    "            macd_signal.append(0)\n",
    "            \n",
    "    return buy_price, sell_price, macd_signal\n",
    "            \n",
    "buy_price, sell_price, macd_signal = MACDStrategy(df['price'], df)\n"
   ]
  },
  {
   "cell_type": "code",
   "execution_count": null,
   "metadata": {
    "id": "RLwqc0TUMf_2"
   },
   "outputs": [],
   "source": [
    "import matplotlib.pyplot as plt \n",
    "\n",
    "\n",
    "plt.rcParams['figure.figsize'] = (10, 10)\n",
    "plt.style.use('fivethirtyeight')\n",
    "\n",
    "def plot_macd(prices, macd, signal, hist):\n",
    "    ax1 = plt.subplot2grid((8,1), (0,0), rowspan = 5, colspan = 1)\n",
    "    ax2 = plt.subplot2grid((8,1), (5,0), rowspan = 3, colspan = 1)\n",
    "\n",
    "    ax1.plot(prices)\n",
    "    ax2.plot(macd, color = 'grey', linewidth = 1.5, label = 'MACD')\n",
    "    ax2.plot(signal, color = 'skyblue', linewidth = 1.5, label = 'SIGNAL')\n",
    "\n",
    "    for i in range(len(prices)):\n",
    "        if hist[i]<0:\n",
    "            ax2.bar(prices.index[i], hist[i], color = '#ef5350')\n",
    "        else:\n",
    "            ax2.bar(prices.index[i], hist[i], color = '#26a69a')\n",
    "\n",
    "    plt.legend(loc = 'lower right')\n",
    "df = mac1\n",
    "l = [df[i].to_list() for i in df.columns][1:]\n",
    "plot_macd(df['price'],*l)\n"
   ]
  },
  {
   "cell_type": "code",
   "execution_count": null,
   "metadata": {
    "id": "6wZTk0TQZbXp"
   },
   "outputs": [],
   "source": [
    "ax1 = plt.subplot2grid((8,1), (0,0), rowspan = 5, colspan = 1)\n",
    "ax2 = plt.subplot2grid((8,1), (5,0), rowspan = 3, colspan = 1)\n",
    "\n",
    "ax1.plot(df['price'], color = 'skyblue', linewidth = 2, label = 'price')\n",
    "ax1.plot(df.index, buy_price, marker = '^', color = 'green', markersize = 10, label = 'BUY SIGNAL', linewidth = 0)\n",
    "ax1.plot(df.index, sell_price, marker = 'v', color = 'r', markersize = 10, label = 'SELL SIGNAL', linewidth = 0)\n",
    "ax1.legend()\n",
    "ax1.set_title('df MACD SIGNALS')\n",
    "ax2.plot(df['macd'], color = 'grey', linewidth = 1.5, label = 'MACD')\n",
    "ax2.plot(df['signal'], color = 'skyblue', linewidth = 1.5, label = 'SIGNAL')\n",
    "\n",
    "for i in range(len(df)):\n",
    "    if str(df['hist'][i])[0] == '-':\n",
    "        ax2.bar(df.index[i], df['hist'][i], color = '#ef5350')\n",
    "    else:\n",
    "        ax2.bar(df.index[i], df['hist'][i], color = '#26a69a')\n",
    "        \n",
    "plt.legend(loc = 'lower right')\n",
    "plt.show()"
   ]
  },
  {
   "cell_type": "code",
   "execution_count": null,
   "metadata": {
    "id": "v3je5LhjW5L9"
   },
   "outputs": [],
   "source": [
    "df['price'].tail()"
   ]
  },
  {
   "cell_type": "code",
   "execution_count": null,
   "metadata": {
    "id": "cIQotc4YV-jr"
   },
   "outputs": [],
   "source": [
    "df"
   ]
  },
  {
   "cell_type": "code",
   "execution_count": null,
   "metadata": {
    "id": "mCZTl8NYu5YT"
   },
   "outputs": [],
   "source": [
    "positions()"
   ]
  },
  {
   "cell_type": "code",
   "execution_count": null,
   "metadata": {
    "id": "9TxJSPhUQUW0"
   },
   "outputs": [],
   "source": [
    "while 1:\n",
    "  print(positions()['unRealizedProfit'].sum())\n",
    "  time.sleep(5)\n"
   ]
  },
  {
   "cell_type": "code",
   "execution_count": null,
   "metadata": {
    "id": "jn6p4Asy66qq"
   },
   "outputs": [],
   "source": [
    "# try:\n",
    "#   loop = asyncio.get_running_loop()\n",
    "#   main().result()\n",
    "# except Exception as e:\n",
    "#   lp = asyncio.get_event_loop()\n",
    "#   # lp.stop()\n",
    "#   print('Crash')\n",
    "#   # loop.stop()`\n",
    "#   print(e)"
   ]
  },
  {
   "cell_type": "markdown",
   "metadata": {
    "id": "mqGgzdAjV17B"
   },
   "source": [
    "https://www.shanelynn.ie/using-python-threading-for-multiple-results-queue/\n",
    "https://stackoverflow.com/questions/20056300/python-print-output-of-each-thread-to-seperate-file-no-processes"
   ]
  },
  {
   "cell_type": "code",
   "execution_count": null,
   "metadata": {
    "id": "WRs9DbghFTIL"
   },
   "outputs": [],
   "source": [
    "#https://medium.com/codex/algorithmic-trading-with-macd-in-python-1c2769a6ad1b"
   ]
  },
  {
   "cell_type": "code",
   "execution_count": null,
   "metadata": {
    "id": "KdIG2MiH8JKR"
   },
   "outputs": [],
   "source": [
    "# bearish when macd <0\n",
    "#bullish macd crosses >0\n"
   ]
  },
  {
   "cell_type": "code",
   "execution_count": null,
   "metadata": {
    "id": "Tq9EEdKU8Baa"
   },
   "outputs": [],
   "source": [
    "#bearosj macd croses  bellow signal line"
   ]
  },
  {
   "cell_type": "code",
   "execution_count": null,
   "metadata": {
    "id": "7RxUCaxt44up"
   },
   "outputs": [],
   "source": [
    "# try:\n",
    "#     loop = asyncio.get_running_loop()\n",
    "# except RuntimeError:  # 'RuntimeError: There is no current event loop...'\n",
    "#     loop = None\n",
    "\n",
    "# if loop and loop.is_running():\n",
    "#     print('Async event loop already running. Adding coroutine to the event loop.')\n",
    "#     tsk = loop.create_task(main())\n",
    "#     # ^-- https://docs.python.org/3/library/asyncio-task.html#task-object\n",
    "#     # Optionally, a callback function can be executed when the coroutine completes\n",
    "#     tsk.add_done_callback(\n",
    "#         lambda t: print(f'Task done with result={t.result()}  << return val of main()'))\n",
    "# else:\n",
    "#     print('Starting new event loop')\n",
    "#     asyncio.run(main())"
   ]
  },
  {
   "cell_type": "code",
   "execution_count": null,
   "metadata": {
    "id": "xQW9oa0yOXdK"
   },
   "outputs": [],
   "source": [
    "#  miniticker_socket(self, update_time: int = 1000):\n",
    "  # aggtrade_socket(\n",
    "  #     symbol_ticker_socket(self, symbol: str):\n",
    "  #     ticker_socket(self):\n",
    "  #         def index_price_socket(self, symbol: str, fast: bool = True):\n"
   ]
  },
  {
   "cell_type": "markdown",
   "metadata": {
    "id": "0j0elZ7XhEEv"
   },
   "source": [
    "Prediction\n"
   ]
  },
  {
   "cell_type": "code",
   "execution_count": null,
   "metadata": {
    "id": "6oBktNCupqlB"
   },
   "outputs": [],
   "source": [
    "from fbprophet import Prophet\n",
    "\n",
    "\n",
    "def predict(df,freq='1',period=60,mode='L',his=True):\n",
    "  d = {'L':'linear','log':'logistic'}\n",
    "  m = Prophet(growth=d.get(mode),daily_seasonality=True)\n",
    "\n",
    "  m.fit(df)\n",
    "  fut = m.make_future_dataframe(periods=period,freq=f'{freq}min',include_history=his)\n",
    "  fore = m.predict(fut)\n",
    "  fore['ds']  = fore['ds'].values.tolist()\n",
    "  return fore"
   ]
  },
  {
   "cell_type": "markdown",
   "metadata": {
    "id": "kfKCSpFWDKys"
   },
   "source": [
    "Historical "
   ]
  },
  {
   "cell_type": "code",
   "execution_count": null,
   "metadata": {
    "id": "yR6KnpdodrFi"
   },
   "outputs": [],
   "source": [
    "import numpy as np\n",
    "\n",
    "df=history('BTC','1m','1 day ago')\n",
    "# df['date']  = pd.to_datetime(df['date']).dt.time\n",
    "make_history(df)\n",
    "\n",
    "# make_history(df)\n",
    "\n",
    "# df['ds'] = df['ds'].apply(lambda x: pd.Timestamp(x))\n",
    "# df['ts'] = df.ds.values.astype(np.int64) "
   ]
  },
  {
   "cell_type": "code",
   "execution_count": null,
   "metadata": {
    "id": "2kXciE8c2Ifm"
   },
   "outputs": [],
   "source": [
    "df['ds'] = df.ds.values.tolist()"
   ]
  },
  {
   "cell_type": "code",
   "execution_count": null,
   "metadata": {
    "id": "tahb7x0c2PAZ"
   },
   "outputs": [],
   "source": [
    "df.loc[df['ds']==1642402980000000000]"
   ]
  },
  {
   "cell_type": "code",
   "execution_count": null,
   "metadata": {
    "id": "QH2U1Bl0mvmL"
   },
   "outputs": [],
   "source": [
    "ff = predict(df,1,100,his=False)\n",
    "# ff['ds']=pd.to_datetime(df['ds']).dt.time\n",
    "ff\n",
    "tr\n"
   ]
  },
  {
   "cell_type": "code",
   "execution_count": null,
   "metadata": {
    "id": "jnSX-SLBr9q_"
   },
   "outputs": [],
   "source": [
    "!date"
   ]
  },
  {
   "cell_type": "code",
   "execution_count": null,
   "metadata": {
    "id": "uHg1DG54eD-z"
   },
   "outputs": [],
   "source": [
    "df[1440:]"
   ]
  },
  {
   "cell_type": "code",
   "execution_count": null,
   "metadata": {
    "id": "QohWR9f3R_Y7"
   },
   "outputs": [],
   "source": [
    "xf=history('EOS','1m','1 day ago')\n",
    "make_history(xf)\n",
    "predict(xf)"
   ]
  },
  {
   "cell_type": "code",
   "execution_count": null,
   "metadata": {
    "id": "_xSCtUVB_9pq"
   },
   "outputs": [],
   "source": [
    "x = df['ds'].iloc[1] -today()\n",
    "x"
   ]
  },
  {
   "cell_type": "code",
   "execution_count": null,
   "metadata": {
    "id": "88zZLG4gL4A0"
   },
   "outputs": [],
   "source": [
    "#Streaming\n",
    "\n",
    "def listenKey(key=None,op=0):\n",
    "  if op: return client.futures_stream_close(key)\n",
    "  elif key==None:return client.futures_stream_get_listen_key()\n",
    "  return client.futures_stream_keepalive(key)\n"
   ]
  },
  {
   "cell_type": "code",
   "execution_count": null,
   "metadata": {
    "id": "byH8WsoFmNiW"
   },
   "outputs": [],
   "source": [
    "predict(df)"
   ]
  },
  {
   "cell_type": "code",
   "execution_count": null,
   "metadata": {
    "id": "gC5KzSw6U4Qr"
   },
   "outputs": [],
   "source": [
    "predict(xf)"
   ]
  },
  {
   "cell_type": "code",
   "execution_count": null,
   "metadata": {
    "id": "38NYbYtmVa5G"
   },
   "outputs": [],
   "source": [
    "m = Prophet(daily_seasonality=True)\n",
    "m.fit(df)\n",
    "fut = m.make_future_dataframe(periods=20,freq=f'{1}min',include_history=True)\n",
    "fore = m.predict(fut)\n",
    "fore.tail()"
   ]
  },
  {
   "cell_type": "code",
   "execution_count": null,
   "metadata": {
    "id": "oUpuRdwzfHQU"
   },
   "outputs": [],
   "source": [
    "\n",
    "m.plot(fore); #close->low "
   ]
  },
  {
   "cell_type": "code",
   "execution_count": null,
   "metadata": {
    "id": "Psw5cBatfQrk"
   },
   "outputs": [],
   "source": [
    "m.plot(fore); "
   ]
  },
  {
   "cell_type": "code",
   "execution_count": null,
   "metadata": {
    "id": "mwqBJP6AoOkh"
   },
   "outputs": [],
   "source": [
    "m.plot(fore,figsize=(20,8));"
   ]
  },
  {
   "cell_type": "code",
   "execution_count": null,
   "metadata": {
    "id": "pv4OnatPnUa_"
   },
   "outputs": [],
   "source": [
    "m.plot(fore,figsize=(20,8)); #linear"
   ]
  },
  {
   "cell_type": "code",
   "execution_count": null,
   "metadata": {
    "id": "eD0yFyR0m1Ez"
   },
   "outputs": [],
   "source": [
    "m.plot(fore);"
   ]
  },
  {
   "cell_type": "code",
   "execution_count": null,
   "metadata": {
    "id": "NGY0CRSflgCA"
   },
   "outputs": [],
   "source": [
    "m.plot_components(fore);"
   ]
  },
  {
   "cell_type": "code",
   "execution_count": null,
   "metadata": {
    "id": "XdBJUdh2qjBW"
   },
   "outputs": [],
   "source": []
  },
  {
   "cell_type": "code",
   "execution_count": null,
   "metadata": {
    "id": "pZ08kfl6heYv"
   },
   "outputs": [],
   "source": [
    "fore[len(df):][['yhat','yhat_lower','yhat_upper','ds']]"
   ]
  },
  {
   "cell_type": "code",
   "execution_count": 54,
   "metadata": {
    "id": "CxWjxCwZ-fin"
   },
   "outputs": [],
   "source": [
    "%magic"
   ]
  },
  {
   "cell_type": "markdown",
   "metadata": {
    "id": "VPaeI1yTBZzy"
   },
   "source": [
    "Bibiliography\n",
    "\n",
    "https://github.com/sammchardy/python-binance/blob/master/binance/client.py\n",
    "\n",
    "https://colab.research.dfe.com/drive/1knvw5uUReCjrN7dbZNP-OzYs1OY5Mmc4#scrollTo=y_RiMszHFCZ_\n",
    "\n",
    "https://algotrading101.com/learn/binance-python-api-guide/\n",
    "\n",
    "https://medium.com/analytics-vidhya/futures-trading-with-python-binance-d738c71e17b5\n",
    "\n",
    "https://binance-docs.github.io/apidocs/futures/en/#new-future-account-transfer\n",
    "\n",
    "https://readthedocs.org/projects/python-binance/downloads/pdf/latest/\n",
    "\n",
    "\n",
    "https://testnet.binancefuture.com/en/futures/BTCUSDT\n",
    "\n",
    "\n"
   ]
  }
 ],
 "metadata": {
  "colab": {
   "provenance": []
  },
  "kernelspec": {
   "display_name": "Python 3",
   "name": "python3"
  },
  "language_info": {
   "name": "python"
  }
 },
 "nbformat": 4,
 "nbformat_minor": 0
}
