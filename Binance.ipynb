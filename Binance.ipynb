{
 "cells": [
  {
   "cell_type": "code",
   "execution_count": 1,
   "metadata": {
    "id": "LRJ6xDOsdkMN"
   },
   "outputs": [],
   "source": [
    "  %%capture\n",
    "%%shell\n",
    "wget http://prdownloads.sourceforge.net/ta-lib/ta-lib-0.4.0-src.tar.gz\n",
    "tar -xzf ta-lib-0.4.0-src.tar.gz\n",
    "cd ta-lib\n",
    "sudo ./configure\n",
    "sudo make\n",
    "sudo make ll\n",
    "pip install TA-Lib  python-binance  unsync icecream #pystan==2.19.1.1 prophet "
   ]
  },
  {
   "cell_type": "code",
   "execution_count": 7,
   "metadata": {
    "id": "MhHQIFci6jVh"
   },
   "outputs": [
    {
     "ename": "ModuleNotFoundError",
     "evalue": "No module named 'unsync'",
     "output_type": "error",
     "traceback": [
      "\u001B[0;31m---------------------------------------------------------------------------\u001B[0m",
      "\u001B[0;31mModuleNotFoundError\u001B[0m                       Traceback (most recent call last)",
      "\u001B[0;32m/var/folders/44/nbbyll_10jd0z8rj_qxm43740000gn/T/ipykernel_26499/2026004390.py\u001B[0m in \u001B[0;36m<module>\u001B[0;34m\u001B[0m\n\u001B[1;32m      4\u001B[0m \u001B[0;32mimport\u001B[0m \u001B[0mtime\u001B[0m\u001B[0;34m\u001B[0m\u001B[0;34m\u001B[0m\u001B[0m\n\u001B[1;32m      5\u001B[0m \u001B[0;32mimport\u001B[0m \u001B[0masyncio\u001B[0m\u001B[0;34m\u001B[0m\u001B[0;34m\u001B[0m\u001B[0m\n\u001B[0;32m----> 6\u001B[0;31m \u001B[0;32mimport\u001B[0m \u001B[0munsync\u001B[0m\u001B[0;34m\u001B[0m\u001B[0;34m\u001B[0m\u001B[0m\n\u001B[0m\u001B[1;32m      7\u001B[0m \u001B[0;32mfrom\u001B[0m \u001B[0mqueue\u001B[0m \u001B[0;32mimport\u001B[0m \u001B[0mQueue\u001B[0m\u001B[0;34m\u001B[0m\u001B[0;34m\u001B[0m\u001B[0m\n\u001B[1;32m      8\u001B[0m \u001B[0;32mimport\u001B[0m \u001B[0mlogging\u001B[0m \u001B[0;32mas\u001B[0m \u001B[0mlog\u001B[0m\u001B[0;34m\u001B[0m\u001B[0;34m\u001B[0m\u001B[0m\n",
      "\u001B[0;31mModuleNotFoundError\u001B[0m: No module named 'unsync'"
     ]
    }
   ],
   "source": [
    "import pandas as pd\n",
    "import numpy as np\n",
    "import talib\n",
    "import time\n",
    "import asyncio\n",
    "import unsync\n",
    "from queue import Queue \n",
    "import logging as log\n",
    "import logging.config as log_config\n",
    "from dask import delayed,compute\n",
    "from icecream import ic #use install to install in all modules\n",
    "from unsync import unsync\n",
    "import math"
   ]
  },
  {
   "cell_type": "code",
   "execution_count": null,
   "metadata": {
    "id": "_xwh-pFliJgX"
   },
   "outputs": [],
   "source": [
    "def today():\n",
    "  from datetime import datetime as dt\n",
    "  x = dt.now()\n",
    "  x = x.replace(second=0,microsecond=0)\n",
    "  return x\n",
    "\n",
    "def deltaTime(min=1,sec=0):\n",
    "  from datetime import timedelta as td\n",
    "  return td(minutes=min,seconds=sec)\n",
    "\n",
    "def futureTime(date=today(),min=1):\n",
    " return date+deltaTime(min)\n",
    " \n",
    "pluck = lambda dict, *args: (dict[arg] for arg in args)\n",
    "\n",
    "filter_df = lambda df,cln,val: df.loc[df[cln]==val]\n",
    "pluck_row = lambda row,*clns: [row[cln].iloc[0] for cln in clns]\n",
    "drop_cols = lambda df,*clns:df.drop(list(clns),axis=True,inplace=True) \n",
    "num_col = lambda col: pd.to_numeric(col) \n",
    "to_date = lambda col: pd.to_datetime(col,unit='ms')"
   ]
  },
  {
   "cell_type": "code",
   "execution_count": null,
   "metadata": {
    "id": "Itilz4ncM49e"
   },
   "outputs": [],
   "source": [
    "#https://docs.python.org/3/library/logging.config.html\n",
    "x = '''\n",
    "[loggers]\n",
    "keys=root,binanceLogger\n",
    "\n",
    "[handlers]\n",
    "keys=consoleHandler,fileHandler,fileHandler2\n",
    "\n",
    "[formatters]\n",
    "keys=sampleFormatter\n",
    "\n",
    "[logger_root]\n",
    "level=INFO\n",
    "handlers=consoleHandler,fileHandler\n",
    "\n",
    "[logger_binanceLogger]\n",
    "level=INFO\n",
    "handlers=fileHandler2\n",
    "qualname=binanceLogger\n",
    "propagate=0\n",
    "\n",
    "[handler_consoleHandler]\n",
    "class=StreamHandler\n",
    "level=INFO\n",
    "formatter=sampleFormatter\n",
    "args=(sys.stdout,)\n",
    "\n",
    "[handler_fileHandler]\n",
    "class=FileHandler\n",
    "level=DEBUG\n",
    "formatter=sampleFormatter\n",
    "args=('bot.log','a')\n",
    "\n",
    "[handler_fileHandler2]\n",
    "class=FileHandler\n",
    "level=INFO\n",
    "formatter=sampleFormatter\n",
    "args=('bince.log','a')\n",
    "\n",
    "[formatter_sampleFormatter]\n",
    "format=%(asctime)s - %(levelname)s - %(message)s\n",
    "datefmt='%m/%d/%Y %H:%M:%S'\n",
    "'''\n",
    "with open('file.conf','w') as f1: f1.write(x)"
   ]
  },
  {
   "cell_type": "code",
   "execution_count": null,
   "metadata": {
    "id": "xudkBWusJ7sj"
   },
   "outputs": [],
   "source": [
    "def info(s):\n",
    "  log.info(f'{s}')\n",
    "\n",
    "def prefix_time():\n",
    "  return f\"{time.strftime('%X')}\"\n",
    "\n",
    "# log.basicConfig(filename='app.log', filemode='w', format='%(asctime)s %(process)d %(name)s - %(levelname)s - %(message)s ', datefmt='%d-%b-%y %H:%M:%S',level=log.INFO)\n",
    "# log.basicConfig(level=log.INFO)\n",
    "ic.configureOutput(prefix=prefix_time,outputFunction=info,includeContext=False)\n",
    "# ic.configureOutput(outputFunction=info)\n",
    "log_config.fileConfig(fname='file.conf', disable_existing_loggers=False) #Auto calles basicConfig and mods \n",
    "bLog = log.getLogger('binanceLogger')"
   ]
  },
  {
   "cell_type": "code",
   "execution_count": null,
   "metadata": {
    "id": "R4Oa00sGTJU0"
   },
   "outputs": [],
   "source": [
    "from threading import Thread, enumerate as threads, current_thread,Lock\n",
    "from multiprocessing import Process\n",
    "\n",
    "def keepAlive(fc):\n",
    "    def inner(*args):\n",
    "        t = Thread(name=fc.__name__, target=fc, args=args, daemon=True)\n",
    "        t.start()\n",
    "    return inner\n",
    "\n",
    "def undead(fc):\n",
    "    def inner(*args):\n",
    "        p = Process(name=fc.__name__, target=fc, args=args, daemon=True)\n",
    "        p.start()\n",
    "    return inner"
   ]
  },
  {
   "cell_type": "code",
   "execution_count": null,
   "metadata": {
    "id": "OdZTNN12_HdB"
   },
   "outputs": [],
   "source": [
    "class Socket():\n",
    "\n",
    "  async def trade_socket(self,type='F'):\n",
    "    crypto = self.SYMBOL\n",
    "    if type=='F':\n",
    "      conn = socket.aggtrade_futures_socket(crypto)\n",
    "    elif type =='S':\n",
    "      conn = socket.trade_socket(crypto)\n",
    "    elif type=='SA' :\n",
    "      conn = socket.aggtrade_socket(crypto)\n",
    "    return conns\n",
    "\n",
    "  async def kline_socket(self,interval='1m',type='F'):\n",
    "    d = {'symbol':self.SYMBOL,'interval':interval}\n",
    "    if type=='S': return socket.kline_socket(**d) \n",
    "    return socket.kline_futures_socket(**d)\n",
    "\n",
    "  async def market_socket(self):  \n",
    "    return socket.symbol_mark_price_socket(self.SYMBOL) \n",
    "    \n",
    "class SocketHandler():\n",
    "    async def handle_socket(self,msg):\n",
    "        d = msg['data']\n",
    "        S,T,p = pluck(d,'s','E','p')\n",
    "        p = float(p)\n",
    "        self.CLOSES = np.append(self.CLOSES,p) \n",
    "        self.MACDStrategy(p,12,26,9)\n",
    "\n",
    "    async def socket_handler(self,conn,handler,y):\n",
    "        async with conn as SM:\n",
    "            i=0\n",
    "            while i<y:\n",
    "              try:\n",
    "                res = await SM.recv()\n",
    "              except:\n",
    "                log.debug('Already SM')\n",
    "              else:\n",
    "                await handler(res)\n",
    "              i+=1\n",
    "                # asyncio.sleep(1)\n",
    "            # await ts.__aenter__().\n",
    "            # await ts.__aexit__(None, None, None)"
   ]
  },
  {
   "cell_type": "code",
   "execution_count": null,
   "metadata": {
    "id": "EWGaufAdJGVL"
   },
   "outputs": [],
   "source": [
    "class Position():\n",
    "  q,c = 0,0 # c is entry price, qis quantity\n",
    "  flag = True\n",
    "  def __init__(self,mode,crypto,profit,hedge=True,open_args={},close_args={},trend=math.inf): #basically take 0-long\n",
    "    self.pos = 'SHORT' if mode=='S' else 'LONG'\n",
    "    self.profit = profit\n",
    "    self.crypto = crypto\n",
    "    self.PRECISION = precision(crypto)\n",
    "    self.hedge = hedge\n",
    "    self.open_args= open_args\n",
    "    self.close_args = close_args\n",
    "    self.trend = 1\n",
    "    self.refresh()\n",
    "  def __call__(self):\n",
    "    print(self.status())\n",
    "  def status(self):\n",
    "    return self.q,self.c,self.pos\n",
    "  def __repr__(self):\n",
    "    return f'{self.status()}'\n",
    "  @property\n",
    "  def cost(self):\n",
    "    return self.c*self.q if self.q >0 else 0\n",
    "  def pnl(self,p,q=0):\n",
    "    q = q if q else self.q \n",
    "    net = (p-self.c)*q\n",
    "    if self.pos=='SHORT': return -net\n",
    "    return net\n",
    "  @delayed\n",
    "  def open(self,q,p=''):\n",
    "    if not (self.hedge and self.flag): return f\"{self.crypto} {self.pos} disabled\"\n",
    "    d = self.open_args\n",
    "    d['quantity'] = q\n",
    "    paras = ['price','profit','loss']\n",
    "    for i in paras:\n",
    "      if i in d: d[i]=d[i] or p\n",
    "    x = order(self.crypto,'OPEN',self.pos,**d) \n",
    "    self.refresh() \n",
    "    return x\n",
    "\n",
    "  @delayed\n",
    "  def close(self,p='',q='',**args):\n",
    "    d = self.close_args\n",
    "    d.update(args)\n",
    "    d['quantity'] = q or self.q\n",
    "    if p:\n",
    "      paras = ['price','profit','loss']\n",
    "      for i in paras:\n",
    "        if i in d: d[i]=p\n",
    "    x = order(self.crypto,'CLOSE',self.pos,**d)\n",
    "    self.refresh()\n",
    "    return x\n",
    "  @keepAlive\n",
    "  def refresh(self):\n",
    "    data = positions(self.crypto,self.pos)\n",
    "    self.q,self.c = pluck_row(data,'positionAmt','entryPrice')\n",
    "  def sell_signal(self,p,q=''):\n",
    "    return self.pnl(p,q)>=self.profit\n",
    "  @property\n",
    "  def liqPrice(self):\n",
    "     data = positions(self.crypto,self.pos)\n",
    "     liq = pluck_row(data,'liquidationPrice')\n",
    "     return liq \n",
    "  @property\n",
    "  def max_profit(self):\n",
    "      if self.q>0:\n",
    "        p = (self.profit*2)/self.q \n",
    "        p = self.c-p if self.pos=='SHORT' else self.c+p\n",
    "      else: return 0\n",
    "      return p\n",
    "    "
   ]
  },
  {
   "cell_type": "code",
   "execution_count": null,
   "metadata": {
    "id": "TMWCpZ4Sjx4N"
   },
   "outputs": [],
   "source": [
    "class Strategy():\n",
    "\n",
    "    rsi_q = Queue(100)\n",
    "    macd_q = Queue(100)\n",
    "\n",
    "    def RSIStrategy(self,price,period=14): \n",
    "\n",
    "      if self.CLOSES.size <=period: return \n",
    "\n",
    "      rsi = talib.RSI(self.CLOSES,period)\n",
    "      cur_rsi = rsi[-1]\n",
    "\n",
    "      self.rsi_q.put((price,cur_rsi))\n",
    "\n",
    "    @keepAlive\n",
    "    def rsing(self):\n",
    "      under,over = 20,80\n",
    "      signal = -1\n",
    "      while 1:\n",
    "        price,cur_rsi = self.rsi_q.get()\n",
    "        if cur_rsi <= under and signal !=0: \n",
    "          ic(\"OverSold\")\n",
    "          self.buys.put(price)\n",
    "          signal = 0\n",
    "        elif cur_rsi >= over and signal !=1:\n",
    "          ic(\"OverBought\")\n",
    "          self.sells.put(price)\n",
    "          signal = 1\n",
    "\n",
    "\n",
    "    def cur_macd(self,prices,fast,slow,signal): #talib is faster ...\n",
    "      macds = talib.MACD(prices, fastperiod=fast, slowperiod=slow, signalperiod=signal) #macd,signal,histogram\n",
    "      m,s,h = [macds[i][-1] for i in range(3)]\n",
    "      return m,s \n",
    "\n",
    "    def MACDStrategy(self,price,fast=12,slow=26,signal=9): #CLOSES must be updated..\n",
    "      macd,signal = self.cur_macd(self.CLOSES,fast,slow,signal)\n",
    "      self.macd_q.put((price,macd,signal))\n",
    "      \n",
    "    @keepAlive\n",
    "    def macding(self):    \n",
    "      signal = 0 # change quantity according to signal averaging method but avoid for now\n",
    "      while 1:\n",
    "          data = self.macd_q.get()\n",
    "          ic(f\"MACD {data}\")\n",
    "          p,m,s = data #pluck(data,'price','macd','signal')\n",
    "          if m > s:\n",
    "              if signal != 1:\n",
    "                  self.buys.put(p)\n",
    "                  signal=1\n",
    "          elif m < s:\n",
    "              if signal != -1:\n",
    "                  self.sells.put(p)   \n",
    "                  signal = -1"
   ]
  },
  {
   "cell_type": "code",
   "execution_count": null,
   "metadata": {
    "id": "U8cq-6LRjrlB"
   },
   "outputs": [],
   "source": [
    "class SignalHandler():\n",
    "\n",
    "    @keepAlive\n",
    "    def buying(self):\n",
    "      short = self.SHORT\n",
    "      long = self.LONG\n",
    "      while 1:\n",
    "        p = self.buys.get()\n",
    "        if short.sell_signal(p): closes.put([short.close(p),short])\n",
    "            \n",
    "        if long.flag: \n",
    "          if short.q>0 and short.c<p: continue\n",
    "          opens.put([long.open(self.AMOUNT,p),long]) \n",
    "    \n",
    "    @keepAlive\n",
    "    def selling(self):\n",
    "      short = self.SHORT\n",
    "      long = self.LONG\n",
    "      while 1:\n",
    "        s = self.sells.get()\n",
    "        if long.sell_signal(s): \n",
    "          closes.put([long.close(s),long])\n",
    "\n",
    "        if short.flag:\n",
    "          if long.q>0 and long.c>s: continue\n",
    "          opens.put([short.open(self.AMOUNT,s),short]) \n",
    "     "
   ]
  },
  {
   "cell_type": "code",
   "execution_count": null,
   "metadata": {
    "id": "sx0JNiFYJyqz"
   },
   "outputs": [],
   "source": [
    "closes = Queue(100)\n",
    "opens = Queue(100)\n",
    "\n",
    "@keepAlive\n",
    "def opening(): \n",
    "  while 1:\n",
    "      n,pos = opens.get()\n",
    "      try:  \n",
    "          x = n.compute()\n",
    "          # if pos.max_profit>0: closes.put([pos.close(price=pos.max_profit),pos])   #can cause losses in case...\n",
    "          bLog.info(x)\n",
    "      except Exception as e:\n",
    "        if hasattr(e,'code'):\n",
    "          bLog.error(f\"@open {e.code} {e.message}\")\n",
    "          over_flow = [-2027,-2019,-4164] #max lev,margin insufficient,order notional\n",
    "          if e.code in over_flow and pos.q>0: pos.flag  = False\n",
    "        else:\n",
    "          log.exception('@open')\n",
    "\n",
    "@keepAlive\n",
    "def closing(): \n",
    "    while 1:\n",
    "        n,pos = closes.get()\n",
    "        try:  \n",
    "          x = n.compute()\n",
    "          bLog.info(x)\n",
    "          transfer_to('SPOT',amt=.6*pos.profit) #babylonian\n",
    "        except Exception as e:\n",
    "          # bLog.exception(\"@close\")\n",
    "          if hasattr(e,'code'):\n",
    "            bLog.error(f\"@close {e.code} {e.message}\")\n",
    "            if e.code==-4045: cancel_order(pos.crypto) #max stop Order  #-2021 would immediately trigger\n",
    "          else:\n",
    "            log.exception('@close')\n",
    "        else:\n",
    "          ic('Sell Successfull') \n",
    "          pos.flag = True "
   ]
  },
  {
   "cell_type": "code",
   "execution_count": null,
   "metadata": {
    "id": "N-zhudbuuchE"
   },
   "outputs": [],
   "source": [
    "class Trader(Strategy,SignalHandler,SocketHandler,Socket):\n",
    "\n",
    "  args = {}\n",
    "  # for i in ['OS','OL','CS','CL'] : args[i] = {}\n",
    "\n",
    "  def __init__(self,crypto,profit=1,hedge=1,amount=''): \n",
    "    l_h = 0 if hedge in [0,2] else 1\n",
    "    s_h = 0 if hedge in [0,3] else 1\n",
    "    self.CRYPTO = crypto\n",
    "    self.BALANCE = balance('USDT')\n",
    "    self.AMOUNT = amount if amount else min_q(crypto)\n",
    "    self.PROFIT = profit #self.BALANCE*profit*.01  # percentage\n",
    "    self.LONG = Position('L',crypto,self.PROFIT,l_h) \n",
    "    self.SHORT =Position('S',crypto,self.PROFIT,s_h)\n",
    "    self.PRECISION = precision(crypto)\n",
    "    self.SYMBOL = symboler(self.CRYPTO)\n",
    "\n",
    "\n",
    "  def update_args(self,pos,**args):\n",
    "    self.args[pos].update(args)\n",
    "    mode,ps = pos\n",
    "    if mode=='O':\n",
    "      if ps=='S': self.SHORT.open_args = args\n",
    "      else: self.LONG.open_args = args\n",
    "    else:\n",
    "      if ps=='S': self.SHORT.close_args = args\n",
    "      else: self.LONG.close_args = args\n",
    "\n",
    "  def set_args(self,pos,**args):\n",
    "    self.args[pos]={}\n",
    "    self.update_args(pos,**args)\n",
    "\n",
    "  async def trade(self,period=math.inf):\n",
    "    self.buys = Queue(100)\n",
    "    self.sells = Queue(100)\n",
    "    r_trades = recent_trades(self.CRYPTO)\n",
    "    self.CLOSES = r_trades['price'].to_numpy()\n",
    "\n",
    "    self.macding() #My cur strategy\n",
    "    self.buying()\n",
    "    self.selling() #next is the opening\n",
    "    max = await self.market_socket()\n",
    "    handler = self.handle_socket\n",
    "    await self.socket_handler(max,handler,period)"
   ]
  },
  {
   "cell_type": "code",
   "execution_count": null,
   "metadata": {
    "id": "NuMR6KbVZ2Lh"
   },
   "outputs": [],
   "source": [
    "from binance import Client,AsyncClient,BinanceSocketManager\n",
    "\n",
    "def gen_client(testnet=True, asyn=False):\n",
    "  napi_key = \"e6geB7TFiaM4FTACiiP2Slk9QFQyYuCt37KH7ht5nwrYcJCvdkloyHAzh4ImtSQh\"\n",
    "  napi_secret = \"dC25QStiRNVlGrHJk8ajK9fQhmUCCDfGwSjTvqCFP0Fsdyw3nKtmkZjgKrmmwGIZ2\"\n",
    "\n",
    "  api_key=\"9Cc4lp3DlqB9sh7Si2a63sktrhAUiPmtRTMTh22v2OOaNweYSXcHoKzEcPtlLX5i\"\n",
    "  api_secret=\"xbw7wRuGvNjDXFS1rM5BTkoRToJfWW8StEUvO0tct9Ibwz3dj9vXThQTzF1iIEeE\"\n",
    "\n",
    "  if testnet:\n",
    "    api_key=\"17decb9a46f67558c5088856ee8c3fa28c20c72de37bb8cffc9924a2a9cc0a12\"\n",
    "    api_secret='7e27cf5baa00ab22734a4781d5050d20be40ab0c2289567769eb2a789d3a294e'\n",
    "\n",
    "  if asyn:client =  AsyncClient(api_key, api_secret,testnet=testnet)#,tld='us')\n",
    "  else: client =  Client(api_key, api_secret,testnet=testnet,tld='us')\n",
    "  \n",
    "  return client\n",
    "\n",
    "@unsync\n",
    "async def socket_manager(client=''):\n",
    "    c1 = await AsyncClient.create() if not client else client\n",
    "    socket = BinanceSocketManager(c1)\n",
    "    return socket\n",
    "\n",
    "#  dir(client)"
   ]
  },
  {
   "cell_type": "code",
   "source": [
    "client = gen_client(True)\n",
    "client.get_system_status()"
   ],
   "metadata": {
    "colab": {
     "base_uri": "https://localhost:8080/",
     "height": 345
    },
    "id": "SfByrV7fE4zz",
    "outputId": "e5836cc8-83aa-44e7-8876-2ac440644de9"
   },
   "execution_count": null,
   "outputs": [
    {
     "output_type": "error",
     "ename": "BinanceAPIException",
     "evalue": "ignored",
     "traceback": [
      "\u001B[0;31m---------------------------------------------------------------------------\u001B[0m",
      "\u001B[0;31mBinanceAPIException\u001B[0m                       Traceback (most recent call last)",
      "\u001B[0;32m<ipython-input-100-e1dea4927520>\u001B[0m in \u001B[0;36m<module>\u001B[0;34m\u001B[0m\n\u001B[1;32m      1\u001B[0m \u001B[0mclient\u001B[0m \u001B[0;34m=\u001B[0m \u001B[0mgen_client\u001B[0m\u001B[0;34m(\u001B[0m\u001B[0;32mTrue\u001B[0m\u001B[0;34m)\u001B[0m\u001B[0;34m\u001B[0m\u001B[0;34m\u001B[0m\u001B[0m\n\u001B[0;32m----> 2\u001B[0;31m \u001B[0mclient\u001B[0m\u001B[0;34m.\u001B[0m\u001B[0mget_system_status\u001B[0m\u001B[0;34m(\u001B[0m\u001B[0;34m)\u001B[0m\u001B[0;34m\u001B[0m\u001B[0;34m\u001B[0m\u001B[0m\n\u001B[0m",
      "\u001B[0;32m/usr/local/lib/python3.8/dist-packages/binance/client.py\u001B[0m in \u001B[0;36mget_system_status\u001B[0;34m(self)\u001B[0m\n\u001B[1;32m   2055\u001B[0m \u001B[0;34m\u001B[0m\u001B[0m\n\u001B[1;32m   2056\u001B[0m         \"\"\"\n\u001B[0;32m-> 2057\u001B[0;31m         \u001B[0;32mreturn\u001B[0m \u001B[0mself\u001B[0m\u001B[0;34m.\u001B[0m\u001B[0m_request_margin_api\u001B[0m\u001B[0;34m(\u001B[0m\u001B[0;34m'get'\u001B[0m\u001B[0;34m,\u001B[0m \u001B[0;34m'system/status'\u001B[0m\u001B[0;34m)\u001B[0m\u001B[0;34m\u001B[0m\u001B[0;34m\u001B[0m\u001B[0m\n\u001B[0m\u001B[1;32m   2058\u001B[0m \u001B[0;34m\u001B[0m\u001B[0m\n\u001B[1;32m   2059\u001B[0m     \u001B[0;32mdef\u001B[0m \u001B[0mget_account_status\u001B[0m\u001B[0;34m(\u001B[0m\u001B[0mself\u001B[0m\u001B[0;34m,\u001B[0m \u001B[0;34m**\u001B[0m\u001B[0mparams\u001B[0m\u001B[0;34m)\u001B[0m\u001B[0;34m:\u001B[0m\u001B[0;34m\u001B[0m\u001B[0;34m\u001B[0m\u001B[0m\n",
      "\u001B[0;32m/usr/local/lib/python3.8/dist-packages/binance/client.py\u001B[0m in \u001B[0;36m_request_margin_api\u001B[0;34m(self, method, path, signed, **kwargs)\u001B[0m\n\u001B[1;32m    362\u001B[0m         \u001B[0muri\u001B[0m \u001B[0;34m=\u001B[0m \u001B[0mself\u001B[0m\u001B[0;34m.\u001B[0m\u001B[0m_create_margin_api_uri\u001B[0m\u001B[0;34m(\u001B[0m\u001B[0mpath\u001B[0m\u001B[0;34m)\u001B[0m\u001B[0;34m\u001B[0m\u001B[0;34m\u001B[0m\u001B[0m\n\u001B[1;32m    363\u001B[0m \u001B[0;34m\u001B[0m\u001B[0m\n\u001B[0;32m--> 364\u001B[0;31m         \u001B[0;32mreturn\u001B[0m \u001B[0mself\u001B[0m\u001B[0;34m.\u001B[0m\u001B[0m_request\u001B[0m\u001B[0;34m(\u001B[0m\u001B[0mmethod\u001B[0m\u001B[0;34m,\u001B[0m \u001B[0muri\u001B[0m\u001B[0;34m,\u001B[0m \u001B[0msigned\u001B[0m\u001B[0;34m,\u001B[0m \u001B[0;34m**\u001B[0m\u001B[0mkwargs\u001B[0m\u001B[0;34m)\u001B[0m\u001B[0;34m\u001B[0m\u001B[0;34m\u001B[0m\u001B[0m\n\u001B[0m\u001B[1;32m    365\u001B[0m \u001B[0;34m\u001B[0m\u001B[0m\n\u001B[1;32m    366\u001B[0m     \u001B[0;32mdef\u001B[0m \u001B[0m_request_website\u001B[0m\u001B[0;34m(\u001B[0m\u001B[0mself\u001B[0m\u001B[0;34m,\u001B[0m \u001B[0mmethod\u001B[0m\u001B[0;34m,\u001B[0m \u001B[0mpath\u001B[0m\u001B[0;34m,\u001B[0m \u001B[0msigned\u001B[0m\u001B[0;34m=\u001B[0m\u001B[0;32mFalse\u001B[0m\u001B[0;34m,\u001B[0m \u001B[0;34m**\u001B[0m\u001B[0mkwargs\u001B[0m\u001B[0;34m)\u001B[0m \u001B[0;34m->\u001B[0m \u001B[0mDict\u001B[0m\u001B[0;34m:\u001B[0m\u001B[0;34m\u001B[0m\u001B[0;34m\u001B[0m\u001B[0m\n",
      "\u001B[0;32m/usr/local/lib/python3.8/dist-packages/binance/client.py\u001B[0m in \u001B[0;36m_request\u001B[0;34m(self, method, uri, signed, force_params, **kwargs)\u001B[0m\n\u001B[1;32m    313\u001B[0m \u001B[0;34m\u001B[0m\u001B[0m\n\u001B[1;32m    314\u001B[0m         \u001B[0mself\u001B[0m\u001B[0;34m.\u001B[0m\u001B[0mresponse\u001B[0m \u001B[0;34m=\u001B[0m \u001B[0mgetattr\u001B[0m\u001B[0;34m(\u001B[0m\u001B[0mself\u001B[0m\u001B[0;34m.\u001B[0m\u001B[0msession\u001B[0m\u001B[0;34m,\u001B[0m \u001B[0mmethod\u001B[0m\u001B[0;34m)\u001B[0m\u001B[0;34m(\u001B[0m\u001B[0muri\u001B[0m\u001B[0;34m,\u001B[0m \u001B[0;34m**\u001B[0m\u001B[0mkwargs\u001B[0m\u001B[0;34m)\u001B[0m\u001B[0;34m\u001B[0m\u001B[0;34m\u001B[0m\u001B[0m\n\u001B[0;32m--> 315\u001B[0;31m         \u001B[0;32mreturn\u001B[0m \u001B[0mself\u001B[0m\u001B[0;34m.\u001B[0m\u001B[0m_handle_response\u001B[0m\u001B[0;34m(\u001B[0m\u001B[0mself\u001B[0m\u001B[0;34m.\u001B[0m\u001B[0mresponse\u001B[0m\u001B[0;34m)\u001B[0m\u001B[0;34m\u001B[0m\u001B[0;34m\u001B[0m\u001B[0m\n\u001B[0m\u001B[1;32m    316\u001B[0m \u001B[0;34m\u001B[0m\u001B[0m\n\u001B[1;32m    317\u001B[0m     \u001B[0;34m@\u001B[0m\u001B[0mstaticmethod\u001B[0m\u001B[0;34m\u001B[0m\u001B[0;34m\u001B[0m\u001B[0m\n",
      "\u001B[0;32m/usr/local/lib/python3.8/dist-packages/binance/client.py\u001B[0m in \u001B[0;36m_handle_response\u001B[0;34m(response)\u001B[0m\n\u001B[1;32m    322\u001B[0m         \"\"\"\n\u001B[1;32m    323\u001B[0m         \u001B[0;32mif\u001B[0m \u001B[0;32mnot\u001B[0m \u001B[0;34m(\u001B[0m\u001B[0;36m200\u001B[0m \u001B[0;34m<=\u001B[0m \u001B[0mresponse\u001B[0m\u001B[0;34m.\u001B[0m\u001B[0mstatus_code\u001B[0m \u001B[0;34m<\u001B[0m \u001B[0;36m300\u001B[0m\u001B[0;34m)\u001B[0m\u001B[0;34m:\u001B[0m\u001B[0;34m\u001B[0m\u001B[0;34m\u001B[0m\u001B[0m\n\u001B[0;32m--> 324\u001B[0;31m             \u001B[0;32mraise\u001B[0m \u001B[0mBinanceAPIException\u001B[0m\u001B[0;34m(\u001B[0m\u001B[0mresponse\u001B[0m\u001B[0;34m,\u001B[0m \u001B[0mresponse\u001B[0m\u001B[0;34m.\u001B[0m\u001B[0mstatus_code\u001B[0m\u001B[0;34m,\u001B[0m \u001B[0mresponse\u001B[0m\u001B[0;34m.\u001B[0m\u001B[0mtext\u001B[0m\u001B[0;34m)\u001B[0m\u001B[0;34m\u001B[0m\u001B[0;34m\u001B[0m\u001B[0m\n\u001B[0m\u001B[1;32m    325\u001B[0m         \u001B[0;32mtry\u001B[0m\u001B[0;34m:\u001B[0m\u001B[0;34m\u001B[0m\u001B[0;34m\u001B[0m\u001B[0m\n\u001B[1;32m    326\u001B[0m             \u001B[0;32mreturn\u001B[0m \u001B[0mresponse\u001B[0m\u001B[0;34m.\u001B[0m\u001B[0mjson\u001B[0m\u001B[0;34m(\u001B[0m\u001B[0;34m)\u001B[0m\u001B[0;34m\u001B[0m\u001B[0;34m\u001B[0m\u001B[0m\n",
      "\u001B[0;31mBinanceAPIException\u001B[0m: APIError(code=0): Service unavailable from a restricted location according to 'b. Eligibility' in https://www.binance.com/en/terms. Please contact customer service if you believe you received this message in error."
     ]
    }
   ]
  },
  {
   "cell_type": "code",
   "source": [
    "client = gen_client(True)\n",
    "client.get_system_status()['status']"
   ],
   "metadata": {
    "colab": {
     "base_uri": "https://localhost:8080/",
     "height": 328
    },
    "id": "yMpL0rbmDaG_",
    "outputId": "ee951326-7424-45da-c64e-63fa98e34025"
   },
   "execution_count": null,
   "outputs": [
    {
     "output_type": "error",
     "ename": "BinanceAPIException",
     "evalue": "ignored",
     "traceback": [
      "\u001B[0;31m---------------------------------------------------------------------------\u001B[0m",
      "\u001B[0;31mBinanceAPIException\u001B[0m                       Traceback (most recent call last)",
      "\u001B[0;32m<ipython-input-97-792edb98325f>\u001B[0m in \u001B[0;36m<module>\u001B[0;34m\u001B[0m\n\u001B[1;32m      1\u001B[0m \u001B[0mclient\u001B[0m \u001B[0;34m=\u001B[0m \u001B[0mgen_client\u001B[0m\u001B[0;34m(\u001B[0m\u001B[0;32mTrue\u001B[0m\u001B[0;34m)\u001B[0m\u001B[0;34m\u001B[0m\u001B[0;34m\u001B[0m\u001B[0m\n\u001B[0;32m----> 2\u001B[0;31m \u001B[0mclient\u001B[0m\u001B[0;34m.\u001B[0m\u001B[0mget_system_status\u001B[0m\u001B[0;34m(\u001B[0m\u001B[0;34m)\u001B[0m\u001B[0;34m[\u001B[0m\u001B[0;34m'status'\u001B[0m\u001B[0;34m]\u001B[0m\u001B[0;34m\u001B[0m\u001B[0;34m\u001B[0m\u001B[0m\n\u001B[0m",
      "\u001B[0;32m/usr/local/lib/python3.8/dist-packages/binance/client.py\u001B[0m in \u001B[0;36mget_system_status\u001B[0;34m(self)\u001B[0m\n\u001B[1;32m   2055\u001B[0m \u001B[0;34m\u001B[0m\u001B[0m\n\u001B[1;32m   2056\u001B[0m         \"\"\"\n\u001B[0;32m-> 2057\u001B[0;31m         \u001B[0;32mreturn\u001B[0m \u001B[0mself\u001B[0m\u001B[0;34m.\u001B[0m\u001B[0m_request_margin_api\u001B[0m\u001B[0;34m(\u001B[0m\u001B[0;34m'get'\u001B[0m\u001B[0;34m,\u001B[0m \u001B[0;34m'system/status'\u001B[0m\u001B[0;34m)\u001B[0m\u001B[0;34m\u001B[0m\u001B[0;34m\u001B[0m\u001B[0m\n\u001B[0m\u001B[1;32m   2058\u001B[0m \u001B[0;34m\u001B[0m\u001B[0m\n\u001B[1;32m   2059\u001B[0m     \u001B[0;32mdef\u001B[0m \u001B[0mget_account_status\u001B[0m\u001B[0;34m(\u001B[0m\u001B[0mself\u001B[0m\u001B[0;34m,\u001B[0m \u001B[0;34m**\u001B[0m\u001B[0mparams\u001B[0m\u001B[0;34m)\u001B[0m\u001B[0;34m:\u001B[0m\u001B[0;34m\u001B[0m\u001B[0;34m\u001B[0m\u001B[0m\n",
      "\u001B[0;32m/usr/local/lib/python3.8/dist-packages/binance/client.py\u001B[0m in \u001B[0;36m_request_margin_api\u001B[0;34m(self, method, path, signed, **kwargs)\u001B[0m\n\u001B[1;32m    362\u001B[0m         \u001B[0muri\u001B[0m \u001B[0;34m=\u001B[0m \u001B[0mself\u001B[0m\u001B[0;34m.\u001B[0m\u001B[0m_create_margin_api_uri\u001B[0m\u001B[0;34m(\u001B[0m\u001B[0mpath\u001B[0m\u001B[0;34m)\u001B[0m\u001B[0;34m\u001B[0m\u001B[0;34m\u001B[0m\u001B[0m\n\u001B[1;32m    363\u001B[0m \u001B[0;34m\u001B[0m\u001B[0m\n\u001B[0;32m--> 364\u001B[0;31m         \u001B[0;32mreturn\u001B[0m \u001B[0mself\u001B[0m\u001B[0;34m.\u001B[0m\u001B[0m_request\u001B[0m\u001B[0;34m(\u001B[0m\u001B[0mmethod\u001B[0m\u001B[0;34m,\u001B[0m \u001B[0muri\u001B[0m\u001B[0;34m,\u001B[0m \u001B[0msigned\u001B[0m\u001B[0;34m,\u001B[0m \u001B[0;34m**\u001B[0m\u001B[0mkwargs\u001B[0m\u001B[0;34m)\u001B[0m\u001B[0;34m\u001B[0m\u001B[0;34m\u001B[0m\u001B[0m\n\u001B[0m\u001B[1;32m    365\u001B[0m \u001B[0;34m\u001B[0m\u001B[0m\n\u001B[1;32m    366\u001B[0m     \u001B[0;32mdef\u001B[0m \u001B[0m_request_website\u001B[0m\u001B[0;34m(\u001B[0m\u001B[0mself\u001B[0m\u001B[0;34m,\u001B[0m \u001B[0mmethod\u001B[0m\u001B[0;34m,\u001B[0m \u001B[0mpath\u001B[0m\u001B[0;34m,\u001B[0m \u001B[0msigned\u001B[0m\u001B[0;34m=\u001B[0m\u001B[0;32mFalse\u001B[0m\u001B[0;34m,\u001B[0m \u001B[0;34m**\u001B[0m\u001B[0mkwargs\u001B[0m\u001B[0;34m)\u001B[0m \u001B[0;34m->\u001B[0m \u001B[0mDict\u001B[0m\u001B[0;34m:\u001B[0m\u001B[0;34m\u001B[0m\u001B[0;34m\u001B[0m\u001B[0m\n",
      "\u001B[0;32m/usr/local/lib/python3.8/dist-packages/binance/client.py\u001B[0m in \u001B[0;36m_request\u001B[0;34m(self, method, uri, signed, force_params, **kwargs)\u001B[0m\n\u001B[1;32m    313\u001B[0m \u001B[0;34m\u001B[0m\u001B[0m\n\u001B[1;32m    314\u001B[0m         \u001B[0mself\u001B[0m\u001B[0;34m.\u001B[0m\u001B[0mresponse\u001B[0m \u001B[0;34m=\u001B[0m \u001B[0mgetattr\u001B[0m\u001B[0;34m(\u001B[0m\u001B[0mself\u001B[0m\u001B[0;34m.\u001B[0m\u001B[0msession\u001B[0m\u001B[0;34m,\u001B[0m \u001B[0mmethod\u001B[0m\u001B[0;34m)\u001B[0m\u001B[0;34m(\u001B[0m\u001B[0muri\u001B[0m\u001B[0;34m,\u001B[0m \u001B[0;34m**\u001B[0m\u001B[0mkwargs\u001B[0m\u001B[0;34m)\u001B[0m\u001B[0;34m\u001B[0m\u001B[0;34m\u001B[0m\u001B[0m\n\u001B[0;32m--> 315\u001B[0;31m         \u001B[0;32mreturn\u001B[0m \u001B[0mself\u001B[0m\u001B[0;34m.\u001B[0m\u001B[0m_handle_response\u001B[0m\u001B[0;34m(\u001B[0m\u001B[0mself\u001B[0m\u001B[0;34m.\u001B[0m\u001B[0mresponse\u001B[0m\u001B[0;34m)\u001B[0m\u001B[0;34m\u001B[0m\u001B[0;34m\u001B[0m\u001B[0m\n\u001B[0m\u001B[1;32m    316\u001B[0m \u001B[0;34m\u001B[0m\u001B[0m\n\u001B[1;32m    317\u001B[0m     \u001B[0;34m@\u001B[0m\u001B[0mstaticmethod\u001B[0m\u001B[0;34m\u001B[0m\u001B[0;34m\u001B[0m\u001B[0m\n",
      "\u001B[0;32m/usr/local/lib/python3.8/dist-packages/binance/client.py\u001B[0m in \u001B[0;36m_handle_response\u001B[0;34m(response)\u001B[0m\n\u001B[1;32m    322\u001B[0m         \"\"\"\n\u001B[1;32m    323\u001B[0m         \u001B[0;32mif\u001B[0m \u001B[0;32mnot\u001B[0m \u001B[0;34m(\u001B[0m\u001B[0;36m200\u001B[0m \u001B[0;34m<=\u001B[0m \u001B[0mresponse\u001B[0m\u001B[0;34m.\u001B[0m\u001B[0mstatus_code\u001B[0m \u001B[0;34m<\u001B[0m \u001B[0;36m300\u001B[0m\u001B[0;34m)\u001B[0m\u001B[0;34m:\u001B[0m\u001B[0;34m\u001B[0m\u001B[0;34m\u001B[0m\u001B[0m\n\u001B[0;32m--> 324\u001B[0;31m             \u001B[0;32mraise\u001B[0m \u001B[0mBinanceAPIException\u001B[0m\u001B[0;34m(\u001B[0m\u001B[0mresponse\u001B[0m\u001B[0;34m,\u001B[0m \u001B[0mresponse\u001B[0m\u001B[0;34m.\u001B[0m\u001B[0mstatus_code\u001B[0m\u001B[0;34m,\u001B[0m \u001B[0mresponse\u001B[0m\u001B[0;34m.\u001B[0m\u001B[0mtext\u001B[0m\u001B[0;34m)\u001B[0m\u001B[0;34m\u001B[0m\u001B[0;34m\u001B[0m\u001B[0m\n\u001B[0m\u001B[1;32m    325\u001B[0m         \u001B[0;32mtry\u001B[0m\u001B[0;34m:\u001B[0m\u001B[0;34m\u001B[0m\u001B[0;34m\u001B[0m\u001B[0m\n\u001B[1;32m    326\u001B[0m             \u001B[0;32mreturn\u001B[0m \u001B[0mresponse\u001B[0m\u001B[0;34m.\u001B[0m\u001B[0mjson\u001B[0m\u001B[0;34m(\u001B[0m\u001B[0;34m)\u001B[0m\u001B[0;34m\u001B[0m\u001B[0;34m\u001B[0m\u001B[0m\n",
      "\u001B[0;31mBinanceAPIException\u001B[0m: APIError(code=-2008): Invalid Api-Key ID."
     ]
    }
   ]
  },
  {
   "cell_type": "code",
   "source": [
    "def r():\n",
    "  return __name__"
   ],
   "metadata": {
    "id": "slp2vEa8IsUJ"
   },
   "execution_count": null,
   "outputs": []
  },
  {
   "cell_type": "code",
   "source": [
    "r()"
   ],
   "metadata": {
    "id": "xnMpDsq8IykO",
    "colab": {
     "base_uri": "https://localhost:8080/",
     "height": 35
    },
    "outputId": "371453ae-b9d2-4514-e050-318e08e6b2ca"
   },
   "execution_count": null,
   "outputs": [
    {
     "output_type": "execute_result",
     "data": {
      "text/plain": [
       "'__main__'"
      ],
      "application/vnd.google.colaboratory.intrinsic+json": {
       "type": "string"
      }
     },
     "metadata": {},
     "execution_count": 75
    }
   ]
  },
  {
   "cell_type": "code",
   "execution_count": null,
   "metadata": {
    "id": "hHyrt9UpcPI8"
   },
   "outputs": [],
   "source": [
    "symboler = lambda crypto: f'{crypto}USDT' if crypto and len(crypto)<6 else crypto\n",
    "get_price = lambda crypto:float(client.futures_symbol_ticker(symbol=symboler(crypto))['price'])\n",
    "market_price = lambda crypto : float(client.get_symbol_ticker(symbol=symboler(crypto))['price'])\n",
    "min_q= lambda crypto:precision(crypto)[-1]\n",
    "_min_q = lambda crypto,notional,qP:round(notional /get_price(crypto),qP) or pow(10,-qP) #.001\n",
    "\n",
    "def exchange(crypto=''):\n",
    "  info = client.futures_exchange_info()\n",
    "  df = pd.DataFrame(info['symbols'])\n",
    "  df = filter_df(df,'contractType','PERPETUAL')\n",
    "  df = filter_df(df,'quoteAsset','USDT')\n",
    "  drop_cols(df,'pair','deliveryDate','onboardDate','contractType','status','quoteAsset','marginAsset','timeInForce','orderTypes','settlePlan','underlyingSubType','underlyingType','liquidationFee')\n",
    "  x = df.loc[df['symbol']==symboler(crypto)] if crypto else df\n",
    "  return x\n",
    "  \n",
    "def precision(crypto):\n",
    "  e = exchange(crypto)\n",
    "  res = [int(i) for i in e.iloc[0,4:8].to_list()] #pricePrecision   quantityPrecision   baseAssetPrecision  quotePrecision\n",
    "\n",
    "  filter = pd.DataFrame(e['filters'].iloc[0])\n",
    "  num_cols = [i for i in filter.columns if i != 'filterType']\n",
    "  for i in num_cols:filter[i]=num_col(filter[i])\n",
    "  filter['notional'] = filter['notional'].apply(lambda x: _min_q(crypto,x,res[1]))\n",
    "  d = {'PRICE_FILTER':['minPrice','maxPrice'],'MIN_NOTIONAL':['notional']}\n",
    "  for name,filters in d.items():\n",
    "    f_df = filter_df(filter,'filterType',name)\n",
    "    res+=pluck_row(f_df,*filters)\n",
    "  return res \n",
    "\n",
    "def positions(crypto='',pos=''):\n",
    "  data = client.futures_position_information()\n",
    "  df = pd.DataFrame(data)\n",
    "  cols = ['positionAmt','entryPrice','markPrice','unRealizedProfit','liquidationPrice','leverage','isolatedWallet']\n",
    "  drop_cols(df,'updateTime')\n",
    "  for col in cols: df[col] = num_col(df[col])\n",
    "  df = filter_df(df,'symbol',symboler(crypto)) if crypto else  df.loc[df['positionAmt']>0]\n",
    "  df = filter_df(df,'positionSide',pos) if pos else df\n",
    "  df['positionAmt'] = df['positionAmt'].apply(abs) #SHORT side amounts are neg\n",
    "  return df\n",
    "\n",
    "def income(profit=True, pnl=True):\n",
    "  df = pd.DataFrame(client.futures_income_history())\n",
    "  df['income'] = num_col(df['income'])\n",
    "  df['date'] = to_date(df['time'])\n",
    "  drop_cols(df,'time','tranId','info')\n",
    "  df = df.sort_values(by=['date'],ascending=False)\n",
    "  df =  df.loc[df['incomeType']=='REALIZED_PNL'] if pnl else df\n",
    "  df = df.loc[df['income']>0] if profit else df\n",
    "  # df = df.loc[df['incomeType']!='TRANSFER']\n",
    "  df['profit'] = df['income'].sum()\n",
    "  return df\n",
    "\n",
    "def wallet():\n",
    "  df = pd.DataFrame(client.futures_account_balance())\n",
    "  df['balance'] = num_col(df['balance'])\n",
    "  # df = df.loc[df['balance']>0]\n",
    "  # df = df.reset_index(drop=True)\n",
    "  df.drop(['accountAlias'],axis=1,inplace=True)\n",
    "  return df\n",
    "\n",
    "def wallet_spot(crypto='USDT'):\n",
    "  df = pd.DataFrame(client.get_asset_balance(asset=crypto),index=[0])\n",
    "  for i in ['free','locked']: df[i] = num_col(df[i])\n",
    "  return df\n",
    "\n",
    "def balance(crypto='USDT',type='FUT'):\n",
    "  b=0\n",
    "  if type=='FUT':\n",
    "    df = wallet()\n",
    "    b = df.loc[df['asset']==crypto]['balance'].iloc[0]\n",
    "  elif type =='SPOT':\n",
    "    b = wallet_spot(crypto)['free'].iloc[0]\n",
    "  return b\n",
    "\n",
    "\n",
    "def transfer_to(dest='SPOT',amt=0,crypto='USDT'):\n",
    "  if dest=='SPOT': \n",
    "    type =2\n",
    "    src = 'FUT'\n",
    "  else: \n",
    "    type =1\n",
    "    src = \"SPOT\"\n",
    "  amt = amt or balance(crypto,type=src)\n",
    "  if amt>0:\n",
    "    return client.futures_account_transfer(asset=crypto,amount=amt,type=type)\n",
    "  bLog.error(f\"Transfer failed {src}->{dest} {amt}\")\n",
    "  return -1\n",
    "\n",
    "\n",
    "def open_orders(crypto=''):\n",
    "  data = client.futures_get_open_orders(symbol=symboler(crypto))\n",
    "  if len(data)==0: return -1\n",
    "  df = pd.DataFrame(data)\n",
    "  df['date'] = to_date(df['time'])\n",
    "  # df.drop(['updateTime','time','cumQuote','price','avgPrice','origQty','executedQty','status'],axis=1,inplace=True)\n",
    "  return df\n",
    "\n",
    "def cancel_order(crypt,id=''):\n",
    "  d = {'orderId':id,'symbol':symboler(crypt)}\n",
    "  return client.futures_cancel_all_open_orders(**d) #{'code': 200, 'msg': 'The operation of cancel all open order is done.'}\n",
    "\n",
    "def order(crypto,side,mode,quantity='',price='',profit='',loss='',trail='',PRECISION=''): \n",
    "  p,q,bP,qP,minP,maxP,minQ = PRECISION or precision(crypto)\n",
    "\n",
    "  if quantity: quantity = round(max(quantity,minQ),q)\n",
    "\n",
    "  d = {'type':'MARKET','symbol':symboler(crypto), \"quantity\":quantity,'positionSide':mode} \n",
    "  \n",
    "  if price: \n",
    "    price = round(price,p)\n",
    "    price = min(maxP,price)\n",
    "    price = max(minP,price)\n",
    "    d['type'] = 'LIMIT'\n",
    "    d['price'] = price\n",
    "    d['timeInForce']='GTC' \n",
    "\n",
    "  if profit:\n",
    "        d['type']='TAKE_PROFIT' if price else 'TAKE_PROFIT_MARKET'\n",
    "        d['stopPrice'] = round(profit,p)\n",
    "  elif loss:\n",
    "    d['type']='STOP' if price else 'STOP_MARKET'  \n",
    "    d['stopPrice'] = round(loss,p)\n",
    "  elif trail:\n",
    "        d['type'] = 'TRAILING_STOP_MARKET'\n",
    "        d['callbackRate'] = trail\n",
    "        d['activationPrice'] = price \n",
    "\n",
    "  if side=='OPEN' :\n",
    "    d['side']  = 'BUY' if mode == 'LONG' else 'SELL'\n",
    "  else :\n",
    "     d['side']  = 'SELL' if mode == 'LONG' else 'BUY'\n",
    "     if quantity=='' and (profit or loss): \n",
    "        d['closePosition'] = True      \n",
    "        del d['quantity']  \n",
    "\n",
    "  log.info(d)\n",
    "\n",
    "  x=client.futures_create_order(**d)\n",
    "  df = pd.DataFrame(x,index=[0]).rename(columns={\"\":\"position\"})\n",
    "  drop_cols(df,*['status','clientOrderId','avgPrice','executedQty','cumQty','cumQuote','timeInForce','reduceOnly','workingType','priceProtect','origType','updateTime'])\n",
    "  ncol = ['activatePrice','origQty','price','priceRate','stopPrice']\n",
    "  for i in ncol: \n",
    "    if i in df.columns:df[i] = num_col(df[i])\n",
    "  x = df.iloc[0].to_dict()\n",
    "  return x\n",
    "#https://dev.binance.vision/t/what-does-the-percent-price-filter-mean/134"
   ]
  },
  {
   "cell_type": "code",
   "execution_count": null,
   "metadata": {
    "id": "oPBgZtRSUzvB"
   },
   "outputs": [],
   "source": [
    "def status():\n",
    "  status_code = client.get_system_status()['status']\n",
    "  if(status_code!=0):\n",
    "     print(\"Exiting\")\n",
    "     sys.exit(1)\n",
    "\n",
    "def permissions():\n",
    "  return client.get_account_api_permissions()\n",
    "\n",
    "def position(hedge=True):\n",
    "  client.futures_change_position_mode(dualSidePosition = hedge)\n",
    "  return client.futures_get_position_mode()\n",
    "\n",
    "def my_trades():\n",
    "  df = pd.DataFrame(client.futures_account_trades())\n",
    "  df['time'] = to_date(df['time'])\n",
    "  return df\n",
    "\n",
    "def history(crypto,interval='1m',start_str='7 day ago'):\n",
    "  data = client.futures_historical_klines(\n",
    "    symbol=symboler(crypto),\n",
    "    interval=interval,  # can play with this e.g. '1h', '4h', '1w', etc.\n",
    "    start_str = start_str,\n",
    "    # end_str='2021-06-30'\n",
    ")\n",
    "  df = pd.DataFrame(data)\n",
    "  # crop unnecessary columns\n",
    "  df = df.iloc[:, :6]\n",
    "  # ascribe names to columns\n",
    "  df.columns = ['date', 'open', 'high', 'low', 'close', 'volume']\n",
    "  # convert timestamp to date format and ensure ohlcv are all numeric\n",
    "  df['date'] = to_date(df['date'])\n",
    "  for col in df.columns[1:]:\n",
    "      df[col] = pd.to_numeric(df[col]) \n",
    "  return df\n",
    "\n",
    "def make_history(df): #multable so no issues\n",
    "  df['cap']= df['high'].mean()  #cap can be increasing sequence...\n",
    "  df['floor'] = df['low'].min()\n",
    "  df.drop(['volume','open','high','low','volume'],axis=1,inplace=True)     #only low\n",
    "  df.columns = ['ds','y','cap','floor']\n",
    "  return df\n",
    "\n",
    "def leverage_bracket(crypto):\n",
    "  symbol = symboler(crypto)\n",
    "  data = client.futures_leverage_bracket(symbol=symbol)[0]\n",
    "  df = pd.DataFrame(data['brackets'])\n",
    "  return df\n",
    "\n",
    "def max_leverage(crypto='BTC'):\n",
    "  df = leverage_bracket(crypto)\n",
    "  return df['initialLeverage'].max()\n",
    "\n",
    "def leverage(crypto,lev=''):\n",
    "  lev = lev if lev else max_leverage(crypto)\n",
    "  return client.futures_change_leverage(symbol=symboler(crypto), leverage=lev)\n",
    "\n",
    "def order_book(crypto='BTC'):\n",
    "  data =client.futures_order_book(symbol=symboler(crypto))\n",
    "  return data\n",
    "\n",
    "def recent_trades(crypto):#aggrefate\n",
    "  s  = symboler(crypto)\n",
    "  data = client.futures_aggregate_trades(symbol=s,limit=1000)\n",
    "  df = pd.DataFrame(data)\n",
    "  df['price'] = num_col(df['p'])\n",
    "  return df"
   ]
  },
  {
   "cell_type": "code",
   "execution_count": null,
   "metadata": {
    "colab": {
     "base_uri": "https://localhost:8080/"
    },
    "id": "UBiDiABQgVye",
    "outputId": "1e8c34c4-a317-44f0-8ea3-87fbf8cda8a4"
   },
   "outputs": [
    {
     "output_type": "stream",
     "name": "stdout",
     "text": [
      "Thu Dec 15 04:29:51 UTC 2022\n"
     ]
    }
   ],
   "source": [
    "!date"
   ]
  },
  {
   "cell_type": "code",
   "execution_count": null,
   "metadata": {
    "id": "cYhsO4YQkg16"
   },
   "outputs": [],
   "source": [
    "@unsync\n",
    "async def main():\n",
    "  ic.disable()\n",
    "  opening()\n",
    "  closing()\n",
    "  period = math.inf      \n",
    "  BALANCE = balance('USDT')\n",
    "  # AMOUNT = .01         #hedge -0 (open disabled) 1- long&short 2-long only 3-short only\n",
    "  T1 = Trader('LTC',2,hedge=1)\n",
    "  T2 = Trader('ETH',.02,hedge=1)\n",
    "  T3 = Trader('BTC',2,hedge=1)\n",
    "\n",
    "  T4 = Trader('EOS',.3,hedge=1)\n",
    "  T5 = Trader('GALA',.2,hedge=1)\n",
    "  T6 = Trader('HOT',.2,hedge=0)\n",
    "  T7 = Trader('ANKR',.3,hedge=0)\n",
    "  \n",
    "  T8 = Trader('WAVES',.03,hedge=1)\n",
    "  T9 = Trader('REEF',.01,hedge=0)\n",
    "  T10 = Trader('MANA',.08,hedge=1)\n",
    "  T11 = Trader('DENT',.03,hedge=1)\n",
    "  T12 = Trader('AKRO',.08,hedge=1)\n",
    "  d = {\n",
    "      'LTC':(.02,1),\n",
    "      'ETH':(.02,1),\n",
    "      'BTC':(.1,1)\n",
    "  }\n",
    "  args = {\n",
    "      'OS':{\n",
    "          'price':'',\n",
    "          'trail':.1\n",
    "      },\n",
    "      'OL':{\n",
    "          'trail':.1\n",
    "      },\n",
    "     'CS':{\n",
    "          'price':'',\n",
    "         'trail':.1\n",
    "      },\n",
    "      'CL':{\n",
    "         'price':'',\n",
    "         'trail':.2\n",
    "      }\n",
    "    }\n",
    "  # trades = [T8,T9,T10,T11,T12]\n",
    "  trades = [T9,T11]\n",
    "  for pos,kwargs in args.items():\n",
    "    for trade in trades:\n",
    "      trade.set_args(pos,**kwargs)\n",
    "      leverage(trade.CRYPTO) #setting max lev\n",
    "\n",
    "  await  asyncio.gather(*[i.trade() for i in trades])"
   ]
  },
  {
   "cell_type": "code",
   "execution_count": null,
   "metadata": {
    "id": "bOPdLgggSw0z"
   },
   "outputs": [],
   "source": [
    "client = gen_client(True)\n"
   ]
  },
  {
   "cell_type": "code",
   "execution_count": null,
   "metadata": {
    "colab": {
     "base_uri": "https://localhost:8080/",
     "height": 363
    },
    "id": "xKK2PuBCTFwK",
    "outputId": "9dcc0fc1-8529-4adf-bfc7-ad9c9b9f3d76"
   },
   "outputs": [
    {
     "output_type": "error",
     "ename": "BinanceAPIException",
     "evalue": "ignored",
     "traceback": [
      "\u001B[0;31m---------------------------------------------------------------------------\u001B[0m",
      "\u001B[0;31mBinanceAPIException\u001B[0m                       Traceback (most recent call last)",
      "\u001B[0;32m<ipython-input-82-33cef4bbca53>\u001B[0m in \u001B[0;36m<module>\u001B[0;34m\u001B[0m\n\u001B[0;32m----> 1\u001B[0;31m \u001B[0msocket\u001B[0m \u001B[0;34m=\u001B[0m \u001B[0msocket_manager\u001B[0m\u001B[0;34m(\u001B[0m\u001B[0;34m)\u001B[0m\u001B[0;34m.\u001B[0m\u001B[0mresult\u001B[0m\u001B[0;34m(\u001B[0m\u001B[0;34m)\u001B[0m\u001B[0;34m\u001B[0m\u001B[0;34m\u001B[0m\u001B[0m\n\u001B[0m\u001B[1;32m      2\u001B[0m \u001B[0;34m\u001B[0m\u001B[0m\n\u001B[1;32m      3\u001B[0m \u001B[0mmain\u001B[0m\u001B[0;34m(\u001B[0m\u001B[0;34m)\u001B[0m\u001B[0;34m.\u001B[0m\u001B[0mresult\u001B[0m\u001B[0;34m(\u001B[0m\u001B[0;34m)\u001B[0m\u001B[0;34m\u001B[0m\u001B[0;34m\u001B[0m\u001B[0m\n",
      "\u001B[0;32m/usr/local/lib/python3.8/dist-packages/unsync/unsync.py\u001B[0m in \u001B[0;36mresult\u001B[0;34m(self, *args, **kwargs)\u001B[0m\n\u001B[1;32m    142\u001B[0m             \u001B[0;32mraise\u001B[0m \u001B[0masyncio\u001B[0m\u001B[0;34m.\u001B[0m\u001B[0mInvalidStateError\u001B[0m\u001B[0;34m(\u001B[0m\u001B[0;34m\"Calling result() in an unsync method is not allowed\"\u001B[0m\u001B[0;34m)\u001B[0m\u001B[0;34m\u001B[0m\u001B[0;34m\u001B[0m\u001B[0m\n\u001B[1;32m    143\u001B[0m         \u001B[0;31m# Wait on the concurrent Future outside unsync.thread\u001B[0m\u001B[0;34m\u001B[0m\u001B[0;34m\u001B[0m\u001B[0;34m\u001B[0m\u001B[0m\n\u001B[0;32m--> 144\u001B[0;31m         \u001B[0;32mreturn\u001B[0m \u001B[0mself\u001B[0m\u001B[0;34m.\u001B[0m\u001B[0mconcurrent_future\u001B[0m\u001B[0;34m.\u001B[0m\u001B[0mresult\u001B[0m\u001B[0;34m(\u001B[0m\u001B[0;34m*\u001B[0m\u001B[0margs\u001B[0m\u001B[0;34m,\u001B[0m \u001B[0;34m**\u001B[0m\u001B[0mkwargs\u001B[0m\u001B[0;34m)\u001B[0m\u001B[0;34m\u001B[0m\u001B[0;34m\u001B[0m\u001B[0m\n\u001B[0m\u001B[1;32m    145\u001B[0m \u001B[0;34m\u001B[0m\u001B[0m\n\u001B[1;32m    146\u001B[0m     \u001B[0;32mdef\u001B[0m \u001B[0mdone\u001B[0m\u001B[0;34m(\u001B[0m\u001B[0mself\u001B[0m\u001B[0;34m)\u001B[0m\u001B[0;34m:\u001B[0m\u001B[0;34m\u001B[0m\u001B[0;34m\u001B[0m\u001B[0m\n",
      "\u001B[0;32m/usr/lib/python3.8/concurrent/futures/_base.py\u001B[0m in \u001B[0;36mresult\u001B[0;34m(self, timeout)\u001B[0m\n\u001B[1;32m    442\u001B[0m                     \u001B[0;32mraise\u001B[0m \u001B[0mCancelledError\u001B[0m\u001B[0;34m(\u001B[0m\u001B[0;34m)\u001B[0m\u001B[0;34m\u001B[0m\u001B[0;34m\u001B[0m\u001B[0m\n\u001B[1;32m    443\u001B[0m                 \u001B[0;32melif\u001B[0m \u001B[0mself\u001B[0m\u001B[0;34m.\u001B[0m\u001B[0m_state\u001B[0m \u001B[0;34m==\u001B[0m \u001B[0mFINISHED\u001B[0m\u001B[0;34m:\u001B[0m\u001B[0;34m\u001B[0m\u001B[0;34m\u001B[0m\u001B[0m\n\u001B[0;32m--> 444\u001B[0;31m                     \u001B[0;32mreturn\u001B[0m \u001B[0mself\u001B[0m\u001B[0;34m.\u001B[0m\u001B[0m__get_result\u001B[0m\u001B[0;34m(\u001B[0m\u001B[0;34m)\u001B[0m\u001B[0;34m\u001B[0m\u001B[0;34m\u001B[0m\u001B[0m\n\u001B[0m\u001B[1;32m    445\u001B[0m                 \u001B[0;32melse\u001B[0m\u001B[0;34m:\u001B[0m\u001B[0;34m\u001B[0m\u001B[0;34m\u001B[0m\u001B[0m\n\u001B[1;32m    446\u001B[0m                     \u001B[0;32mraise\u001B[0m \u001B[0mTimeoutError\u001B[0m\u001B[0;34m(\u001B[0m\u001B[0;34m)\u001B[0m\u001B[0;34m\u001B[0m\u001B[0;34m\u001B[0m\u001B[0m\n",
      "\u001B[0;32m/usr/lib/python3.8/concurrent/futures/_base.py\u001B[0m in \u001B[0;36m__get_result\u001B[0;34m(self)\u001B[0m\n\u001B[1;32m    387\u001B[0m         \u001B[0;32mif\u001B[0m \u001B[0mself\u001B[0m\u001B[0;34m.\u001B[0m\u001B[0m_exception\u001B[0m\u001B[0;34m:\u001B[0m\u001B[0;34m\u001B[0m\u001B[0;34m\u001B[0m\u001B[0m\n\u001B[1;32m    388\u001B[0m             \u001B[0;32mtry\u001B[0m\u001B[0;34m:\u001B[0m\u001B[0;34m\u001B[0m\u001B[0;34m\u001B[0m\u001B[0m\n\u001B[0;32m--> 389\u001B[0;31m                 \u001B[0;32mraise\u001B[0m \u001B[0mself\u001B[0m\u001B[0;34m.\u001B[0m\u001B[0m_exception\u001B[0m\u001B[0;34m\u001B[0m\u001B[0;34m\u001B[0m\u001B[0m\n\u001B[0m\u001B[1;32m    390\u001B[0m             \u001B[0;32mfinally\u001B[0m\u001B[0;34m:\u001B[0m\u001B[0;34m\u001B[0m\u001B[0;34m\u001B[0m\u001B[0m\n\u001B[1;32m    391\u001B[0m                 \u001B[0;31m# Break a reference cycle with the exception in self._exception\u001B[0m\u001B[0;34m\u001B[0m\u001B[0;34m\u001B[0m\u001B[0;34m\u001B[0m\u001B[0m\n",
      "\u001B[0;32m<ipython-input-73-25e7e361c477>\u001B[0m in \u001B[0;36msocket_manager\u001B[0;34m(client)\u001B[0m\n\u001B[1;32m     19\u001B[0m \u001B[0;34m@\u001B[0m\u001B[0munsync\u001B[0m\u001B[0;34m\u001B[0m\u001B[0;34m\u001B[0m\u001B[0m\n\u001B[1;32m     20\u001B[0m \u001B[0;32masync\u001B[0m \u001B[0;32mdef\u001B[0m \u001B[0msocket_manager\u001B[0m\u001B[0;34m(\u001B[0m\u001B[0mclient\u001B[0m\u001B[0;34m=\u001B[0m\u001B[0;34m''\u001B[0m\u001B[0;34m)\u001B[0m\u001B[0;34m:\u001B[0m\u001B[0;34m\u001B[0m\u001B[0;34m\u001B[0m\u001B[0m\n\u001B[0;32m---> 21\u001B[0;31m     \u001B[0mc1\u001B[0m \u001B[0;34m=\u001B[0m \u001B[0;32mawait\u001B[0m \u001B[0mAsyncClient\u001B[0m\u001B[0;34m.\u001B[0m\u001B[0mcreate\u001B[0m\u001B[0;34m(\u001B[0m\u001B[0;34m)\u001B[0m \u001B[0;32mif\u001B[0m \u001B[0;32mnot\u001B[0m \u001B[0mclient\u001B[0m \u001B[0;32melse\u001B[0m \u001B[0mclient\u001B[0m\u001B[0;34m\u001B[0m\u001B[0;34m\u001B[0m\u001B[0m\n\u001B[0m\u001B[1;32m     22\u001B[0m     \u001B[0msocket\u001B[0m \u001B[0;34m=\u001B[0m \u001B[0mBinanceSocketManager\u001B[0m\u001B[0;34m(\u001B[0m\u001B[0mc1\u001B[0m\u001B[0;34m)\u001B[0m\u001B[0;34m\u001B[0m\u001B[0;34m\u001B[0m\u001B[0m\n\u001B[1;32m     23\u001B[0m     \u001B[0;32mreturn\u001B[0m \u001B[0msocket\u001B[0m\u001B[0;34m\u001B[0m\u001B[0;34m\u001B[0m\u001B[0m\n",
      "\u001B[0;32m/usr/local/lib/python3.8/dist-packages/binance/client.py\u001B[0m in \u001B[0;36mcreate\u001B[0;34m(cls, api_key, api_secret, requests_params, tld, testnet, loop)\u001B[0m\n\u001B[1;32m   7256\u001B[0m \u001B[0;34m\u001B[0m\u001B[0m\n\u001B[1;32m   7257\u001B[0m         \u001B[0;32mtry\u001B[0m\u001B[0;34m:\u001B[0m\u001B[0;34m\u001B[0m\u001B[0;34m\u001B[0m\u001B[0m\n\u001B[0;32m-> 7258\u001B[0;31m             \u001B[0;32mawait\u001B[0m \u001B[0mself\u001B[0m\u001B[0;34m.\u001B[0m\u001B[0mping\u001B[0m\u001B[0;34m(\u001B[0m\u001B[0;34m)\u001B[0m\u001B[0;34m\u001B[0m\u001B[0;34m\u001B[0m\u001B[0m\n\u001B[0m\u001B[1;32m   7259\u001B[0m \u001B[0;34m\u001B[0m\u001B[0m\n\u001B[1;32m   7260\u001B[0m             \u001B[0;31m# calculate timestamp offset between local and binance server\u001B[0m\u001B[0;34m\u001B[0m\u001B[0;34m\u001B[0m\u001B[0;34m\u001B[0m\u001B[0m\n",
      "\u001B[0;32m/usr/local/lib/python3.8/dist-packages/binance/client.py\u001B[0m in \u001B[0;36mping\u001B[0;34m(self)\u001B[0m\n\u001B[1;32m   7377\u001B[0m \u001B[0;34m\u001B[0m\u001B[0m\n\u001B[1;32m   7378\u001B[0m     \u001B[0;32masync\u001B[0m \u001B[0;32mdef\u001B[0m \u001B[0mping\u001B[0m\u001B[0;34m(\u001B[0m\u001B[0mself\u001B[0m\u001B[0;34m)\u001B[0m \u001B[0;34m->\u001B[0m \u001B[0mDict\u001B[0m\u001B[0;34m:\u001B[0m\u001B[0;34m\u001B[0m\u001B[0;34m\u001B[0m\u001B[0m\n\u001B[0;32m-> 7379\u001B[0;31m         \u001B[0;32mreturn\u001B[0m \u001B[0;32mawait\u001B[0m \u001B[0mself\u001B[0m\u001B[0;34m.\u001B[0m\u001B[0m_get\u001B[0m\u001B[0;34m(\u001B[0m\u001B[0;34m'ping'\u001B[0m\u001B[0;34m,\u001B[0m \u001B[0mversion\u001B[0m\u001B[0;34m=\u001B[0m\u001B[0mself\u001B[0m\u001B[0;34m.\u001B[0m\u001B[0mPRIVATE_API_VERSION\u001B[0m\u001B[0;34m)\u001B[0m\u001B[0;34m\u001B[0m\u001B[0;34m\u001B[0m\u001B[0m\n\u001B[0m\u001B[1;32m   7380\u001B[0m     \u001B[0mping\u001B[0m\u001B[0;34m.\u001B[0m\u001B[0m__doc__\u001B[0m \u001B[0;34m=\u001B[0m \u001B[0mClient\u001B[0m\u001B[0;34m.\u001B[0m\u001B[0mping\u001B[0m\u001B[0;34m.\u001B[0m\u001B[0m__doc__\u001B[0m\u001B[0;34m\u001B[0m\u001B[0;34m\u001B[0m\u001B[0m\n\u001B[1;32m   7381\u001B[0m \u001B[0;34m\u001B[0m\u001B[0m\n",
      "\u001B[0;32m/usr/local/lib/python3.8/dist-packages/binance/client.py\u001B[0m in \u001B[0;36m_get\u001B[0;34m(self, path, signed, version, **kwargs)\u001B[0m\n\u001B[1;32m   7342\u001B[0m \u001B[0;34m\u001B[0m\u001B[0m\n\u001B[1;32m   7343\u001B[0m     \u001B[0;32masync\u001B[0m \u001B[0;32mdef\u001B[0m \u001B[0m_get\u001B[0m\u001B[0;34m(\u001B[0m\u001B[0mself\u001B[0m\u001B[0;34m,\u001B[0m \u001B[0mpath\u001B[0m\u001B[0;34m,\u001B[0m \u001B[0msigned\u001B[0m\u001B[0;34m=\u001B[0m\u001B[0;32mFalse\u001B[0m\u001B[0;34m,\u001B[0m \u001B[0mversion\u001B[0m\u001B[0;34m=\u001B[0m\u001B[0mBaseClient\u001B[0m\u001B[0;34m.\u001B[0m\u001B[0mPUBLIC_API_VERSION\u001B[0m\u001B[0;34m,\u001B[0m \u001B[0;34m**\u001B[0m\u001B[0mkwargs\u001B[0m\u001B[0;34m)\u001B[0m\u001B[0;34m:\u001B[0m\u001B[0;34m\u001B[0m\u001B[0;34m\u001B[0m\u001B[0m\n\u001B[0;32m-> 7344\u001B[0;31m         \u001B[0;32mreturn\u001B[0m \u001B[0;32mawait\u001B[0m \u001B[0mself\u001B[0m\u001B[0;34m.\u001B[0m\u001B[0m_request_api\u001B[0m\u001B[0;34m(\u001B[0m\u001B[0;34m'get'\u001B[0m\u001B[0;34m,\u001B[0m \u001B[0mpath\u001B[0m\u001B[0;34m,\u001B[0m \u001B[0msigned\u001B[0m\u001B[0;34m,\u001B[0m \u001B[0mversion\u001B[0m\u001B[0;34m,\u001B[0m \u001B[0;34m**\u001B[0m\u001B[0mkwargs\u001B[0m\u001B[0;34m)\u001B[0m\u001B[0;34m\u001B[0m\u001B[0;34m\u001B[0m\u001B[0m\n\u001B[0m\u001B[1;32m   7345\u001B[0m \u001B[0;34m\u001B[0m\u001B[0m\n\u001B[1;32m   7346\u001B[0m     \u001B[0;32masync\u001B[0m \u001B[0;32mdef\u001B[0m \u001B[0m_post\u001B[0m\u001B[0;34m(\u001B[0m\u001B[0mself\u001B[0m\u001B[0;34m,\u001B[0m \u001B[0mpath\u001B[0m\u001B[0;34m,\u001B[0m \u001B[0msigned\u001B[0m\u001B[0;34m=\u001B[0m\u001B[0;32mFalse\u001B[0m\u001B[0;34m,\u001B[0m \u001B[0mversion\u001B[0m\u001B[0;34m=\u001B[0m\u001B[0mBaseClient\u001B[0m\u001B[0;34m.\u001B[0m\u001B[0mPUBLIC_API_VERSION\u001B[0m\u001B[0;34m,\u001B[0m \u001B[0;34m**\u001B[0m\u001B[0mkwargs\u001B[0m\u001B[0;34m)\u001B[0m \u001B[0;34m->\u001B[0m \u001B[0mDict\u001B[0m\u001B[0;34m:\u001B[0m\u001B[0;34m\u001B[0m\u001B[0;34m\u001B[0m\u001B[0m\n",
      "\u001B[0;32m/usr/local/lib/python3.8/dist-packages/binance/client.py\u001B[0m in \u001B[0;36m_request_api\u001B[0;34m(self, method, path, signed, version, **kwargs)\u001B[0m\n\u001B[1;32m   7305\u001B[0m     \u001B[0;32masync\u001B[0m \u001B[0;32mdef\u001B[0m \u001B[0m_request_api\u001B[0m\u001B[0;34m(\u001B[0m\u001B[0mself\u001B[0m\u001B[0;34m,\u001B[0m \u001B[0mmethod\u001B[0m\u001B[0;34m,\u001B[0m \u001B[0mpath\u001B[0m\u001B[0;34m,\u001B[0m \u001B[0msigned\u001B[0m\u001B[0;34m=\u001B[0m\u001B[0;32mFalse\u001B[0m\u001B[0;34m,\u001B[0m \u001B[0mversion\u001B[0m\u001B[0;34m=\u001B[0m\u001B[0mBaseClient\u001B[0m\u001B[0;34m.\u001B[0m\u001B[0mPUBLIC_API_VERSION\u001B[0m\u001B[0;34m,\u001B[0m \u001B[0;34m**\u001B[0m\u001B[0mkwargs\u001B[0m\u001B[0;34m)\u001B[0m\u001B[0;34m:\u001B[0m\u001B[0;34m\u001B[0m\u001B[0;34m\u001B[0m\u001B[0m\n\u001B[1;32m   7306\u001B[0m         \u001B[0muri\u001B[0m \u001B[0;34m=\u001B[0m \u001B[0mself\u001B[0m\u001B[0;34m.\u001B[0m\u001B[0m_create_api_uri\u001B[0m\u001B[0;34m(\u001B[0m\u001B[0mpath\u001B[0m\u001B[0;34m,\u001B[0m \u001B[0msigned\u001B[0m\u001B[0;34m,\u001B[0m \u001B[0mversion\u001B[0m\u001B[0;34m)\u001B[0m\u001B[0;34m\u001B[0m\u001B[0;34m\u001B[0m\u001B[0m\n\u001B[0;32m-> 7307\u001B[0;31m         \u001B[0;32mreturn\u001B[0m \u001B[0;32mawait\u001B[0m \u001B[0mself\u001B[0m\u001B[0;34m.\u001B[0m\u001B[0m_request\u001B[0m\u001B[0;34m(\u001B[0m\u001B[0mmethod\u001B[0m\u001B[0;34m,\u001B[0m \u001B[0muri\u001B[0m\u001B[0;34m,\u001B[0m \u001B[0msigned\u001B[0m\u001B[0;34m,\u001B[0m \u001B[0;34m**\u001B[0m\u001B[0mkwargs\u001B[0m\u001B[0;34m)\u001B[0m\u001B[0;34m\u001B[0m\u001B[0;34m\u001B[0m\u001B[0m\n\u001B[0m\u001B[1;32m   7308\u001B[0m \u001B[0;34m\u001B[0m\u001B[0m\n\u001B[1;32m   7309\u001B[0m     \u001B[0;32masync\u001B[0m \u001B[0;32mdef\u001B[0m \u001B[0m_request_futures_api\u001B[0m\u001B[0;34m(\u001B[0m\u001B[0mself\u001B[0m\u001B[0;34m,\u001B[0m \u001B[0mmethod\u001B[0m\u001B[0;34m,\u001B[0m \u001B[0mpath\u001B[0m\u001B[0;34m,\u001B[0m \u001B[0msigned\u001B[0m\u001B[0;34m=\u001B[0m\u001B[0;32mFalse\u001B[0m\u001B[0;34m,\u001B[0m \u001B[0;34m**\u001B[0m\u001B[0mkwargs\u001B[0m\u001B[0;34m)\u001B[0m \u001B[0;34m->\u001B[0m \u001B[0mDict\u001B[0m\u001B[0;34m:\u001B[0m\u001B[0;34m\u001B[0m\u001B[0;34m\u001B[0m\u001B[0m\n",
      "\u001B[0;32m/usr/local/lib/python3.8/dist-packages/binance/client.py\u001B[0m in \u001B[0;36m_request\u001B[0;34m(self, method, uri, signed, force_params, **kwargs)\u001B[0m\n\u001B[1;32m   7288\u001B[0m         \u001B[0;32masync\u001B[0m \u001B[0;32mwith\u001B[0m \u001B[0mgetattr\u001B[0m\u001B[0;34m(\u001B[0m\u001B[0mself\u001B[0m\u001B[0;34m.\u001B[0m\u001B[0msession\u001B[0m\u001B[0;34m,\u001B[0m \u001B[0mmethod\u001B[0m\u001B[0;34m)\u001B[0m\u001B[0;34m(\u001B[0m\u001B[0muri\u001B[0m\u001B[0;34m,\u001B[0m \u001B[0;34m**\u001B[0m\u001B[0mkwargs\u001B[0m\u001B[0;34m)\u001B[0m \u001B[0;32mas\u001B[0m \u001B[0mresponse\u001B[0m\u001B[0;34m:\u001B[0m\u001B[0;34m\u001B[0m\u001B[0;34m\u001B[0m\u001B[0m\n\u001B[1;32m   7289\u001B[0m             \u001B[0mself\u001B[0m\u001B[0;34m.\u001B[0m\u001B[0mresponse\u001B[0m \u001B[0;34m=\u001B[0m \u001B[0mresponse\u001B[0m\u001B[0;34m\u001B[0m\u001B[0;34m\u001B[0m\u001B[0m\n\u001B[0;32m-> 7290\u001B[0;31m             \u001B[0;32mreturn\u001B[0m \u001B[0;32mawait\u001B[0m \u001B[0mself\u001B[0m\u001B[0;34m.\u001B[0m\u001B[0m_handle_response\u001B[0m\u001B[0;34m(\u001B[0m\u001B[0mresponse\u001B[0m\u001B[0;34m)\u001B[0m\u001B[0;34m\u001B[0m\u001B[0;34m\u001B[0m\u001B[0m\n\u001B[0m\u001B[1;32m   7291\u001B[0m \u001B[0;34m\u001B[0m\u001B[0m\n\u001B[1;32m   7292\u001B[0m     \u001B[0;32masync\u001B[0m \u001B[0;32mdef\u001B[0m \u001B[0m_handle_response\u001B[0m\u001B[0;34m(\u001B[0m\u001B[0mself\u001B[0m\u001B[0;34m,\u001B[0m \u001B[0mresponse\u001B[0m\u001B[0;34m:\u001B[0m \u001B[0maiohttp\u001B[0m\u001B[0;34m.\u001B[0m\u001B[0mClientResponse\u001B[0m\u001B[0;34m)\u001B[0m\u001B[0;34m:\u001B[0m\u001B[0;34m\u001B[0m\u001B[0;34m\u001B[0m\u001B[0m\n",
      "\u001B[0;32m/usr/local/lib/python3.8/dist-packages/binance/client.py\u001B[0m in \u001B[0;36m_handle_response\u001B[0;34m(self, response)\u001B[0m\n\u001B[1;32m   7296\u001B[0m         \"\"\"\n\u001B[1;32m   7297\u001B[0m         \u001B[0;32mif\u001B[0m \u001B[0;32mnot\u001B[0m \u001B[0mstr\u001B[0m\u001B[0;34m(\u001B[0m\u001B[0mresponse\u001B[0m\u001B[0;34m.\u001B[0m\u001B[0mstatus\u001B[0m\u001B[0;34m)\u001B[0m\u001B[0;34m.\u001B[0m\u001B[0mstartswith\u001B[0m\u001B[0;34m(\u001B[0m\u001B[0;34m'2'\u001B[0m\u001B[0;34m)\u001B[0m\u001B[0;34m:\u001B[0m\u001B[0;34m\u001B[0m\u001B[0;34m\u001B[0m\u001B[0m\n\u001B[0;32m-> 7298\u001B[0;31m             \u001B[0;32mraise\u001B[0m \u001B[0mBinanceAPIException\u001B[0m\u001B[0;34m(\u001B[0m\u001B[0mresponse\u001B[0m\u001B[0;34m,\u001B[0m \u001B[0mresponse\u001B[0m\u001B[0;34m.\u001B[0m\u001B[0mstatus\u001B[0m\u001B[0;34m,\u001B[0m \u001B[0;32mawait\u001B[0m \u001B[0mresponse\u001B[0m\u001B[0;34m.\u001B[0m\u001B[0mtext\u001B[0m\u001B[0;34m(\u001B[0m\u001B[0;34m)\u001B[0m\u001B[0;34m)\u001B[0m\u001B[0;34m\u001B[0m\u001B[0;34m\u001B[0m\u001B[0m\n\u001B[0m\u001B[1;32m   7299\u001B[0m         \u001B[0;32mtry\u001B[0m\u001B[0;34m:\u001B[0m\u001B[0;34m\u001B[0m\u001B[0;34m\u001B[0m\u001B[0m\n\u001B[1;32m   7300\u001B[0m             \u001B[0;32mreturn\u001B[0m \u001B[0;32mawait\u001B[0m \u001B[0mresponse\u001B[0m\u001B[0;34m.\u001B[0m\u001B[0mjson\u001B[0m\u001B[0;34m(\u001B[0m\u001B[0;34m)\u001B[0m\u001B[0;34m\u001B[0m\u001B[0;34m\u001B[0m\u001B[0m\n",
      "\u001B[0;31mBinanceAPIException\u001B[0m: APIError(code=0): Service unavailable from a restricted location according to 'b. Eligibility' in https://www.binance.com/en/terms. Please contact customer service if you believe you received this message in error."
     ]
    }
   ],
   "source": [
    "socket = socket_manager().result()\n",
    "\n",
    "main().result()"
   ]
  },
  {
   "cell_type": "code",
   "execution_count": null,
   "metadata": {
    "id": "Q49Hl1-7oNwv"
   },
   "outputs": [],
   "source": [
    "##THIS is overall i guess its bitcoins\n",
    "\n",
    "import requests\n",
    "\n",
    "url = \"https://fear-and-greed-index.p.rapidapi.com/v1/fgi\"\n",
    "\n",
    "headers = {\n",
    "    'x-rapidapi-host': \"fear-and-greed-index.p.rapidapi.com\",\n",
    "    'x-rapidapi-key': \"56c20be206msh6f859fcbad9eef4p1810efjsn69b5010a55d2\"\n",
    "    }\n",
    "\n",
    "response = requests.request(\"GET\", url, headers=headers)\n",
    "\n",
    "print(response.text)"
   ]
  },
  {
   "cell_type": "code",
   "execution_count": null,
   "metadata": {
    "id": "7J8hHJmNoTAN"
   },
   "outputs": [],
   "source": [
    "#I need to find fgi using macd at larger intervals & take the avg\n",
    "\n",
    "#get k-lines - dont just take closes, take opens,and avg . %of that two\n",
    "\n",
    "#overall macd should be used to say whether the market is bulling or bearish !!!....\n",
    "\n",
    "#async fc or keepAlive should do the job\n",
    "\n",
    "#also take crypto fgi into consideration"
   ]
  },
  {
   "cell_type": "code",
   "execution_count": null,
   "metadata": {
    "id": "h4uFhw7Dn5ef"
   },
   "outputs": [],
   "source": [
    "df= income(1,1)\n",
    "print(df)\n",
    "df.groupby(by=['symbol']).sum()"
   ]
  },
  {
   "cell_type": "code",
   "execution_count": null,
   "metadata": {
    "id": "HOPpN0XzSfkF"
   },
   "outputs": [],
   "source": [
    "import subprocess\n",
    "\n",
    "proc = subprocess.Popen(\n",
    "            ic(),\n",
    "            shell=False,\n",
    "            stdout=subprocess.PIPE,\n",
    "        )\n",
    "\n",
    "while proc.poll() is None:\n",
    "   ic(proc.stdout.readline() + '<br/>\\n')"
   ]
  },
  {
   "cell_type": "markdown",
   "metadata": {
    "id": "x_vfb-Fl24-A"
   },
   "source": [
    "https://binance-docs.github.io/apidocs/futures/en/#20xx-processing-issues"
   ]
  },
  {
   "cell_type": "code",
   "execution_count": null,
   "metadata": {
    "id": "wD7oNIW7Twj-"
   },
   "outputs": [],
   "source": [
    "import sys\n",
    "\n",
    "with open(sys.stdout,'r') as f1:\n",
    "     c = f1.read()\n",
    "     ic(c)"
   ]
  },
  {
   "cell_type": "markdown",
   "metadata": {
    "id": "JGRfFxZ8xRli"
   },
   "source": [
    "Work Area"
   ]
  },
  {
   "cell_type": "code",
   "execution_count": null,
   "metadata": {
    "id": "3U0SL-gWqGqN"
   },
   "outputs": [],
   "source": [
    "!date"
   ]
  },
  {
   "cell_type": "code",
   "execution_count": null,
   "metadata": {
    "id": "RPW7tH5u_AYR"
   },
   "outputs": [],
   "source": [
    "!date"
   ]
  },
  {
   "cell_type": "code",
   "execution_count": null,
   "metadata": {
    "id": "uB28TJ4jqMyd"
   },
   "outputs": [],
   "source": [
    "income()"
   ]
  },
  {
   "cell_type": "code",
   "execution_count": null,
   "metadata": {
    "id": "LX2LSk4Bp3FW"
   },
   "outputs": [],
   "source": [
    "income(False,False)"
   ]
  },
  {
   "cell_type": "code",
   "execution_count": null,
   "metadata": {
    "id": "qqV3tnXLPCWT"
   },
   "outputs": [],
   "source": [
    "def get_macd(price, slow, fast, smooth):\n",
    "    exp1 = price.ewm(span = fast, adjust = False).mean() #properties of df\n",
    "    exp2 = price.ewm(span = slow, adjust = False).mean()\n",
    "    df = pd.DataFrame()\n",
    "    df['price'] = price\n",
    "    df['macd'] = exp1 - exp2\n",
    "    df['signal'] = df['macd'].ewm(span = smooth, adjust = False).mean()\n",
    "    df['hist'] = df['macd'] - df['signal']\n",
    "    return df\n",
    "\n",
    "cd = pd.DataFrame(CLOSES)\n",
    "mac1 = get_macd(cd, 26, 12, 9)"
   ]
  },
  {
   "cell_type": "code",
   "execution_count": null,
   "metadata": {
    "id": "Hr2lSW_rRvN4"
   },
   "outputs": [],
   "source": [
    "import multiprocessing #standard in python 3\n",
    "from threading import enumerate\n",
    "\n",
    "print(multiprocessing.cpu_count())\n",
    "ic(threading.active_count())\n",
    "\n",
    "for thread in enumerate(): \n",
    "    print(thread.name)\n",
    "\n"
   ]
  },
  {
   "cell_type": "code",
   "execution_count": null,
   "metadata": {
    "id": "ATlFeVVCdXKl"
   },
   "outputs": [],
   "source": [
    "p = lambda x : print(\"SDSD\")\n",
    "def timeIT(fc,*args):\n",
    "  k=[]\n",
    "  for i in range(1000):\n",
    "    x = time.time()\n",
    "    y = time.time()\n",
    "    fc(*args)\n",
    "    k.append(x-y)\n",
    "  z = np.array(k).mean()\n",
    "  ic(fc.__name__,'took',z)\n",
    "  return z\n",
    "\n",
    "# timeIT(p)\n",
    "cd = pd.DataFrame(CLOSES)\n",
    "timeIT(get_macd,cd,26,12,9)\n",
    "timeIT(talib.MACD,CLOSES,12,26,9) #Talib is faster apparently..."
   ]
  },
  {
   "cell_type": "code",
   "execution_count": null,
   "metadata": {
    "id": "34DUVy5EoDjJ"
   },
   "outputs": [],
   "source": [
    "def async_run(fc):\n",
    "  def inner(*args,**kwargs):\n",
    "    coroutine = fc(*args,**kwargs)\n",
    "    try:\n",
    "        loop = asyncio.get_running_loop()\n",
    "    except RuntimeError:  \n",
    "        loop = None\n",
    "        log.debug('Starting new event loop')\n",
    "        asyncio.run(coroutine)\n",
    "    else:\n",
    "        log.debug('Async event loop already running. Adding coroutine to the event loop.')\n",
    "        tsk = loop.create_task(coroutine)\n",
    "        tsk.add_done_callback(lambda t: print(f'Task done with result={t.result()}'))\n",
    "  return inner"
   ]
  },
  {
   "cell_type": "code",
   "execution_count": null,
   "metadata": {
    "id": "Au4dudS5BnWL"
   },
   "outputs": [],
   "source": [
    "    # @unsync(cpu_bound=True)\n"
   ]
  },
  {
   "cell_type": "code",
   "execution_count": null,
   "metadata": {
    "id": "FfI6TpLims6G"
   },
   "outputs": [],
   "source": [
    "\n",
    "@async_run\n",
    "async def c(v):\n",
    "  while 1:\n",
    "    ic(v,122)\n",
    "    await asyncio.sleep(3)\n",
    "\n",
    "async def d(v):\n",
    "  print(v)\n"
   ]
  },
  {
   "cell_type": "code",
   "execution_count": null,
   "metadata": {
    "id": "KuM7eaz-nL6X"
   },
   "outputs": [],
   "source": [
    "c(1)"
   ]
  },
  {
   "cell_type": "code",
   "execution_count": null,
   "metadata": {
    "id": "uT5PWgDcumwk"
   },
   "outputs": [],
   "source": [
    "loop = asyncio.get_running_loop()"
   ]
  },
  {
   "cell_type": "code",
   "execution_count": null,
   "metadata": {
    "id": "qT2338ip_Vyz"
   },
   "outputs": [],
   "source": []
  },
  {
   "cell_type": "code",
   "execution_count": null,
   "metadata": {
    "id": "E2H479TD8CBk"
   },
   "outputs": [],
   "source": [
    "c = CLOSES \n",
    "m,s,histogram = talib.MACD(c, fastperiod=12, slowperiod=26, signalperiod=9)\n",
    "frames = talib.MACD(c, fastperiod=12, slowperiod=26, signalperiod=9)\n",
    "# df = pd.concat([m,s,histogram], join = 'inner', axis = 1)\n",
    "df = pd.DataFrame(frames).transpose()\n",
    "df.columns = ['macd','signal','histogram']\n",
    "# df.dropna(inplace=True)\n",
    "df\n",
    "\n",
    "\n",
    "# m,s = df.iloc[0,:2]\n",
    "\n",
    "# net = m-s\n",
    "# if m>]\n",
    "\n",
    "# prev_net = net\n",
    "# net = m-s\n",
    " "
   ]
  },
  {
   "cell_type": "markdown",
   "metadata": {
    "id": "n63e3MpFBA-6"
   },
   "source": [
    "Ploting macd plus our Strategy"
   ]
  },
  {
   "cell_type": "code",
   "execution_count": null,
   "metadata": {
    "id": "9B_YMvO4YVxm"
   },
   "outputs": [],
   "source": [
    "def implement_macd_strategy(prices, data):    #for ploting\n",
    "    buy_price = []\n",
    "    sell_price = []\n",
    "    macd_signal = []\n",
    "    signal = 0\n",
    "\n",
    "    for i in range(len(data)):\n",
    "        if data['macd'][i] > data['signal'][i]:\n",
    "            if signal != 1:\n",
    "                buy_price.append(prices[i])\n",
    "                sell_price.append(np.nan)\n",
    "                signal = 1\n",
    "                macd_signal.append(signal)\n",
    "            else:\n",
    "                buy_price.append(np.nan)\n",
    "                sell_price.append(np.nan)\n",
    "                macd_signal.append(0)\n",
    "        elif data['macd'][i] < data['signal'][i]:\n",
    "            if signal != -1:\n",
    "                buy_price.append(np.nan)\n",
    "                sell_price.append(prices[i])\n",
    "                signal = -1\n",
    "                macd_signal.append(signal)\n",
    "            else:\n",
    "                buy_price.append(np.nan)\n",
    "                sell_price.append(np.nan)\n",
    "                macd_signal.append(0)\n",
    "        else:\n",
    "            buy_price.append(np.nan)\n",
    "            sell_price.append(np.nan)\n",
    "            macd_signal.append(0)\n",
    "            \n",
    "    return buy_price, sell_price, macd_signal\n",
    "            \n",
    "buy_price, sell_price, macd_signal = MACDStrategy(df['price'], df)\n"
   ]
  },
  {
   "cell_type": "code",
   "execution_count": null,
   "metadata": {
    "id": "RLwqc0TUMf_2"
   },
   "outputs": [],
   "source": [
    "import matplotlib.pyplot as plt \n",
    "\n",
    "\n",
    "plt.rcParams['figure.figsize'] = (10, 10)\n",
    "plt.style.use('fivethirtyeight')\n",
    "\n",
    "def plot_macd(prices, macd, signal, hist):\n",
    "    ax1 = plt.subplot2grid((8,1), (0,0), rowspan = 5, colspan = 1)\n",
    "    ax2 = plt.subplot2grid((8,1), (5,0), rowspan = 3, colspan = 1)\n",
    "\n",
    "    ax1.plot(prices)\n",
    "    ax2.plot(macd, color = 'grey', linewidth = 1.5, label = 'MACD')\n",
    "    ax2.plot(signal, color = 'skyblue', linewidth = 1.5, label = 'SIGNAL')\n",
    "\n",
    "    for i in range(len(prices)):\n",
    "        if hist[i]<0:\n",
    "            ax2.bar(prices.index[i], hist[i], color = '#ef5350')\n",
    "        else:\n",
    "            ax2.bar(prices.index[i], hist[i], color = '#26a69a')\n",
    "\n",
    "    plt.legend(loc = 'lower right')\n",
    "df = mac1\n",
    "l = [df[i].to_list() for i in df.columns][1:]\n",
    "plot_macd(df['price'],*l)\n"
   ]
  },
  {
   "cell_type": "code",
   "execution_count": null,
   "metadata": {
    "id": "6wZTk0TQZbXp"
   },
   "outputs": [],
   "source": [
    "ax1 = plt.subplot2grid((8,1), (0,0), rowspan = 5, colspan = 1)\n",
    "ax2 = plt.subplot2grid((8,1), (5,0), rowspan = 3, colspan = 1)\n",
    "\n",
    "ax1.plot(df['price'], color = 'skyblue', linewidth = 2, label = 'price')\n",
    "ax1.plot(df.index, buy_price, marker = '^', color = 'green', markersize = 10, label = 'BUY SIGNAL', linewidth = 0)\n",
    "ax1.plot(df.index, sell_price, marker = 'v', color = 'r', markersize = 10, label = 'SELL SIGNAL', linewidth = 0)\n",
    "ax1.legend()\n",
    "ax1.set_title('df MACD SIGNALS')\n",
    "ax2.plot(df['macd'], color = 'grey', linewidth = 1.5, label = 'MACD')\n",
    "ax2.plot(df['signal'], color = 'skyblue', linewidth = 1.5, label = 'SIGNAL')\n",
    "\n",
    "for i in range(len(df)):\n",
    "    if str(df['hist'][i])[0] == '-':\n",
    "        ax2.bar(df.index[i], df['hist'][i], color = '#ef5350')\n",
    "    else:\n",
    "        ax2.bar(df.index[i], df['hist'][i], color = '#26a69a')\n",
    "        \n",
    "plt.legend(loc = 'lower right')\n",
    "plt.show()"
   ]
  },
  {
   "cell_type": "code",
   "execution_count": null,
   "metadata": {
    "id": "v3je5LhjW5L9"
   },
   "outputs": [],
   "source": [
    "df['price'].tail()"
   ]
  },
  {
   "cell_type": "code",
   "execution_count": null,
   "metadata": {
    "id": "cIQotc4YV-jr"
   },
   "outputs": [],
   "source": [
    "df"
   ]
  },
  {
   "cell_type": "code",
   "execution_count": null,
   "metadata": {
    "id": "mCZTl8NYu5YT"
   },
   "outputs": [],
   "source": [
    "positions()"
   ]
  },
  {
   "cell_type": "code",
   "execution_count": null,
   "metadata": {
    "id": "9TxJSPhUQUW0"
   },
   "outputs": [],
   "source": [
    "while 1:\n",
    "  print(positions()['unRealizedProfit'].sum())\n",
    "  time.sleep(5)\n"
   ]
  },
  {
   "cell_type": "code",
   "execution_count": null,
   "metadata": {
    "id": "jn6p4Asy66qq"
   },
   "outputs": [],
   "source": [
    "# try:\n",
    "#   loop = asyncio.get_running_loop()\n",
    "#   main().result()\n",
    "# except Exception as e:\n",
    "#   lp = asyncio.get_event_loop()\n",
    "#   # lp.stop()\n",
    "#   print('Crash')\n",
    "#   # loop.stop()`\n",
    "#   print(e)"
   ]
  },
  {
   "cell_type": "markdown",
   "metadata": {
    "id": "mqGgzdAjV17B"
   },
   "source": [
    "https://www.shanelynn.ie/using-python-threading-for-multiple-results-queue/\n",
    "https://stackoverflow.com/questions/20056300/python-print-output-of-each-thread-to-seperate-file-no-processes"
   ]
  },
  {
   "cell_type": "code",
   "execution_count": null,
   "metadata": {
    "id": "WRs9DbghFTIL"
   },
   "outputs": [],
   "source": [
    "#https://medium.com/codex/algorithmic-trading-with-macd-in-python-1c2769a6ad1b"
   ]
  },
  {
   "cell_type": "code",
   "execution_count": null,
   "metadata": {
    "id": "KdIG2MiH8JKR"
   },
   "outputs": [],
   "source": [
    "# bearish when macd <0\n",
    "#bullish macd crosses >0\n"
   ]
  },
  {
   "cell_type": "code",
   "execution_count": null,
   "metadata": {
    "id": "Tq9EEdKU8Baa"
   },
   "outputs": [],
   "source": [
    "#bearosj macd croses  bellow signal line"
   ]
  },
  {
   "cell_type": "code",
   "execution_count": null,
   "metadata": {
    "id": "7RxUCaxt44up"
   },
   "outputs": [],
   "source": [
    "# try:\n",
    "#     loop = asyncio.get_running_loop()\n",
    "# except RuntimeError:  # 'RuntimeError: There is no current event loop...'\n",
    "#     loop = None\n",
    "\n",
    "# if loop and loop.is_running():\n",
    "#     print('Async event loop already running. Adding coroutine to the event loop.')\n",
    "#     tsk = loop.create_task(main())\n",
    "#     # ^-- https://docs.python.org/3/library/asyncio-task.html#task-object\n",
    "#     # Optionally, a callback function can be executed when the coroutine completes\n",
    "#     tsk.add_done_callback(\n",
    "#         lambda t: print(f'Task done with result={t.result()}  << return val of main()'))\n",
    "# else:\n",
    "#     print('Starting new event loop')\n",
    "#     asyncio.run(main())"
   ]
  },
  {
   "cell_type": "code",
   "execution_count": null,
   "metadata": {
    "id": "xQW9oa0yOXdK"
   },
   "outputs": [],
   "source": [
    "#  miniticker_socket(self, update_time: int = 1000):\n",
    "  # aggtrade_socket(\n",
    "  #     symbol_ticker_socket(self, symbol: str):\n",
    "  #     ticker_socket(self):\n",
    "  #         def index_price_socket(self, symbol: str, fast: bool = True):\n"
   ]
  },
  {
   "cell_type": "markdown",
   "metadata": {
    "id": "0j0elZ7XhEEv"
   },
   "source": [
    "Prediction\n"
   ]
  },
  {
   "cell_type": "code",
   "execution_count": null,
   "metadata": {
    "id": "6oBktNCupqlB"
   },
   "outputs": [],
   "source": [
    "from fbprophet import Prophet\n",
    "\n",
    "\n",
    "def predict(df,freq='1',period=60,mode='L',his=True):\n",
    "  d = {'L':'linear','log':'logistic'}\n",
    "  m = Prophet(growth=d.get(mode),daily_seasonality=True)\n",
    "\n",
    "  m.fit(df)\n",
    "  fut = m.make_future_dataframe(periods=period,freq=f'{freq}min',include_history=his)\n",
    "  fore = m.predict(fut)\n",
    "  fore['ds']  = fore['ds'].values.tolist()\n",
    "  return fore"
   ]
  },
  {
   "cell_type": "markdown",
   "metadata": {
    "id": "kfKCSpFWDKys"
   },
   "source": [
    "Historical "
   ]
  },
  {
   "cell_type": "code",
   "execution_count": null,
   "metadata": {
    "id": "yR6KnpdodrFi"
   },
   "outputs": [],
   "source": [
    "import numpy as np\n",
    "\n",
    "df=history('BTC','1m','1 day ago')\n",
    "# df['date']  = pd.to_datetime(df['date']).dt.time\n",
    "make_history(df)\n",
    "\n",
    "# make_history(df)\n",
    "\n",
    "# df['ds'] = df['ds'].apply(lambda x: pd.Timestamp(x))\n",
    "# df['ts'] = df.ds.values.astype(np.int64) "
   ]
  },
  {
   "cell_type": "code",
   "execution_count": null,
   "metadata": {
    "id": "2kXciE8c2Ifm"
   },
   "outputs": [],
   "source": [
    "df['ds'] = df.ds.values.tolist()"
   ]
  },
  {
   "cell_type": "code",
   "execution_count": null,
   "metadata": {
    "id": "tahb7x0c2PAZ"
   },
   "outputs": [],
   "source": [
    "df.loc[df['ds']==1642402980000000000]"
   ]
  },
  {
   "cell_type": "code",
   "execution_count": null,
   "metadata": {
    "id": "QH2U1Bl0mvmL"
   },
   "outputs": [],
   "source": [
    "ff = predict(df,1,100,his=False)\n",
    "# ff['ds']=pd.to_datetime(df['ds']).dt.time\n",
    "ff\n",
    "tr\n"
   ]
  },
  {
   "cell_type": "code",
   "execution_count": null,
   "metadata": {
    "id": "jnSX-SLBr9q_"
   },
   "outputs": [],
   "source": [
    "!date"
   ]
  },
  {
   "cell_type": "code",
   "execution_count": null,
   "metadata": {
    "id": "uHg1DG54eD-z"
   },
   "outputs": [],
   "source": [
    "df[1440:]"
   ]
  },
  {
   "cell_type": "code",
   "execution_count": null,
   "metadata": {
    "id": "QohWR9f3R_Y7"
   },
   "outputs": [],
   "source": [
    "xf=history('EOS','1m','1 day ago')\n",
    "make_history(xf)\n",
    "predict(xf)"
   ]
  },
  {
   "cell_type": "code",
   "execution_count": null,
   "metadata": {
    "id": "_xSCtUVB_9pq"
   },
   "outputs": [],
   "source": [
    "x = df['ds'].iloc[1] -today()\n",
    "x"
   ]
  },
  {
   "cell_type": "code",
   "execution_count": null,
   "metadata": {
    "id": "88zZLG4gL4A0"
   },
   "outputs": [],
   "source": [
    "#Streaming\n",
    "\n",
    "def listenKey(key=None,op=0):\n",
    "  if op: return client.futures_stream_close(key)\n",
    "  elif key==None:return client.futures_stream_get_listen_key()\n",
    "  return client.futures_stream_keepalive(key)\n"
   ]
  },
  {
   "cell_type": "code",
   "execution_count": null,
   "metadata": {
    "id": "byH8WsoFmNiW"
   },
   "outputs": [],
   "source": [
    "predict(df)"
   ]
  },
  {
   "cell_type": "code",
   "execution_count": null,
   "metadata": {
    "id": "gC5KzSw6U4Qr"
   },
   "outputs": [],
   "source": [
    "predict(xf)"
   ]
  },
  {
   "cell_type": "code",
   "execution_count": null,
   "metadata": {
    "id": "38NYbYtmVa5G"
   },
   "outputs": [],
   "source": [
    "m = Prophet(daily_seasonality=True)\n",
    "m.fit(df)\n",
    "fut = m.make_future_dataframe(periods=20,freq=f'{1}min',include_history=True)\n",
    "fore = m.predict(fut)\n",
    "fore.tail()"
   ]
  },
  {
   "cell_type": "code",
   "execution_count": null,
   "metadata": {
    "id": "oUpuRdwzfHQU"
   },
   "outputs": [],
   "source": [
    "\n",
    "m.plot(fore); #close->low "
   ]
  },
  {
   "cell_type": "code",
   "execution_count": null,
   "metadata": {
    "id": "Psw5cBatfQrk"
   },
   "outputs": [],
   "source": [
    "m.plot(fore); "
   ]
  },
  {
   "cell_type": "code",
   "execution_count": null,
   "metadata": {
    "id": "mwqBJP6AoOkh"
   },
   "outputs": [],
   "source": [
    "m.plot(fore,figsize=(20,8));"
   ]
  },
  {
   "cell_type": "code",
   "execution_count": null,
   "metadata": {
    "id": "pv4OnatPnUa_"
   },
   "outputs": [],
   "source": [
    "m.plot(fore,figsize=(20,8)); #linear"
   ]
  },
  {
   "cell_type": "code",
   "execution_count": null,
   "metadata": {
    "id": "eD0yFyR0m1Ez"
   },
   "outputs": [],
   "source": [
    "m.plot(fore);"
   ]
  },
  {
   "cell_type": "code",
   "execution_count": null,
   "metadata": {
    "id": "NGY0CRSflgCA"
   },
   "outputs": [],
   "source": [
    "m.plot_components(fore);"
   ]
  },
  {
   "cell_type": "code",
   "execution_count": null,
   "metadata": {
    "id": "XdBJUdh2qjBW"
   },
   "outputs": [],
   "source": []
  },
  {
   "cell_type": "code",
   "execution_count": null,
   "metadata": {
    "id": "pZ08kfl6heYv"
   },
   "outputs": [],
   "source": [
    "fore[len(df):][['yhat','yhat_lower','yhat_upper','ds']]"
   ]
  },
  {
   "cell_type": "markdown",
   "metadata": {
    "id": "2Kni47KUkvC8"
   },
   "source": [
    "https://towardsdatascience.com/a-quick-start-of-time-series-forecasting-with-a-practical-example-using-fb-prophet-31c4447a2274\n",
    "\n",
    "https://stackoverflow.com/questions/59843459/forecasting-in-fb-prophet-by-minute\n"
   ]
  },
  {
   "cell_type": "markdown",
   "metadata": {
    "id": "0iT9MLwVBlMz"
   },
   "source": [
    "CandleSticks"
   ]
  },
  {
   "cell_type": "markdown",
   "metadata": {
    "id": "TM8LoYeZF0MT"
   },
   "source": [
    "Unarchives\n"
   ]
  },
  {
   "cell_type": "markdown",
   "metadata": {
    "id": "CiXodX60F7zX"
   },
   "source": [
    "Account"
   ]
  },
  {
   "cell_type": "markdown",
   "metadata": {
    "id": "FfP7Gwt2GjnE"
   },
   "source": [
    "Market Data Endpoints"
   ]
  },
  {
   "cell_type": "markdown",
   "metadata": {
    "id": "HTtyljxvG-8F"
   },
   "source": [
    "Async"
   ]
  },
  {
   "cell_type": "code",
   "execution_count": null,
   "metadata": {
    "id": "CxWjxCwZ-fin"
   },
   "outputs": [],
   "source": [
    "%magic"
   ]
  },
  {
   "cell_type": "markdown",
   "metadata": {
    "id": "VPaeI1yTBZzy"
   },
   "source": [
    "Bibiliography\n",
    "\n",
    "https://github.com/sammchardy/python-binance/blob/master/binance/client.py\n",
    "\n",
    "https://colab.research.dfe.com/drive/1knvw5uUReCjrN7dbZNP-OzYs1OY5Mmc4#scrollTo=y_RiMszHFCZ_\n",
    "\n",
    "https://algotrading101.com/learn/binance-python-api-guide/\n",
    "\n",
    "https://medium.com/analytics-vidhya/futures-trading-with-python-binance-d738c71e17b5\n",
    "\n",
    "https://binance-docs.github.io/apidocs/futures/en/#new-future-account-transfer\n",
    "\n",
    "https://readthedocs.org/projects/python-binance/downloads/pdf/latest/\n",
    "\n",
    "\n",
    "https://testnet.binancefuture.com/en/futures/BTCUSDT\n",
    "\n",
    "\n"
   ]
  }
 ],
 "metadata": {
  "colab": {
   "provenance": []
  },
  "kernelspec": {
   "display_name": "Python 3",
   "name": "python3"
  },
  "language_info": {
   "name": "python"
  }
 },
 "nbformat": 4,
 "nbformat_minor": 0
}
