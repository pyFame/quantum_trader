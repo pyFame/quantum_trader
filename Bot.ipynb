{
 "cells": [
  {
   "cell_type": "code",
   "execution_count": 1,
   "metadata": {
    "collapsed": true
   },
   "outputs": [],
   "source": [
    "from binance import Client, AsyncClient, BinanceSocketManager\n",
    "\n",
    "def gen_client(testnet=True):\n",
    "\n",
    "    if testnet:\n",
    "        api_key = \"17decb9a46f67558c5088856ee8c3fa28c20c72de37bb8cffc9924a2a9cc0a12\"\n",
    "        api_secret = '7e27cf5baa00ab22734a4781d5050d20be40ab0c2289567769eb2a789d3a294e'\n",
    "\n",
    "    client = Client(api_key, api_secret, testnet=testnet, tld='us')\n",
    "\n",
    "    async_client = AsyncClient(api_key, api_secret, testnet=testnet)  # ,tld='us')\n",
    "\n",
    "\n",
    "    return client, async_client\n",
    "\n",
    "testnet = True\n",
    "client,async_client = gen_client(testnet)"
   ]
  },
  {
   "cell_type": "code",
   "execution_count": null,
   "outputs": [],
   "source": [],
   "metadata": {
    "collapsed": false
   }
  }
 ],
 "metadata": {
  "kernelspec": {
   "display_name": "Python 3",
   "language": "python",
   "name": "python3"
  },
  "language_info": {
   "codemirror_mode": {
    "name": "ipython",
    "version": 2
   },
   "file_extension": ".py",
   "mimetype": "text/x-python",
   "name": "python",
   "nbconvert_exporter": "python",
   "pygments_lexer": "ipython2",
   "version": "2.7.6"
  }
 },
 "nbformat": 4,
 "nbformat_minor": 0
}
