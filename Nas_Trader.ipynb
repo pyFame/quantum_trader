{
  "cells": [
    {
      "cell_type": "code",
      "execution_count": null,
      "metadata": {
        "id": "LRJ6xDOsdkMN"
      },
      "outputs": [],
      "source": [
        "%%capture \n",
        "%%shell\n",
        "wget http://prdownloads.sourceforge.net/ta-lib/ta-lib-0.4.0-src.tar.gz\n",
        "tar -xzf ta-lib-0.4.0-src.tar.gz\n",
        "cd ta-lib\n",
        "sudo ./configure\n",
        "sudo make\n",
        "sudo make install\n",
        "pip install TA-Lib  python-binance  unsync icecream #pystan==2.19.1.1 prophet "
      ]
    },
    {
      "cell_type": "code",
      "execution_count": null,
      "metadata": {
        "id": "_xwh-pFliJgX"
      },
      "outputs": [],
      "source": [
        "def today():\n",
        "  from datetime import datetime as dt\n",
        "  x = dt.now()\n",
        "  x = x.replace(second=0,microsecond=0)\n",
        "  return x\n",
        "\n",
        "def deltaTime(min=1,sec=0):\n",
        "  from datetime import timedelta as td\n",
        "  return td(minutes=min,seconds=sec)\n",
        "\n",
        "def to_date(column):\n",
        "  return pd.to_datetime(column,unit='ms')\n",
        "\n",
        "def futureTime(date=today(),min=1):\n",
        " return date+deltaTime(min)\n",
        " \n",
        "pluck = lambda dict, *args: (dict[arg] for arg in args)\n",
        "\n",
        "#Assist Pandas\n",
        "filter_df = lambda df,cln,val: df.loc[df[cln]==val]\n",
        "pluck_row = lambda row,*clns: (row[cln].iloc[0] for cln in clns)\n",
        "drop_cols = lambda df,*clns:df.drop(list(clns),axis=True,inplace=True) \n",
        "num_col = lambda col: pd.to_numeric(col) \n",
        "\n",
        "symboler = lambda crypto: f'{crypto}USDT' if crypto and len(crypto)<6 else crypto"
      ]
    },
    {
      "cell_type": "code",
      "execution_count": null,
      "metadata": {
        "id": "Itilz4ncM49e"
      },
      "outputs": [],
      "source": [
        "#https://docs.python.org/3/library/logging.config.html\n",
        "x = '''\n",
        "[loggers]\n",
        "keys=root,binanceLogger\n",
        "\n",
        "[handlers]\n",
        "keys=consoleHandler,fileHandler,fileHandler2\n",
        "\n",
        "[formatters]\n",
        "keys=sampleFormatter\n",
        "\n",
        "[logger_root]\n",
        "level=INFO\n",
        "handlers=consoleHandler,fileHandler\n",
        "\n",
        "[logger_binanceLogger]\n",
        "level=INFO\n",
        "handlers=fileHandler2\n",
        "qualname=binanceLogger\n",
        "propagate=0\n",
        "\n",
        "[handler_consoleHandler]\n",
        "class=StreamHandler\n",
        "level=INFO\n",
        "formatter=sampleFormatter\n",
        "args=(sys.stdout,)\n",
        "\n",
        "[handler_fileHandler]\n",
        "class=FileHandler\n",
        "level=DEBUG\n",
        "formatter=sampleFormatter\n",
        "args=('bot.log','a')\n",
        "\n",
        "[handler_fileHandler2]\n",
        "class=FileHandler\n",
        "level=INFO\n",
        "formatter=sampleFormatter\n",
        "args=('bince.log','a')\n",
        "\n",
        "[formatter_sampleFormatter]\n",
        "format=%(asctime)s - %(levelname)s - %(message)s\n",
        "datefmt='%H:%M:%S'\n",
        "'''\n",
        "with open('file.conf','w') as f1: f1.write(x)"
      ]
    },
    {
      "cell_type": "code",
      "execution_count": null,
      "metadata": {
        "id": "xudkBWusJ7sj"
      },
      "outputs": [],
      "source": [
        "from icecream import ic #use install to install in all modules\n",
        "import logging as log\n",
        "import time\n",
        "import logging.config as log_config\n",
        "from queue import Queue\n",
        "from dask import delayed,compute\n",
        "import math\n",
        "\n",
        "# log_config.fileConfig(fname='file.conf', disable_existing_loggers=False) \n",
        "\n",
        "def info(s):\n",
        "  print(f'{s}')\n",
        "\n",
        "def prefix_time():\n",
        "  return f'{time.time()}'\n",
        "\n",
        "# log.basicConfig(filename='app.log', filemode='w', format='%(asctime)s %(process)d %(name)s - %(levelname)s - %(message)s ', datefmt='%d-%b-%y %H:%M:%S',level=log.INFO)\n",
        "# log.basicConfig(level=log.INFO)\n",
        "ic.configureOutput(prefix=prefix_time,outputFunction=info,includeContext=False)\n",
        "log_config.fileConfig(fname='file.conf', disable_existing_loggers=False) #Auto calles basicConfig and mods \n",
        "bLog = log.getLogger('binanceLogger')"
      ]
    },
    {
      "cell_type": "code",
      "execution_count": null,
      "metadata": {
        "id": "R4Oa00sGTJU0"
      },
      "outputs": [],
      "source": [
        "from threading import Thread, enumerate as threads, current_thread,Lock\n",
        "from multiprocessing import Process\n",
        "\n",
        "def keepAlive(fc):\n",
        "    def inner(*args):\n",
        "        t = Thread(name=fc.__name__, target=fc, args=args, daemon=1)\n",
        "        t.start()\n",
        "    return inner\n",
        "\n",
        "def undead(fc):\n",
        "    def inner(*args):\n",
        "        p = Process(name=fc.__name__, target=fc, args=args, daemon=True)\n",
        "        p.start()\n",
        "    return inner\n"
      ]
    },
    {
      "cell_type": "code",
      "execution_count": null,
      "metadata": {
        "id": "EWGaufAdJGVL"
      },
      "outputs": [],
      "source": [
        "class Position():\n",
        "  q,c = 0,0 # c is entry price, qis quantity\n",
        "  flag = True\n",
        "  def __init__(self,mode,crypto,profit,hedge=True,open_args={},close_args={},trend=math.inf): #basically take 0-long\n",
        "    self.pos = 'SHORT' if mode=='S' else 'LONG'\n",
        "    self.profit = profit\n",
        "    self.crypto = crypto\n",
        "    self.PRECISION = precision(crypto)\n",
        "    self.hedge = hedge\n",
        "    self.open_args= open_args\n",
        "    self.close_args = close_args\n",
        "    self.trend = 1\n",
        "    self.refresh()\n",
        "  def __call__(self):\n",
        "    print(self.status())\n",
        "  def status(self):\n",
        "    return self.q,self.c,self.pos\n",
        "  def __repr__(self):\n",
        "    return f'{self.status()}'\n",
        "  @property\n",
        "  def cost(self):\n",
        "    return self.c*self.q if self.q >0 else 0\n",
        "  def pnl(self,p,q=0):\n",
        "    q = q if q else self.q \n",
        "    net = (p-self.c)*q\n",
        "    if self.pos=='SHORT': return -net\n",
        "    return net\n",
        "  @delayed\n",
        "  def open(self,q,p=''):\n",
        "    if not (self.hedge and self.flag): return f\"{self.crypto} {self.pos} disabled\"\n",
        "    d = self.open_args\n",
        "    d['quantity'] = q\n",
        "    paras = ['price','profit','loss']\n",
        "    for i in paras:\n",
        "      if i in d: d[i]=d[i] or p\n",
        "    x = order(self.crypto,'OPEN',self.pos,**d) \n",
        "    self.refresh() \n",
        "    return x\n",
        "  @delayed\n",
        "  def close(self,p='',q='',**args):\n",
        "    d = self.close_args\n",
        "    d.update(args)\n",
        "    d['quantity'] = q or self.q\n",
        "    if p:\n",
        "      paras = ['price','profit','loss']\n",
        "      for i in paras:\n",
        "        if i in d: d[i]=p\n",
        "    x = order(self.crypto,'CLOSE',self.pos,**d)\n",
        "    self.refresh()\n",
        "    return x\n",
        "  @keepAlive\n",
        "  def refresh(self):\n",
        "    data = positions(self.crypto,self.pos)\n",
        "    self.q,self.c = pluck_row(data,'positionAmt','entryPrice')\n",
        "  def sell_signal(self,p,q=''):\n",
        "    return self.pnl(p,q)>=self.profit\n",
        "  @property\n",
        "  def liqPrice(self):\n",
        "     data = positions(self.crypto,self.pos)\n",
        "     liq = pluck_row(data,'liquidationPrice')\n",
        "     return liq \n",
        "  @property\n",
        "  def max_profit(self):\n",
        "      if self.q>0:\n",
        "        p = (self.profit*2)/self.q \n",
        "        p = self.c-p if self.pos=='SHORT' else self.c+p\n",
        "      else: return 0\n",
        "      return p"
      ]
    },
    {
      "cell_type": "markdown",
      "metadata": {
        "id": "tkml7pnTCfRs"
      },
      "source": [
        "RSI Strategy"
      ]
    },
    {
      "cell_type": "code",
      "execution_count": null,
      "metadata": {
        "id": "lrOma3u3h2Qs"
      },
      "outputs": [],
      "source": [
        "import numpy as np\n",
        "import talib\n",
        "import time\n",
        "\n",
        "\n",
        "rsi_q = Queue(100)\n",
        "macd_q = Queue(100)\n",
        "\n",
        "def RSIStrategy(price,period=14): \n",
        "\n",
        "  if CLOSES.size <=period: return \n",
        "\n",
        "  rsi = talib.RSI(CLOSES,period)\n",
        "  cur_rsi = rsi[-1]\n",
        "\n",
        "  rsi_q.put((price,cur_rsi))\n",
        "\n",
        "@keepAlive\n",
        "def rsing():\n",
        "  under,over = 20,80\n",
        "  signal = -1\n",
        "  while 1:\n",
        "    price,cur_rsi = rsi_q.get()\n",
        "    if cur_rsi <= under and signal !=0: \n",
        "      ic(\"OverSold\")\n",
        "      buys.put(price)\n",
        "      signal = 0\n",
        "    elif cur_rsi >= over and signal !=1:\n",
        "      ic(\"OverBought\")\n",
        "      sells.put(price)\n",
        "      signal = 1\n",
        "\n",
        "def cur_macd(prices,fast,slow,signal): #talib is faster ...\n",
        "  macds = talib.MACD(prices, fastperiod=fast, slowperiod=slow, signalperiod=signal) #macd,signal,histogram\n",
        "  m,s,h = [macds[i][-1] for i in range(3)]\n",
        "  return m,s \n",
        "\n",
        "\n",
        "\n",
        "def MACDStrategy(price,fast=12,slow=26,signal=9): #CLOSES must be updated..\n",
        "  macd,signal = cur_macd(CLOSES,fast,slow,signal)\n",
        "  macd_q.put((price,macd,signal))\n",
        "  \n",
        "@keepAlive\n",
        "def macding():    \n",
        "  signal = 0 # change quantity according to signal averaging method but avoid for now\n",
        "  while 1:\n",
        "      data = macd_q.get()\n",
        "      ic(f\"MACD {data}\")\n",
        "      p,m,s = data #pluck(data,'price','macd','signal')\n",
        "      if m > s:\n",
        "          if signal != 1:\n",
        "              buys.put(p)\n",
        "              signal=1\n",
        "      elif m < s:\n",
        "          if signal != -1:\n",
        "              sells.put(p)\n",
        "              signal = -1\n"
      ]
    },
    {
      "cell_type": "code",
      "execution_count": null,
      "metadata": {
        "id": "sx0JNiFYJyqz"
      },
      "outputs": [],
      "source": [
        "buys = Queue(100)\n",
        "sells = Queue(100)\n",
        "closes = Queue(100)\n",
        "opens = Queue(100)\n",
        "\n",
        "\n",
        "@keepAlive\n",
        "def buying(q,long,short):\n",
        "  while 1:\n",
        "    p = buys.get()\n",
        "    if short.sell_signal(p): closes.put([short.close(p),short])\n",
        "        \n",
        "    if long.flag: \n",
        "      if short.q>0 and short.c<p: continue\n",
        "      opens.put([long.open(q,p),long]) \n",
        "\n",
        "@keepAlive\n",
        "def selling(q,long,short):\n",
        "  while 1:\n",
        "    p = sells.get()\n",
        "    if long.sell_signal(p): \n",
        "      closes.put([long.close(p),long])\n",
        "\n",
        "    if short.flag:\n",
        "      if long.q>0 and long.c>p: continue\n",
        "      opens.put([short.open(q,p),short]) "
      ]
    },
    {
      "cell_type": "code",
      "source": [
        "#Instead of pos.hedge : - flag - for global sell and pos.flag to temp lock\n",
        "@keepAlive\n",
        "def opening(): \n",
        "  while 1:\n",
        "      n,pos = opens.get()\n",
        "      try:  \n",
        "        x = n.compute()\n",
        "          # if pos.max_profit>0: closes.put([pos.close(price=pos.max_profit),pos])   #can cause losses in case...\n",
        "        bLog.info(x)\n",
        "      except Exception as e:\n",
        "        if hasattr(e,'code'):\n",
        "          bLog.error(f\"@open {e.code} {e.message}\")\n",
        "          over_flow = [-2027,-2019,-4164] #max lev,margin insufficient,order notional\n",
        "          if e.code in over_flow and pos.q>0: pos.flag  = False\n",
        "        else:\n",
        "          log.exception('@open')\n",
        "\n",
        "@keepAlive\n",
        "def closing():\n",
        "    while 1:\n",
        "        n,pos = closes.get()\n",
        "        try:  \n",
        "          x = n.compute()\n",
        "          bLog.info(x)\n",
        "          transfer_to('SPOT',amt=.6*pos.profit) #babylonian\n",
        "        except Exception as e:\n",
        "          # bLog.exception(\"@close\")\n",
        "          if hasattr(e,'code'):\n",
        "            bLog.error(f\"@close {e.code} {e.message}\")\n",
        "            if e.code==-4045: cancel_order(pos.crypto) #max stop Order  #-2021 would immediately trigger\n",
        "          else:\n",
        "            log.exception('@close')\n",
        "        else:\n",
        "          ic('Sell Successfull') \n",
        "          pos.flag = True "
      ],
      "metadata": {
        "id": "W1JFJprZUk3m"
      },
      "execution_count": null,
      "outputs": []
    },
    {
      "cell_type": "markdown",
      "metadata": {
        "id": "eEpbvdXdR74y"
      },
      "source": [
        "Binance Trade"
      ]
    },
    {
      "cell_type": "code",
      "execution_count": null,
      "metadata": {
        "id": "NuMR6KbVZ2Lh"
      },
      "outputs": [],
      "source": [
        "from binance import Client,AsyncClient,BinanceSocketManager\n",
        "from unsync import unsync\n",
        "\n",
        "def gen_client(testnet=True, asyn=False):\n",
        "  napi_key = \"e6geB7TFiaM4FTACiiP2Slk9QFQyYuCt37KH7ht5nwrYcJCvdkloyHAzh4ImtSQh\"\n",
        "  napi_secret = \"dC25QStiRNVlGrHJk8ajK9fQhmUCCDfGwSjTvqCFP0Fsdyw3nKtmkZjgKrmmwGIZ2\"\n",
        "\n",
        "  api_key=\"9Cc4lp3DlqB9sh7Si2a63sktrhAUiPmtRTMTh22v2OOaNweYSXcHoKzEcPtlLX5i\"\n",
        "  api_secret=\"xbw7wRuGvNjDXFS1rM5BTkoRToJfWW8StEUvO0tct9Ibwz3dj9vXThQTzF1iIEeE\"\n",
        "\n",
        "  if testnet:\n",
        "    api_key=\"17decb9a46f67558c5088856ee8c3fa28c20c72de37bb8cffc9924a2a9cc0a12\"\n",
        "    api_secret='7e27cf5baa00ab22734a4781d5050d20be40ab0c2289567769eb2a789d3a294e'\n",
        "\n",
        "\n",
        "  if asyn:client =  AsyncClient(api_key, api_secret,testnet=testnet)#,tld='us')\n",
        "  else: client =  Client(api_key, api_secret,testnet=testnet)#,tld='us')\n",
        "  \n",
        "  return client\n",
        "\n",
        "@unsync\n",
        "async def socket_manager(client=''):\n",
        "    c1 = await AsyncClient.create() if not client else client\n",
        "    socket = BinanceSocketManager(c1)\n",
        "    return socket\n",
        "\n",
        "#  dir(client)"
      ]
    },
    {
      "cell_type": "code",
      "execution_count": null,
      "metadata": {
        "id": "hHyrt9UpcPI8"
      },
      "outputs": [],
      "source": [
        "symboler = lambda crypto: f'{crypto}USDT' if crypto and len(crypto)<6 else crypto\n",
        "get_price = lambda crypto:float(client.futures_symbol_ticker(symbol=symboler(crypto))['price'])\n",
        "market_price = lambda crypto : float(client.get_symbol_ticker(symbol=symboler(crypto))['price'])\n",
        "min_q= lambda crypto:precision(crypto)[-1]\n",
        "_min_q = lambda crypto,notional,qP:round(notional /get_price(crypto),qP) or pow(10,-qP) #.001\n",
        "\n",
        "def exchange(crypto=''):\n",
        "  info = client.futures_exchange_info()\n",
        "  df = pd.DataFrame(info['symbols'])\n",
        "  df = filter_df(df,'contractType','PERPETUAL')\n",
        "  df = filter_df(df,'quoteAsset','USDT')\n",
        "  drop_cols(df,'pair','deliveryDate','onboardDate','contractType','status','quoteAsset','marginAsset','timeInForce','orderTypes','settlePlan','underlyingSubType','underlyingType','liquidationFee')\n",
        "  x = df.loc[df['symbol']==symboler(crypto)] if crypto else df\n",
        "  return x\n",
        "  \n",
        "def precision(crypto):\n",
        "  e = exchange(crypto)\n",
        "  res = [int(i) for i in e.iloc[0,4:8].to_list()] #pricePrecision\tquantityPrecision\tbaseAssetPrecision\tquotePrecision\n",
        "\n",
        "  filter = pd.DataFrame(e['filters'].iloc[0])\n",
        "  num_cols = [i for i in filter.columns if i != 'filterType']\n",
        "  for i in num_cols:filter[i]=num_col(filter[i])\n",
        "  filter['notional'] = filter['notional'].apply(lambda x: _min_q(crypto,x,res[1]))\n",
        "  d = {'PRICE_FILTER':['minPrice','maxPrice'],'MIN_NOTIONAL':['notional']}\n",
        "  for name,filters in d.items():\n",
        "    f_df = filter_df(filter,'filterType',name)\n",
        "    res+=pluck_row(f_df,*filters)\n",
        "  return res \n",
        "\n",
        "def positions(crypto='',pos=''):\n",
        "  data = client.futures_position_information()\n",
        "  df = pd.DataFrame(data)\n",
        "  cols = ['positionAmt','entryPrice','markPrice','unRealizedProfit','liquidationPrice','leverage','isolatedWallet']\n",
        "  drop_cols(df,'updateTime')\n",
        "  for col in cols: df[col] = num_col(df[col])\n",
        "  df = filter_df(df,'symbol',symboler(crypto)) if crypto else  df.loc[df['positionAmt']>0]\n",
        "  df = filter_df(df,'positionSide',pos) if pos else df\n",
        "  df['positionAmt'] = df['positionAmt'].apply(abs) #SHORT side amounts are neg\n",
        "  return df\n",
        "\n",
        "def income(profit=True, pnl=True):\n",
        "  df = pd.DataFrame(client.futures_income_history())\n",
        "  df['income'] = num_col(df['income'])\n",
        "  df['date'] = to_date(df['time'])\n",
        "  drop_cols(df,'time','tranId','info')\n",
        "  df = df.sort_values(by=['date'],ascending=False)\n",
        "  df =  df.loc[df['incomeType']=='REALIZED_PNL'] if pnl else df\n",
        "  df = df.loc[df['income']>0] if profit else df\n",
        "  # df = df.loc[df['incomeType']!='TRANSFER']\n",
        "  df['profit'] = df['income'].sum()\n",
        "  return df\n",
        "\n",
        "def wallet():\n",
        "  df = pd.DataFrame(client.futures_account_balance())\n",
        "  df['balance'] = num_col(df['balance'])\n",
        "  # df = df.loc[df['balance']>0]\n",
        "  # df = df.reset_index(drop=True)\n",
        "  df.drop(['accountAlias'],axis=1,inplace=True)\n",
        "  return df\n",
        "\n",
        "def wallet_spot(crypto='USDT'):\n",
        "  df = pd.DataFrame(client.get_asset_balance(asset=crypto),index=[0])\n",
        "  for i in ['free','locked']: df[i] = num_col(df[i])\n",
        "  return df\n",
        "\n",
        "def balance(crypto='USDT',type='FUT'):\n",
        "  b=0\n",
        "  if type=='FUT':\n",
        "    df = wallet()\n",
        "    b = df.loc[df['asset']==crypto]['balance'].iloc[0]\n",
        "  elif type =='SPOT':\n",
        "    b = wallet_spot(crypto)['free'].iloc[0]\n",
        "  return b\n",
        "\n",
        "\n",
        "def transfer_to(dest='SPOT',amt=0,crypto='USDT'):\n",
        "  if dest=='SPOT': \n",
        "    type =2\n",
        "    src = 'FUT'\n",
        "  else: \n",
        "    type =1\n",
        "    src = \"SPOT\"\n",
        "  amt = amt or balance(crypto,type=src)\n",
        "  if amt>0:\n",
        "    return client.futures_account_transfer(asset=crypto,amount=amt,type=type)\n",
        "  bLog.error(f\"Transfer failed {src}->{dest} {amt}\")\n",
        "  return -1\n",
        "\n",
        "\n",
        "def open_orders(crypto=''):\n",
        "  data = client.futures_get_open_orders(symbol=symboler(crypto))\n",
        "  if len(data)==0: return -1\n",
        "  df = pd.DataFrame(data)\n",
        "  df['date'] = to_date(df['time'])\n",
        "  # df.drop(['updateTime','time','cumQuote','price','avgPrice','origQty','executedQty','status'],axis=1,inplace=True)\n",
        "  return df\n",
        "\n",
        "def cancel_order(crypt,id=''):\n",
        "  d = {'orderId':id,'symbol':symboler(crypt)}\n",
        "  return client.futures_cancel_all_open_orders(**d) #{'code': 200, 'msg': 'The operation of cancel all open order is done.'}\n",
        "\n",
        "def order(crypto,side,mode,quantity='',price='',profit='',loss='',trail='',PRECISION=''): \n",
        "  p,q,bP,qP,minP,maxP,minQ = PRECISION or precision(crypto)\n",
        "\n",
        "  if quantity: quantity = round(max(quantity,minQ),q)\n",
        "\n",
        "  d = {'type':'MARKET','symbol':symboler(crypto), \"quantity\":quantity,'positionSide':mode} \n",
        "  \n",
        "  if price: \n",
        "    price = round(price,p)\n",
        "    price = min(maxP,price)\n",
        "    price = max(minP,price)\n",
        "    d['type'] = 'LIMIT'\n",
        "    d['price'] = price\n",
        "    d['timeInForce']='GTC' \n",
        "\n",
        "  if profit:\n",
        "        d['type']='TAKE_PROFIT' if price else 'TAKE_PROFIT_MARKET'\n",
        "        d['stopPrice'] = round(profit,p)\n",
        "  elif loss:\n",
        "    d['type']='STOP' if price else 'STOP_MARKET'  \n",
        "    d['stopPrice'] = round(loss,p)\n",
        "  elif trail:\n",
        "        d['type'] = 'TRAILING_STOP_MARKET'\n",
        "        d['callbackRate'] = trail\n",
        "        d['activationPrice'] = price \n",
        "\n",
        "  if side=='OPEN' :\n",
        "    d['side']  = 'BUY' if mode == 'LONG' else 'SELL'\n",
        "  else :\n",
        "     d['side']  = 'SELL' if mode == 'LONG' else 'BUY'\n",
        "     if quantity=='' and (profit or loss): \n",
        "        d['closePosition'] = True      \n",
        "        del d['quantity']  \n",
        "\n",
        "  log.info(d)\n",
        "\n",
        "  x=client.futures_create_order(**d)\n",
        "  df = pd.DataFrame(x,index=[0]).rename(columns={\"\":\"position\"})\n",
        "  drop_cols(df,*['status','clientOrderId','avgPrice','executedQty','cumQty','cumQuote','timeInForce','reduceOnly','workingType','priceProtect','origType','updateTime'])\n",
        "  ncol = ['activatePrice','origQty','price','priceRate','stopPrice']\n",
        "  for i in ncol: \n",
        "    if i in df.columns:df[i] = num_col(df[i])\n",
        "  x = df.iloc[0].to_dict()\n",
        "  return x\n",
        "#https://dev.binance.vision/t/what-does-the-percent-price-filter-mean/134"
      ]
    },
    {
      "cell_type": "code",
      "source": [
        "def status():\n",
        "  status_code = client.get_system_status()['status']\n",
        "  if(status_code!=0):\n",
        "     print(\"Exiting\")\n",
        "     sys.exit(1)\n",
        "\n",
        "def permissions():\n",
        "  return client.get_account_api_permissions()\n",
        "\n",
        "def position(hedge=True):\n",
        "  client.futures_change_position_mode(dualSidePosition = hedge)\n",
        "  return client.futures_get_position_mode()\n",
        "\n",
        "def my_trades():\n",
        "  df = pd.DataFrame(client.futures_account_trades())\n",
        "  df['time'] = to_date(df['time'])\n",
        "  return df\n",
        "\n",
        "def history(crypto,interval='1m',start_str='1 day ago'):\n",
        "  data = client.futures_historical_klines(\n",
        "    symbol=symboler(crypto),\n",
        "    interval=interval,  # can play with this e.g. '1h', '4h', '1w', etc.\n",
        "    start_str = start_str,\n",
        "    # end_str='2021-06-30'\n",
        ")\n",
        "  df = pd.DataFrame(data)\n",
        "  # crop unnecessary columns\n",
        "  df = df.iloc[:, :6]\n",
        "  # ascribe names to columns\n",
        "  df.columns = ['date', 'open', 'high', 'low', 'close', 'volume']\n",
        "  # convert timestamp to date format and ensure ohlcv are all numeric\n",
        "  df['date'] = to_date(df['date'])\n",
        "  for col in df.columns[1:]:\n",
        "      df[col] = pd.to_numeric(df[col]) \n",
        "  return df\n",
        "\n",
        "def make_history(df): #multable so no issues\n",
        "  df['cap']= df['high'].mean()  #cap can be increasing sequence...\n",
        "  df['floor'] = df['low'].min()\n",
        "  df.drop(['volume','open','high','low','volume'],axis=1,inplace=True)     #only low\n",
        "  df.columns = ['ds','y','cap','floor']\n",
        "  return df\n",
        "\n",
        "def leverage_bracket(crypto):\n",
        "  symbol = symboler(crypto)\n",
        "  data = client.futures_leverage_bracket(symbol=symbol)[0]\n",
        "  df = pd.DataFrame(data['brackets'])\n",
        "  return df\n",
        "\n",
        "def max_leverage(crypto='BTC'):\n",
        "  df = leverage_bracket(crypto)\n",
        "  return df['initialLeverage'].max()\n",
        "\n",
        "def leverage(crypto,lev=''):\n",
        "  lev = lev if lev else max_leverage(crypto)\n",
        "  return client.futures_change_leverage(symbol=symboler(crypto), leverage=lev)\n",
        "\n",
        "def order_book(crypto='BTC'):\n",
        "  data =client.futures_order_book(symbol=symboler(crypto))\n",
        "  return data\n",
        "\n",
        "def recent_trades(crypto):#aggrefate\n",
        "  s  = symboler(crypto)\n",
        "  data = client.futures_aggregate_trades(symbol=s,limit=1000)\n",
        "  df = pd.DataFrame(data)\n",
        "  df['price'] = num_col(df['p'])\n",
        "  return df"
      ],
      "metadata": {
        "id": "wwTTC95FiZlX"
      },
      "execution_count": null,
      "outputs": []
    },
    {
      "cell_type": "markdown",
      "metadata": {
        "id": "6847q0yezCFm"
      },
      "source": [
        "\n",
        "Socket"
      ]
    },
    {
      "cell_type": "code",
      "execution_count": null,
      "metadata": {
        "id": "NYBGd-K51Cpi"
      },
      "outputs": [],
      "source": [
        "import asyncio\n",
        "from binance import AsyncClient,Client, BinanceSocketManager\n",
        "from unsync import unsync\n",
        "import math \n",
        "\n",
        "ac = gen_client(True,True)\n",
        "\n",
        "socket = socket_manager(ac).result()\n",
        "\n",
        "async def stream_client():\n",
        "    c1 = await AsyncClient.create()\n",
        "    SC = BinanceSocketManager(c1)\n",
        "    return SC\n",
        "\n",
        "async def trade_socket(crypto='BTC',SC=socket,type='F'):\n",
        "    crypto= f'{crypto}USDT'if len(crypto) <6 else crypto\n",
        "    \n",
        "    if type=='F':\n",
        "      conn = SC.aggtrade_futures_socket(crypto)\n",
        "    elif type =='S':\n",
        "      conn = SC.trade_socket(crypto)\n",
        "    elif type=='SA' :\n",
        "      conn = SC.aggtrade_socket(crypto)\n",
        "    return conn\n",
        "\n",
        "async def kline_socket(crypto='BTC',interval='1m',SC=socket,type='F'):\n",
        "  crypto= f\"{crypto}USDT'if len(crypto) <6 else crypto\"\n",
        "  d = {'symbol':crypto,'interval':interval}\n",
        "  if type=='S': return SC.kline_socket(**d) \n",
        "  return SC.kline_futures_socket(**d)\n",
        "\n",
        "async def market_socket(crypto='BTC',SC=socket):  \n",
        "  crypto=symboler(crypto)\n",
        "  return SC.symbol_mark_price_socket(crypto) #Futures Socket\n",
        "\n",
        "def handle_message(msg):\n",
        "        ic(msg)\n",
        "        # print(f\"Time: {msg['T']} - Symbol: {msg['s']} - Price: {msg['p']} - Quantity: { msg['q']} -Market: {msg['m']}\")\n",
        "\n",
        "@unsync\n",
        "async def socket_handler(conn=trade_socket(),msg_handler=handle_message,y=17):\n",
        "    try:  \n",
        "      conn = await conn\n",
        "    except:\n",
        "      log.debug(\"Already awaited\")\n",
        "    async with conn as SM:\n",
        "        i=0\n",
        "        while i<y:\n",
        "          try:\n",
        "            res = await SM.recv()\n",
        "          except:\n",
        "            log.debug('Already SM')\n",
        "            # print(res)\n",
        "          msg_handler(res)\n",
        "          i+=1\n",
        "            # asyncio.sleep(1)\n",
        "        # await ts.__aenter__().\n",
        "        # await ts.__aexit__(None, None, None)\n",
        "\n",
        "def handle_market_socket(msg):\n",
        "  d = msg['data']\n",
        "  S,T,p = pluck(d,'s','E','p')\n",
        "  p = float(p)\n",
        "  global CLOSES\n",
        "  CLOSES = np.append(CLOSES,p) \n",
        "  # RSIStrategy(p,7)\n",
        "  # rsing()\n",
        "  macding()\n",
        "  MACDStrategy(p,12,26,9)\n",
        "\n",
        "\n",
        "import math\n",
        "@unsync\n",
        "async def main():\n",
        "    # then start receiving messages\n",
        "  t = math.inf\n",
        "  max = market_socket(CRYPTO)\n",
        "  await socket_handler(max,handle_market_socket,t)\n",
        "# https://livedataframe.com/live-cryptocurrency-data-python-tutorial/\n",
        "#https://github.com/binance/binance-spot-api-docs/blob/master/web-socket-streams.md#trade-streams"
      ]
    },
    {
      "cell_type": "code",
      "source": [
        "client = gen_client(testnet=1)\n"
      ],
      "metadata": {
        "id": "MMYrwMyzD4ko"
      },
      "execution_count": null,
      "outputs": []
    },
    {
      "cell_type": "code",
      "execution_count": null,
      "metadata": {
        "id": "1n_Yyh0C4fzt"
      },
      "outputs": [],
      "source": [
        "import pandas as pd\n",
        "# CLOSES = np.array([])\n",
        "crypts = {'BTC':.01,'HOT':2000}\n",
        "\n",
        "BALANCE = balance('USDT')\n",
        "\n",
        "CRYPTO = 'DENT'\n",
        "PRECISION = precision(CRYPTO)\n",
        "# AMOUNT =crypts[CRYPTO]\n",
        "AMOUNT = min_q(CRYPTO)\n",
        "PROFIT = BALANCE*.01 #3%\n",
        "LONG = Position('L',CRYPTO,PROFIT) \n",
        "SHORT =Position('S',CRYPTO,PROFIT)\n",
        "\n",
        "r_trades = recent_trades(CRYPTO)\n",
        "CLOSES = r_trades['price'].to_numpy()\n",
        "CLOSES_1m = history(CRYPTO,'1m','15 min ago')\n",
        "CLOSES_3m = history(CRYPTO,'1m','1 hr ago')\n",
        "CLOSES_1h = history(CRYPTO,'1h','12  hr ago')\n",
        "CLOSES_1d = history(CRYPTO,'1d','12 day ago')"
      ]
    },
    {
      "cell_type": "code",
      "source": [
        "df =history('BTC')\n",
        "df"
      ],
      "metadata": {
        "colab": {
          "base_uri": "https://localhost:8080/",
          "height": 458
        },
        "id": "848cWyYA9mnu",
        "outputId": "a5c1bece-6a3a-485a-a13c-6ab87db72d59"
      },
      "execution_count": null,
      "outputs": [
        {
          "output_type": "stream",
          "name": "stdout",
          "text": [
            "1671110939.139688f\"MACD {data}\": 'MACD (0.00069874, 1.7921261155997605e-07, 1.6038303895376634e-07)'\n",
            "1671110940.2325578f\"MACD {data}\": 'MACD (0.00069874, 1.7354114298232578e-07, 1.6301465975947824e-07)'\n"
          ]
        },
        {
          "output_type": "execute_result",
          "data": {
            "text/plain": [
              "                    date     open     high      low    close   volume\n",
              "0    2022-12-14 13:29:00  17928.5  17938.0  17901.9  17914.9  461.133\n",
              "1    2022-12-14 13:30:00  17914.9  17938.0  17905.0  17912.8  217.104\n",
              "2    2022-12-14 13:31:00  17912.8  17912.8  17890.6  17900.1  196.695\n",
              "3    2022-12-14 13:32:00  17900.1  17900.1  17805.9  17890.3  300.141\n",
              "4    2022-12-14 13:33:00  17895.0  17900.1  17879.6  17886.5  339.732\n",
              "...                  ...      ...      ...      ...      ...      ...\n",
              "1435 2022-12-15 13:24:00  17560.0  17562.3  17547.5  17553.2   51.562\n",
              "1436 2022-12-15 13:25:00  17553.2  17563.1  17542.0  17542.0  520.463\n",
              "1437 2022-12-15 13:26:00  17544.0  17559.7  17538.0  17543.9  233.204\n",
              "1438 2022-12-15 13:27:00  17538.0  17545.3  17532.3  17533.1  605.098\n",
              "1439 2022-12-15 13:28:00  17533.1  17534.7  17510.0  17533.1  221.305\n",
              "\n",
              "[1440 rows x 6 columns]"
            ],
            "text/html": [
              "\n",
              "  <div id=\"df-aa61d11f-3d5b-47e0-8846-708902e6ee96\">\n",
              "    <div class=\"colab-df-container\">\n",
              "      <div>\n",
              "<style scoped>\n",
              "    .dataframe tbody tr th:only-of-type {\n",
              "        vertical-align: middle;\n",
              "    }\n",
              "\n",
              "    .dataframe tbody tr th {\n",
              "        vertical-align: top;\n",
              "    }\n",
              "\n",
              "    .dataframe thead th {\n",
              "        text-align: right;\n",
              "    }\n",
              "</style>\n",
              "<table border=\"1\" class=\"dataframe\">\n",
              "  <thead>\n",
              "    <tr style=\"text-align: right;\">\n",
              "      <th></th>\n",
              "      <th>date</th>\n",
              "      <th>open</th>\n",
              "      <th>high</th>\n",
              "      <th>low</th>\n",
              "      <th>close</th>\n",
              "      <th>volume</th>\n",
              "    </tr>\n",
              "  </thead>\n",
              "  <tbody>\n",
              "    <tr>\n",
              "      <th>0</th>\n",
              "      <td>2022-12-14 13:29:00</td>\n",
              "      <td>17928.5</td>\n",
              "      <td>17938.0</td>\n",
              "      <td>17901.9</td>\n",
              "      <td>17914.9</td>\n",
              "      <td>461.133</td>\n",
              "    </tr>\n",
              "    <tr>\n",
              "      <th>1</th>\n",
              "      <td>2022-12-14 13:30:00</td>\n",
              "      <td>17914.9</td>\n",
              "      <td>17938.0</td>\n",
              "      <td>17905.0</td>\n",
              "      <td>17912.8</td>\n",
              "      <td>217.104</td>\n",
              "    </tr>\n",
              "    <tr>\n",
              "      <th>2</th>\n",
              "      <td>2022-12-14 13:31:00</td>\n",
              "      <td>17912.8</td>\n",
              "      <td>17912.8</td>\n",
              "      <td>17890.6</td>\n",
              "      <td>17900.1</td>\n",
              "      <td>196.695</td>\n",
              "    </tr>\n",
              "    <tr>\n",
              "      <th>3</th>\n",
              "      <td>2022-12-14 13:32:00</td>\n",
              "      <td>17900.1</td>\n",
              "      <td>17900.1</td>\n",
              "      <td>17805.9</td>\n",
              "      <td>17890.3</td>\n",
              "      <td>300.141</td>\n",
              "    </tr>\n",
              "    <tr>\n",
              "      <th>4</th>\n",
              "      <td>2022-12-14 13:33:00</td>\n",
              "      <td>17895.0</td>\n",
              "      <td>17900.1</td>\n",
              "      <td>17879.6</td>\n",
              "      <td>17886.5</td>\n",
              "      <td>339.732</td>\n",
              "    </tr>\n",
              "    <tr>\n",
              "      <th>...</th>\n",
              "      <td>...</td>\n",
              "      <td>...</td>\n",
              "      <td>...</td>\n",
              "      <td>...</td>\n",
              "      <td>...</td>\n",
              "      <td>...</td>\n",
              "    </tr>\n",
              "    <tr>\n",
              "      <th>1435</th>\n",
              "      <td>2022-12-15 13:24:00</td>\n",
              "      <td>17560.0</td>\n",
              "      <td>17562.3</td>\n",
              "      <td>17547.5</td>\n",
              "      <td>17553.2</td>\n",
              "      <td>51.562</td>\n",
              "    </tr>\n",
              "    <tr>\n",
              "      <th>1436</th>\n",
              "      <td>2022-12-15 13:25:00</td>\n",
              "      <td>17553.2</td>\n",
              "      <td>17563.1</td>\n",
              "      <td>17542.0</td>\n",
              "      <td>17542.0</td>\n",
              "      <td>520.463</td>\n",
              "    </tr>\n",
              "    <tr>\n",
              "      <th>1437</th>\n",
              "      <td>2022-12-15 13:26:00</td>\n",
              "      <td>17544.0</td>\n",
              "      <td>17559.7</td>\n",
              "      <td>17538.0</td>\n",
              "      <td>17543.9</td>\n",
              "      <td>233.204</td>\n",
              "    </tr>\n",
              "    <tr>\n",
              "      <th>1438</th>\n",
              "      <td>2022-12-15 13:27:00</td>\n",
              "      <td>17538.0</td>\n",
              "      <td>17545.3</td>\n",
              "      <td>17532.3</td>\n",
              "      <td>17533.1</td>\n",
              "      <td>605.098</td>\n",
              "    </tr>\n",
              "    <tr>\n",
              "      <th>1439</th>\n",
              "      <td>2022-12-15 13:28:00</td>\n",
              "      <td>17533.1</td>\n",
              "      <td>17534.7</td>\n",
              "      <td>17510.0</td>\n",
              "      <td>17533.1</td>\n",
              "      <td>221.305</td>\n",
              "    </tr>\n",
              "  </tbody>\n",
              "</table>\n",
              "<p>1440 rows × 6 columns</p>\n",
              "</div>\n",
              "      <button class=\"colab-df-convert\" onclick=\"convertToInteractive('df-aa61d11f-3d5b-47e0-8846-708902e6ee96')\"\n",
              "              title=\"Convert this dataframe to an interactive table.\"\n",
              "              style=\"display:none;\">\n",
              "        \n",
              "  <svg xmlns=\"http://www.w3.org/2000/svg\" height=\"24px\"viewBox=\"0 0 24 24\"\n",
              "       width=\"24px\">\n",
              "    <path d=\"M0 0h24v24H0V0z\" fill=\"none\"/>\n",
              "    <path d=\"M18.56 5.44l.94 2.06.94-2.06 2.06-.94-2.06-.94-.94-2.06-.94 2.06-2.06.94zm-11 1L8.5 8.5l.94-2.06 2.06-.94-2.06-.94L8.5 2.5l-.94 2.06-2.06.94zm10 10l.94 2.06.94-2.06 2.06-.94-2.06-.94-.94-2.06-.94 2.06-2.06.94z\"/><path d=\"M17.41 7.96l-1.37-1.37c-.4-.4-.92-.59-1.43-.59-.52 0-1.04.2-1.43.59L10.3 9.45l-7.72 7.72c-.78.78-.78 2.05 0 2.83L4 21.41c.39.39.9.59 1.41.59.51 0 1.02-.2 1.41-.59l7.78-7.78 2.81-2.81c.8-.78.8-2.07 0-2.86zM5.41 20L4 18.59l7.72-7.72 1.47 1.35L5.41 20z\"/>\n",
              "  </svg>\n",
              "      </button>\n",
              "      \n",
              "  <style>\n",
              "    .colab-df-container {\n",
              "      display:flex;\n",
              "      flex-wrap:wrap;\n",
              "      gap: 12px;\n",
              "    }\n",
              "\n",
              "    .colab-df-convert {\n",
              "      background-color: #E8F0FE;\n",
              "      border: none;\n",
              "      border-radius: 50%;\n",
              "      cursor: pointer;\n",
              "      display: none;\n",
              "      fill: #1967D2;\n",
              "      height: 32px;\n",
              "      padding: 0 0 0 0;\n",
              "      width: 32px;\n",
              "    }\n",
              "\n",
              "    .colab-df-convert:hover {\n",
              "      background-color: #E2EBFA;\n",
              "      box-shadow: 0px 1px 2px rgba(60, 64, 67, 0.3), 0px 1px 3px 1px rgba(60, 64, 67, 0.15);\n",
              "      fill: #174EA6;\n",
              "    }\n",
              "\n",
              "    [theme=dark] .colab-df-convert {\n",
              "      background-color: #3B4455;\n",
              "      fill: #D2E3FC;\n",
              "    }\n",
              "\n",
              "    [theme=dark] .colab-df-convert:hover {\n",
              "      background-color: #434B5C;\n",
              "      box-shadow: 0px 1px 3px 1px rgba(0, 0, 0, 0.15);\n",
              "      filter: drop-shadow(0px 1px 2px rgba(0, 0, 0, 0.3));\n",
              "      fill: #FFFFFF;\n",
              "    }\n",
              "  </style>\n",
              "\n",
              "      <script>\n",
              "        const buttonEl =\n",
              "          document.querySelector('#df-aa61d11f-3d5b-47e0-8846-708902e6ee96 button.colab-df-convert');\n",
              "        buttonEl.style.display =\n",
              "          google.colab.kernel.accessAllowed ? 'block' : 'none';\n",
              "\n",
              "        async function convertToInteractive(key) {\n",
              "          const element = document.querySelector('#df-aa61d11f-3d5b-47e0-8846-708902e6ee96');\n",
              "          const dataTable =\n",
              "            await google.colab.kernel.invokeFunction('convertToInteractive',\n",
              "                                                     [key], {});\n",
              "          if (!dataTable) return;\n",
              "\n",
              "          const docLinkHtml = 'Like what you see? Visit the ' +\n",
              "            '<a target=\"_blank\" href=https://colab.research.google.com/notebooks/data_table.ipynb>data table notebook</a>'\n",
              "            + ' to learn more about interactive tables.';\n",
              "          element.innerHTML = '';\n",
              "          dataTable['output_type'] = 'display_data';\n",
              "          await google.colab.output.renderOutput(dataTable, element);\n",
              "          const docLink = document.createElement('div');\n",
              "          docLink.innerHTML = docLinkHtml;\n",
              "          element.appendChild(docLink);\n",
              "        }\n",
              "      </script>\n",
              "    </div>\n",
              "  </div>\n",
              "  "
            ]
          },
          "metadata": {},
          "execution_count": 60
        }
      ]
    },
    {
      "cell_type": "code",
      "source": [
        "df.where(df[\"volume\"]>400)"
      ],
      "metadata": {
        "colab": {
          "base_uri": "https://localhost:8080/",
          "height": 441
        },
        "id": "Tq6T5h2w-Q9g",
        "outputId": "cae59792-33c9-4fc7-c981-692e62fb9f2f"
      },
      "execution_count": null,
      "outputs": [
        {
          "output_type": "execute_result",
          "data": {
            "text/plain": [
              "                    date     open     high      low    close   volume\n",
              "0    2022-12-14 13:29:00  17928.5  17938.0  17901.9  17914.9  461.133\n",
              "1                    NaT      NaN      NaN      NaN      NaN      NaN\n",
              "2                    NaT      NaN      NaN      NaN      NaN      NaN\n",
              "3                    NaT      NaN      NaN      NaN      NaN      NaN\n",
              "4                    NaT      NaN      NaN      NaN      NaN      NaN\n",
              "...                  ...      ...      ...      ...      ...      ...\n",
              "1435                 NaT      NaN      NaN      NaN      NaN      NaN\n",
              "1436 2022-12-15 13:25:00  17553.2  17563.1  17542.0  17542.0  520.463\n",
              "1437                 NaT      NaN      NaN      NaN      NaN      NaN\n",
              "1438 2022-12-15 13:27:00  17538.0  17545.3  17532.3  17533.1  605.098\n",
              "1439                 NaT      NaN      NaN      NaN      NaN      NaN\n",
              "\n",
              "[1440 rows x 6 columns]"
            ],
            "text/html": [
              "\n",
              "  <div id=\"df-2585c644-33e6-4eb7-af78-315312f6126f\">\n",
              "    <div class=\"colab-df-container\">\n",
              "      <div>\n",
              "<style scoped>\n",
              "    .dataframe tbody tr th:only-of-type {\n",
              "        vertical-align: middle;\n",
              "    }\n",
              "\n",
              "    .dataframe tbody tr th {\n",
              "        vertical-align: top;\n",
              "    }\n",
              "\n",
              "    .dataframe thead th {\n",
              "        text-align: right;\n",
              "    }\n",
              "</style>\n",
              "<table border=\"1\" class=\"dataframe\">\n",
              "  <thead>\n",
              "    <tr style=\"text-align: right;\">\n",
              "      <th></th>\n",
              "      <th>date</th>\n",
              "      <th>open</th>\n",
              "      <th>high</th>\n",
              "      <th>low</th>\n",
              "      <th>close</th>\n",
              "      <th>volume</th>\n",
              "    </tr>\n",
              "  </thead>\n",
              "  <tbody>\n",
              "    <tr>\n",
              "      <th>0</th>\n",
              "      <td>2022-12-14 13:29:00</td>\n",
              "      <td>17928.5</td>\n",
              "      <td>17938.0</td>\n",
              "      <td>17901.9</td>\n",
              "      <td>17914.9</td>\n",
              "      <td>461.133</td>\n",
              "    </tr>\n",
              "    <tr>\n",
              "      <th>1</th>\n",
              "      <td>NaT</td>\n",
              "      <td>NaN</td>\n",
              "      <td>NaN</td>\n",
              "      <td>NaN</td>\n",
              "      <td>NaN</td>\n",
              "      <td>NaN</td>\n",
              "    </tr>\n",
              "    <tr>\n",
              "      <th>2</th>\n",
              "      <td>NaT</td>\n",
              "      <td>NaN</td>\n",
              "      <td>NaN</td>\n",
              "      <td>NaN</td>\n",
              "      <td>NaN</td>\n",
              "      <td>NaN</td>\n",
              "    </tr>\n",
              "    <tr>\n",
              "      <th>3</th>\n",
              "      <td>NaT</td>\n",
              "      <td>NaN</td>\n",
              "      <td>NaN</td>\n",
              "      <td>NaN</td>\n",
              "      <td>NaN</td>\n",
              "      <td>NaN</td>\n",
              "    </tr>\n",
              "    <tr>\n",
              "      <th>4</th>\n",
              "      <td>NaT</td>\n",
              "      <td>NaN</td>\n",
              "      <td>NaN</td>\n",
              "      <td>NaN</td>\n",
              "      <td>NaN</td>\n",
              "      <td>NaN</td>\n",
              "    </tr>\n",
              "    <tr>\n",
              "      <th>...</th>\n",
              "      <td>...</td>\n",
              "      <td>...</td>\n",
              "      <td>...</td>\n",
              "      <td>...</td>\n",
              "      <td>...</td>\n",
              "      <td>...</td>\n",
              "    </tr>\n",
              "    <tr>\n",
              "      <th>1435</th>\n",
              "      <td>NaT</td>\n",
              "      <td>NaN</td>\n",
              "      <td>NaN</td>\n",
              "      <td>NaN</td>\n",
              "      <td>NaN</td>\n",
              "      <td>NaN</td>\n",
              "    </tr>\n",
              "    <tr>\n",
              "      <th>1436</th>\n",
              "      <td>2022-12-15 13:25:00</td>\n",
              "      <td>17553.2</td>\n",
              "      <td>17563.1</td>\n",
              "      <td>17542.0</td>\n",
              "      <td>17542.0</td>\n",
              "      <td>520.463</td>\n",
              "    </tr>\n",
              "    <tr>\n",
              "      <th>1437</th>\n",
              "      <td>NaT</td>\n",
              "      <td>NaN</td>\n",
              "      <td>NaN</td>\n",
              "      <td>NaN</td>\n",
              "      <td>NaN</td>\n",
              "      <td>NaN</td>\n",
              "    </tr>\n",
              "    <tr>\n",
              "      <th>1438</th>\n",
              "      <td>2022-12-15 13:27:00</td>\n",
              "      <td>17538.0</td>\n",
              "      <td>17545.3</td>\n",
              "      <td>17532.3</td>\n",
              "      <td>17533.1</td>\n",
              "      <td>605.098</td>\n",
              "    </tr>\n",
              "    <tr>\n",
              "      <th>1439</th>\n",
              "      <td>NaT</td>\n",
              "      <td>NaN</td>\n",
              "      <td>NaN</td>\n",
              "      <td>NaN</td>\n",
              "      <td>NaN</td>\n",
              "      <td>NaN</td>\n",
              "    </tr>\n",
              "  </tbody>\n",
              "</table>\n",
              "<p>1440 rows × 6 columns</p>\n",
              "</div>\n",
              "      <button class=\"colab-df-convert\" onclick=\"convertToInteractive('df-2585c644-33e6-4eb7-af78-315312f6126f')\"\n",
              "              title=\"Convert this dataframe to an interactive table.\"\n",
              "              style=\"display:none;\">\n",
              "        \n",
              "  <svg xmlns=\"http://www.w3.org/2000/svg\" height=\"24px\"viewBox=\"0 0 24 24\"\n",
              "       width=\"24px\">\n",
              "    <path d=\"M0 0h24v24H0V0z\" fill=\"none\"/>\n",
              "    <path d=\"M18.56 5.44l.94 2.06.94-2.06 2.06-.94-2.06-.94-.94-2.06-.94 2.06-2.06.94zm-11 1L8.5 8.5l.94-2.06 2.06-.94-2.06-.94L8.5 2.5l-.94 2.06-2.06.94zm10 10l.94 2.06.94-2.06 2.06-.94-2.06-.94-.94-2.06-.94 2.06-2.06.94z\"/><path d=\"M17.41 7.96l-1.37-1.37c-.4-.4-.92-.59-1.43-.59-.52 0-1.04.2-1.43.59L10.3 9.45l-7.72 7.72c-.78.78-.78 2.05 0 2.83L4 21.41c.39.39.9.59 1.41.59.51 0 1.02-.2 1.41-.59l7.78-7.78 2.81-2.81c.8-.78.8-2.07 0-2.86zM5.41 20L4 18.59l7.72-7.72 1.47 1.35L5.41 20z\"/>\n",
              "  </svg>\n",
              "      </button>\n",
              "      \n",
              "  <style>\n",
              "    .colab-df-container {\n",
              "      display:flex;\n",
              "      flex-wrap:wrap;\n",
              "      gap: 12px;\n",
              "    }\n",
              "\n",
              "    .colab-df-convert {\n",
              "      background-color: #E8F0FE;\n",
              "      border: none;\n",
              "      border-radius: 50%;\n",
              "      cursor: pointer;\n",
              "      display: none;\n",
              "      fill: #1967D2;\n",
              "      height: 32px;\n",
              "      padding: 0 0 0 0;\n",
              "      width: 32px;\n",
              "    }\n",
              "\n",
              "    .colab-df-convert:hover {\n",
              "      background-color: #E2EBFA;\n",
              "      box-shadow: 0px 1px 2px rgba(60, 64, 67, 0.3), 0px 1px 3px 1px rgba(60, 64, 67, 0.15);\n",
              "      fill: #174EA6;\n",
              "    }\n",
              "\n",
              "    [theme=dark] .colab-df-convert {\n",
              "      background-color: #3B4455;\n",
              "      fill: #D2E3FC;\n",
              "    }\n",
              "\n",
              "    [theme=dark] .colab-df-convert:hover {\n",
              "      background-color: #434B5C;\n",
              "      box-shadow: 0px 1px 3px 1px rgba(0, 0, 0, 0.15);\n",
              "      filter: drop-shadow(0px 1px 2px rgba(0, 0, 0, 0.3));\n",
              "      fill: #FFFFFF;\n",
              "    }\n",
              "  </style>\n",
              "\n",
              "      <script>\n",
              "        const buttonEl =\n",
              "          document.querySelector('#df-2585c644-33e6-4eb7-af78-315312f6126f button.colab-df-convert');\n",
              "        buttonEl.style.display =\n",
              "          google.colab.kernel.accessAllowed ? 'block' : 'none';\n",
              "\n",
              "        async function convertToInteractive(key) {\n",
              "          const element = document.querySelector('#df-2585c644-33e6-4eb7-af78-315312f6126f');\n",
              "          const dataTable =\n",
              "            await google.colab.kernel.invokeFunction('convertToInteractive',\n",
              "                                                     [key], {});\n",
              "          if (!dataTable) return;\n",
              "\n",
              "          const docLinkHtml = 'Like what you see? Visit the ' +\n",
              "            '<a target=\"_blank\" href=https://colab.research.google.com/notebooks/data_table.ipynb>data table notebook</a>'\n",
              "            + ' to learn more about interactive tables.';\n",
              "          element.innerHTML = '';\n",
              "          dataTable['output_type'] = 'display_data';\n",
              "          await google.colab.output.renderOutput(dataTable, element);\n",
              "          const docLink = document.createElement('div');\n",
              "          docLink.innerHTML = docLinkHtml;\n",
              "          element.appendChild(docLink);\n",
              "        }\n",
              "      </script>\n",
              "    </div>\n",
              "  </div>\n",
              "  "
            ]
          },
          "metadata": {},
          "execution_count": 62
        },
        {
          "output_type": "stream",
          "name": "stdout",
          "text": [
            "1671110978.1367543f\"MACD {data}\": 'MACD (0.00069874, 2.0162282023637734e-08, 8.819971600683938e-09)'\n"
          ]
        }
      ]
    },
    {
      "cell_type": "code",
      "execution_count": null,
      "metadata": {
        "id": "xKK2PuBCTFwK",
        "colab": {
          "base_uri": "https://localhost:8080/",
          "height": 936
        },
        "outputId": "25c02424-116d-48eb-97e1-c0f783ed3880"
      },
      "outputs": [
        {
          "output_type": "stream",
          "name": "stdout",
          "text": [
            "1671110711.137985f\"MACD {data}\": 'MACD (0.00069896, -3.1224006429033356e-06, 2.1215652103046324e-06)'\n",
            "1671110712.1376202f\"MACD {data}\": 'MACD (0.00069896, -3.0707090541441575e-06, 1.0831103574148742e-06)'\n",
            "1671110713.1341832f\"MACD {data}\": 'MACD (0.00069896, -2.9952161107669713e-06, 2.674450637785051e-07)'\n",
            "'13:25:13' - INFO - {'type': 'MARKET', 'symbol': 'DENTUSDT', 'quantity': 14970.0, 'positionSide': 'SHORT', 'side': 'SELL'}\n",
            "1671110714.129198f\"MACD {data}\": 'MACD (0.00069895, -2.902733421673593e-06, -3.665906333119146e-07)'\n",
            "1671110715.140417f\"MACD {data}\": 'MACD (0.0006989, -2.8011844952137866e-06, -8.53509405692289e-07)'\n",
            "'13:25:16' - INFO - {'type': 'MARKET', 'symbol': 'DENTUSDT', 'quantity': 14970.0, 'positionSide': 'SHORT', 'side': 'SELL'}\n",
            "1671110716.1385307f\"MACD {data}\": 'MACD (0.0006989, -2.6897010400648126e-06, -1.2207477325667937e-06)'\n",
            "1671110717.1388693f\"MACD {data}\": 'MACD (0.00069892, -2.570109147397525e-06, -1.49062001553294e-06)'\n",
            "'13:25:17' - INFO - {'type': 'MARKET', 'symbol': 'DENTUSDT', 'quantity': 14970.0, 'positionSide': 'SHORT', 'side': 'SELL'}\n",
            "1671110718.1380434f\"MACD {data}\": 'MACD (0.00069892, -2.447122802459972e-06, -1.6819205729183464e-06)'\n",
            "1671110719.1376371f\"MACD {data}\": 'MACD (0.00069893, -2.322080819361209e-06, -1.8099526222069188e-06)'\n",
            "'13:25:19' - INFO - {'type': 'MARKET', 'symbol': 'DENTUSDT', 'quantity': 14970.0, 'positionSide': 'SHORT', 'side': 'SELL'}\n",
            "1671110720.1333745f\"MACD {data}\": 'MACD (0.00069893, -2.1976509942057054e-06, -1.887492296606676e-06)'\n",
            "'13:25:20' - INFO - {'type': 'MARKET', 'symbol': 'DENTUSDT', 'quantity': 14970.0, 'positionSide': 'SHORT', 'side': 'SELL'}\n",
            "1671110721.1326482f\"MACD {data}\": 'MACD (0.00069893, -2.0751187836797608e-06, -1.925017594021293e-06)'\n",
            "1671110722.142992f\"MACD {data}\": 'MACD (0.00069893, -1.9554696867299295e-06, -1.93110801256302e-06)'\n",
            "'13:25:22' - INFO - {'type': 'MARKET', 'symbol': 'DENTUSDT', 'quantity': 14970.0, 'positionSide': 'SHORT', 'side': 'SELL'}\n",
            "1671110723.1389713f\"MACD {data}\": 'MACD (0.00069892, -1.8402406827183531e-06, -1.9129345465940866e-06)'\n",
            "1671110724.1389291f\"MACD {data}\": 'MACD (0.00069892, -1.728990144729439e-06, -1.876145666221157e-06)'\n",
            "1671110725.1374905f\"MACD {data}\": 'MACD (0.00069892, -1.6221244509235849e-06, -1.8253414231616426e-06)'\n",
            "1671110726.1381433f\"MACD {data}\": 'MACD (0.00069889, -1.5223051814070585e-06, -1.7647341748107258e-06)'\n",
            "1671110727.139012f\"MACD {data}\": 'MACD (0.00069889, -1.426750993821068e-06, -1.6971375386127943e-06)'\n",
            "1671110728.1299455f\"MACD {data}\": 'MACD (0.00069889, -1.3356273312529034e-06, -1.624835497140816e-06)'\n",
            "1671110729.1366594f\"MACD {data}\": 'MACD (0.00069888, -1.2498110448390777e-06, -1.5498306066804684e-06)'\n",
            "1671110730.14069f\"MACD {data}\": 'MACD (0.00069887, -1.1691309224938495e-06, -1.4736906698431445e-06)'\n",
            "1671110731.1382408f\"MACD {data}\": 'MACD (0.00069887, -1.0925965711123435e-06, -1.3974718500969843e-06)'\n",
            "1671110732.1369317f\"MACD {data}\": 'MACD (0.00069888, -1.0193847964274673e-06, -1.3218544393630809e-06)'\n",
            "1671110733.1402328f\"MACD {data}\": 'MACD (0.00069889, -9.496105023419112e-07, -1.247405651958847e-06)'\n",
            "1671110734.1382513f\"MACD {data}\": 'MACD (0.00069954, -8.322704086584452e-07, -1.1643786032987665e-06)'\n",
            "1671110735.1372015f\"MACD {data}\": 'MACD (0.00069952, -7.324481653604329e-07, -1.0779925157110998e-06)'\n",
            "1671110736.1402617f\"MACD {data}\": 'MACD (0.00069953, -6.450951466471441e-07, -9.914130418983086e-07)'\n",
            "1671110737.138753f\"MACD {data}\": 'MACD (0.00069952, -5.701023810268093e-07, -9.071509097240088e-07)'\n",
            "1671110738.137383f\"MACD {data}\": 'MACD (0.00069884, -5.590954862413292e-07, -8.375398250274728e-07)'\n"
          ]
        },
        {
          "output_type": "error",
          "ename": "KeyboardInterrupt",
          "evalue": "ignored",
          "traceback": [
            "\u001b[0;31m---------------------------------------------------------------------------\u001b[0m",
            "\u001b[0;31mKeyboardInterrupt\u001b[0m                         Traceback (most recent call last)",
            "\u001b[0;32m<ipython-input-54-4c1c8d786b74>\u001b[0m in \u001b[0;36m<module>\u001b[0;34m\u001b[0m\n\u001b[1;32m      4\u001b[0m \u001b[0mopening\u001b[0m\u001b[0;34m(\u001b[0m\u001b[0;34m)\u001b[0m\u001b[0;34m\u001b[0m\u001b[0;34m\u001b[0m\u001b[0m\n\u001b[1;32m      5\u001b[0m \u001b[0mclosing\u001b[0m\u001b[0;34m(\u001b[0m\u001b[0;34m)\u001b[0m\u001b[0;34m\u001b[0m\u001b[0;34m\u001b[0m\u001b[0m\n\u001b[0;32m----> 6\u001b[0;31m \u001b[0mmain\u001b[0m\u001b[0;34m(\u001b[0m\u001b[0;34m)\u001b[0m\u001b[0;34m.\u001b[0m\u001b[0mresult\u001b[0m\u001b[0;34m(\u001b[0m\u001b[0;34m)\u001b[0m\u001b[0;34m\u001b[0m\u001b[0;34m\u001b[0m\u001b[0m\n\u001b[0m",
            "\u001b[0;32m/usr/local/lib/python3.8/dist-packages/unsync/unsync.py\u001b[0m in \u001b[0;36mresult\u001b[0;34m(self, *args, **kwargs)\u001b[0m\n\u001b[1;32m    142\u001b[0m             \u001b[0;32mraise\u001b[0m \u001b[0masyncio\u001b[0m\u001b[0;34m.\u001b[0m\u001b[0mInvalidStateError\u001b[0m\u001b[0;34m(\u001b[0m\u001b[0;34m\"Calling result() in an unsync method is not allowed\"\u001b[0m\u001b[0;34m)\u001b[0m\u001b[0;34m\u001b[0m\u001b[0;34m\u001b[0m\u001b[0m\n\u001b[1;32m    143\u001b[0m         \u001b[0;31m# Wait on the concurrent Future outside unsync.thread\u001b[0m\u001b[0;34m\u001b[0m\u001b[0;34m\u001b[0m\u001b[0;34m\u001b[0m\u001b[0m\n\u001b[0;32m--> 144\u001b[0;31m         \u001b[0;32mreturn\u001b[0m \u001b[0mself\u001b[0m\u001b[0;34m.\u001b[0m\u001b[0mconcurrent_future\u001b[0m\u001b[0;34m.\u001b[0m\u001b[0mresult\u001b[0m\u001b[0;34m(\u001b[0m\u001b[0;34m*\u001b[0m\u001b[0margs\u001b[0m\u001b[0;34m,\u001b[0m \u001b[0;34m**\u001b[0m\u001b[0mkwargs\u001b[0m\u001b[0;34m)\u001b[0m\u001b[0;34m\u001b[0m\u001b[0;34m\u001b[0m\u001b[0m\n\u001b[0m\u001b[1;32m    145\u001b[0m \u001b[0;34m\u001b[0m\u001b[0m\n\u001b[1;32m    146\u001b[0m     \u001b[0;32mdef\u001b[0m \u001b[0mdone\u001b[0m\u001b[0;34m(\u001b[0m\u001b[0mself\u001b[0m\u001b[0;34m)\u001b[0m\u001b[0;34m:\u001b[0m\u001b[0;34m\u001b[0m\u001b[0;34m\u001b[0m\u001b[0m\n",
            "\u001b[0;32m/usr/lib/python3.8/concurrent/futures/_base.py\u001b[0m in \u001b[0;36mresult\u001b[0;34m(self, timeout)\u001b[0m\n\u001b[1;32m    437\u001b[0m                     \u001b[0;32mreturn\u001b[0m \u001b[0mself\u001b[0m\u001b[0;34m.\u001b[0m\u001b[0m__get_result\u001b[0m\u001b[0;34m(\u001b[0m\u001b[0;34m)\u001b[0m\u001b[0;34m\u001b[0m\u001b[0;34m\u001b[0m\u001b[0m\n\u001b[1;32m    438\u001b[0m \u001b[0;34m\u001b[0m\u001b[0m\n\u001b[0;32m--> 439\u001b[0;31m                 \u001b[0mself\u001b[0m\u001b[0;34m.\u001b[0m\u001b[0m_condition\u001b[0m\u001b[0;34m.\u001b[0m\u001b[0mwait\u001b[0m\u001b[0;34m(\u001b[0m\u001b[0mtimeout\u001b[0m\u001b[0;34m)\u001b[0m\u001b[0;34m\u001b[0m\u001b[0;34m\u001b[0m\u001b[0m\n\u001b[0m\u001b[1;32m    440\u001b[0m \u001b[0;34m\u001b[0m\u001b[0m\n\u001b[1;32m    441\u001b[0m                 \u001b[0;32mif\u001b[0m \u001b[0mself\u001b[0m\u001b[0;34m.\u001b[0m\u001b[0m_state\u001b[0m \u001b[0;32min\u001b[0m \u001b[0;34m[\u001b[0m\u001b[0mCANCELLED\u001b[0m\u001b[0;34m,\u001b[0m \u001b[0mCANCELLED_AND_NOTIFIED\u001b[0m\u001b[0;34m]\u001b[0m\u001b[0;34m:\u001b[0m\u001b[0;34m\u001b[0m\u001b[0;34m\u001b[0m\u001b[0m\n",
            "\u001b[0;32m/usr/lib/python3.8/threading.py\u001b[0m in \u001b[0;36mwait\u001b[0;34m(self, timeout)\u001b[0m\n\u001b[1;32m    300\u001b[0m         \u001b[0;32mtry\u001b[0m\u001b[0;34m:\u001b[0m    \u001b[0;31m# restore state no matter what (e.g., KeyboardInterrupt)\u001b[0m\u001b[0;34m\u001b[0m\u001b[0;34m\u001b[0m\u001b[0m\n\u001b[1;32m    301\u001b[0m             \u001b[0;32mif\u001b[0m \u001b[0mtimeout\u001b[0m \u001b[0;32mis\u001b[0m \u001b[0;32mNone\u001b[0m\u001b[0;34m:\u001b[0m\u001b[0;34m\u001b[0m\u001b[0;34m\u001b[0m\u001b[0m\n\u001b[0;32m--> 302\u001b[0;31m                 \u001b[0mwaiter\u001b[0m\u001b[0;34m.\u001b[0m\u001b[0macquire\u001b[0m\u001b[0;34m(\u001b[0m\u001b[0;34m)\u001b[0m\u001b[0;34m\u001b[0m\u001b[0;34m\u001b[0m\u001b[0m\n\u001b[0m\u001b[1;32m    303\u001b[0m                 \u001b[0mgotit\u001b[0m \u001b[0;34m=\u001b[0m \u001b[0;32mTrue\u001b[0m\u001b[0;34m\u001b[0m\u001b[0;34m\u001b[0m\u001b[0m\n\u001b[1;32m    304\u001b[0m             \u001b[0;32melse\u001b[0m\u001b[0;34m:\u001b[0m\u001b[0;34m\u001b[0m\u001b[0;34m\u001b[0m\u001b[0m\n",
            "\u001b[0;31mKeyboardInterrupt\u001b[0m: "
          ]
        }
      ],
      "source": [
        "# macding()\n",
        "buying(AMOUNT,LONG,SHORT)\n",
        "selling(AMOUNT,LONG,SHORT)\n",
        "opening()\n",
        "closing()\n",
        "main().result()"
      ]
    },
    {
      "cell_type": "code",
      "execution_count": null,
      "metadata": {
        "id": "3U0SL-gWqGqN"
      },
      "outputs": [],
      "source": [
        "!date"
      ]
    },
    {
      "cell_type": "code",
      "source": [],
      "metadata": {
        "id": "LZ28x1cPmco3"
      },
      "execution_count": null,
      "outputs": []
    },
    {
      "cell_type": "code",
      "execution_count": null,
      "metadata": {
        "id": "uB28TJ4jqMyd"
      },
      "outputs": [],
      "source": [
        "income()"
      ]
    },
    {
      "cell_type": "code",
      "execution_count": null,
      "metadata": {
        "id": "LX2LSk4Bp3FW"
      },
      "outputs": [],
      "source": [
        "income(False,False)"
      ]
    },
    {
      "cell_type": "code",
      "execution_count": null,
      "metadata": {
        "id": "qqV3tnXLPCWT"
      },
      "outputs": [],
      "source": [
        "def get_macd(price, slow, fast, smooth):\n",
        "    exp1 = price.ewm(span = fast, adjust = False).mean() #properties of df\n",
        "    exp2 = price.ewm(span = slow, adjust = False).mean()\n",
        "    df = pd.DataFrame()\n",
        "    df['price'] = price\n",
        "    df['macd'] = exp1 - exp2\n",
        "    df['signal'] = df['macd'].ewm(span = smooth, adjust = False).mean()\n",
        "    df['hist'] = df['macd'] - df['signal']\n",
        "    return df\n",
        "\n",
        "cd = pd.DataFrame(CLOSES)\n",
        "mac1 = get_macd(cd, 26, 12, 9)\n",
        "\n"
      ]
    },
    {
      "cell_type": "code",
      "execution_count": null,
      "metadata": {
        "id": "Hr2lSW_rRvN4"
      },
      "outputs": [],
      "source": [
        "import multiprocessing,threading #standard in python 3\n",
        "\n",
        "print(multiprocessing.cpu_count())\n",
        "ic(threading.active_count())"
      ]
    },
    {
      "cell_type": "code",
      "execution_count": null,
      "metadata": {
        "id": "ATlFeVVCdXKl"
      },
      "outputs": [],
      "source": [
        "p = lambda x : print(\"SDSD\")\n",
        "def timeIT(fc,*args):\n",
        "  k=[]\n",
        "  for i in range(1000):\n",
        "    x = time.time()\n",
        "    y = time.time()\n",
        "    fc(*args)\n",
        "    k.append(x-y)\n",
        "  z = np.array(k).mean()\n",
        "  ic(fc.__name__,'took',z)\n",
        "  return z\n",
        "\n",
        "# timeIT(p)\n",
        "cd = pd.DataFrame(CLOSES)\n",
        "timeIT(get_macd,cd,26,12,9)\n",
        "timeIT(talib.MACD,CLOSES,12,26,9) #Talib is faster apparently..."
      ]
    },
    {
      "cell_type": "code",
      "execution_count": null,
      "metadata": {
        "id": "1q6caOQo983U"
      },
      "outputs": [],
      "source": [
        "\n"
      ]
    },
    {
      "cell_type": "code",
      "execution_count": null,
      "metadata": {
        "id": "qT2338ip_Vyz"
      },
      "outputs": [],
      "source": []
    },
    {
      "cell_type": "code",
      "execution_count": null,
      "metadata": {
        "id": "E2H479TD8CBk"
      },
      "outputs": [],
      "source": [
        "c = CLOSES \n",
        "m,s,histogram = talib.MACD(c, fastperiod=12, slowperiod=26, signalperiod=9)\n",
        "frames = talib.MACD(c, fastperiod=12, slowperiod=26, signalperiod=9)\n",
        "# df = pd.concat([m,s,histogram], join = 'inner', axis = 1)\n",
        "df = pd.DataFrame(frames).transpose()\n",
        "df.columns = ['macd','signal','histogram']\n",
        "# df.dropna(inplace=True)\n",
        "df\n",
        "\n",
        "\n",
        "# m,s = df.iloc[0,:2]\n",
        "\n",
        "# net = m-s\n",
        "# if m>]\n",
        "\n",
        "# prev_net = net\n",
        "# net = m-s\n",
        " "
      ]
    },
    {
      "cell_type": "markdown",
      "metadata": {
        "id": "n63e3MpFBA-6"
      },
      "source": [
        "Ploting macd plus our Strategy"
      ]
    },
    {
      "cell_type": "code",
      "execution_count": null,
      "metadata": {
        "id": "9B_YMvO4YVxm"
      },
      "outputs": [],
      "source": [
        "def implement_macd_strategy(prices, data):    #for ploting\n",
        "    buy_price = []\n",
        "    sell_price = []\n",
        "    macd_signal = []\n",
        "    signal = 0\n",
        "\n",
        "    for i in range(len(data)):\n",
        "        if data['macd'][i] > data['signal'][i]:\n",
        "            if signal != 1:\n",
        "                buy_price.append(prices[i])\n",
        "                sell_price.append(np.nan)\n",
        "                signal = 1\n",
        "                macd_signal.append(signal)\n",
        "            else:\n",
        "                buy_price.append(np.nan)\n",
        "                sell_price.append(np.nan)\n",
        "                macd_signal.append(0)\n",
        "        elif data['macd'][i] < data['signal'][i]:\n",
        "            if signal != -1:\n",
        "                buy_price.append(np.nan)\n",
        "                sell_price.append(prices[i])\n",
        "                signal = -1\n",
        "                macd_signal.append(signal)\n",
        "            else:\n",
        "                buy_price.append(np.nan)\n",
        "                sell_price.append(np.nan)\n",
        "                macd_signal.append(0)\n",
        "        else:\n",
        "            buy_price.append(np.nan)\n",
        "            sell_price.append(np.nan)\n",
        "            macd_signal.append(0)\n",
        "            \n",
        "    return buy_price, sell_price, macd_signal\n",
        "            \n",
        "buy_price, sell_price, macd_signal = MACDStrategy(df['price'], df)\n"
      ]
    },
    {
      "cell_type": "code",
      "execution_count": null,
      "metadata": {
        "id": "RLwqc0TUMf_2"
      },
      "outputs": [],
      "source": [
        "import matplotlib.pyplot as plt \n",
        "\n",
        "\n",
        "plt.rcParams['figure.figsize'] = (10, 10)\n",
        "plt.style.use('fivethirtyeight')\n",
        "\n",
        "def plot_macd(prices, macd, signal, hist):\n",
        "    ax1 = plt.subplot2grid((8,1), (0,0), rowspan = 5, colspan = 1)\n",
        "    ax2 = plt.subplot2grid((8,1), (5,0), rowspan = 3, colspan = 1)\n",
        "\n",
        "    ax1.plot(prices)\n",
        "    ax2.plot(macd, color = 'grey', linewidth = 1.5, label = 'MACD')\n",
        "    ax2.plot(signal, color = 'skyblue', linewidth = 1.5, label = 'SIGNAL')\n",
        "\n",
        "    for i in range(len(prices)):\n",
        "        if hist[i]<0:\n",
        "            ax2.bar(prices.index[i], hist[i], color = '#ef5350')\n",
        "        else:\n",
        "            ax2.bar(prices.index[i], hist[i], color = '#26a69a')\n",
        "\n",
        "    plt.legend(loc = 'lower right')\n",
        "df = mac1\n",
        "l = [df[i].to_list() for i in df.columns][1:]\n",
        "plot_macd(df['price'],*l)\n"
      ]
    },
    {
      "cell_type": "code",
      "execution_count": null,
      "metadata": {
        "id": "6wZTk0TQZbXp"
      },
      "outputs": [],
      "source": [
        "ax1 = plt.subplot2grid((8,1), (0,0), rowspan = 5, colspan = 1)\n",
        "ax2 = plt.subplot2grid((8,1), (5,0), rowspan = 3, colspan = 1)\n",
        "\n",
        "ax1.plot(df['price'], color = 'skyblue', linewidth = 2, label = 'price')\n",
        "ax1.plot(df.index, buy_price, marker = '^', color = 'green', markersize = 10, label = 'BUY SIGNAL', linewidth = 0)\n",
        "ax1.plot(df.index, sell_price, marker = 'v', color = 'r', markersize = 10, label = 'SELL SIGNAL', linewidth = 0)\n",
        "ax1.legend()\n",
        "ax1.set_title('df MACD SIGNALS')\n",
        "ax2.plot(df['macd'], color = 'grey', linewidth = 1.5, label = 'MACD')\n",
        "ax2.plot(df['signal'], color = 'skyblue', linewidth = 1.5, label = 'SIGNAL')\n",
        "\n",
        "for i in range(len(df)):\n",
        "    if str(df['hist'][i])[0] == '-':\n",
        "        ax2.bar(df.index[i], df['hist'][i], color = '#ef5350')\n",
        "    else:\n",
        "        ax2.bar(df.index[i], df['hist'][i], color = '#26a69a')\n",
        "        \n",
        "plt.legend(loc = 'lower right')\n",
        "plt.show()"
      ]
    },
    {
      "cell_type": "code",
      "execution_count": null,
      "metadata": {
        "id": "v3je5LhjW5L9"
      },
      "outputs": [],
      "source": [
        "df['price'].tail()"
      ]
    },
    {
      "cell_type": "code",
      "execution_count": null,
      "metadata": {
        "id": "cIQotc4YV-jr"
      },
      "outputs": [],
      "source": [
        "df"
      ]
    },
    {
      "cell_type": "code",
      "execution_count": null,
      "metadata": {
        "id": "mCZTl8NYu5YT"
      },
      "outputs": [],
      "source": [
        "positions()"
      ]
    },
    {
      "cell_type": "code",
      "execution_count": null,
      "metadata": {
        "id": "9TxJSPhUQUW0"
      },
      "outputs": [],
      "source": [
        "while 1:\n",
        "  print(positions()['unRealizedProfit'].sum())\n",
        "  time.sleep(5)\n"
      ]
    },
    {
      "cell_type": "code",
      "execution_count": null,
      "metadata": {
        "id": "jn6p4Asy66qq"
      },
      "outputs": [],
      "source": [
        "# try:\n",
        "#   loop = asyncio.get_running_loop()\n",
        "#   main().result()\n",
        "# except Exception as e:\n",
        "#   lp = asyncio.get_event_loop()\n",
        "#   # lp.stop()\n",
        "#   print('Crash')\n",
        "#   # loop.stop()`\n",
        "#   print(e)"
      ]
    },
    {
      "cell_type": "markdown",
      "metadata": {
        "id": "mqGgzdAjV17B"
      },
      "source": [
        "https://www.shanelynn.ie/using-python-threading-for-multiple-results-queue/\n",
        "https://stackoverflow.com/questions/20056300/python-print-output-of-each-thread-to-seperate-file-no-processes"
      ]
    },
    {
      "cell_type": "code",
      "execution_count": null,
      "metadata": {
        "id": "WRs9DbghFTIL"
      },
      "outputs": [],
      "source": [
        "#https://medium.com/codex/algorithmic-trading-with-macd-in-python-1c2769a6ad1b"
      ]
    },
    {
      "cell_type": "code",
      "execution_count": null,
      "metadata": {
        "id": "KdIG2MiH8JKR"
      },
      "outputs": [],
      "source": [
        "# bearish when macd <0\n",
        "#bullish macd crosses >0\n"
      ]
    },
    {
      "cell_type": "code",
      "execution_count": null,
      "metadata": {
        "id": "Tq9EEdKU8Baa"
      },
      "outputs": [],
      "source": [
        "#bearosj macd croses  bellow signal line"
      ]
    },
    {
      "cell_type": "code",
      "execution_count": null,
      "metadata": {
        "id": "7RxUCaxt44up"
      },
      "outputs": [],
      "source": [
        "# try:\n",
        "#     loop = asyncio.get_running_loop()\n",
        "# except RuntimeError:  # 'RuntimeError: There is no current event loop...'\n",
        "#     loop = None\n",
        "\n",
        "# if loop and loop.is_running():\n",
        "#     print('Async event loop already running. Adding coroutine to the event loop.')\n",
        "#     tsk = loop.create_task(main())\n",
        "#     # ^-- https://docs.python.org/3/library/asyncio-task.html#task-object\n",
        "#     # Optionally, a callback function can be executed when the coroutine completes\n",
        "#     tsk.add_done_callback(\n",
        "#         lambda t: print(f'Task done with result={t.result()}  << return val of main()'))\n",
        "# else:\n",
        "#     print('Starting new event loop')\n",
        "#     asyncio.run(main())"
      ]
    },
    {
      "cell_type": "code",
      "execution_count": null,
      "metadata": {
        "id": "xQW9oa0yOXdK"
      },
      "outputs": [],
      "source": [
        "#  miniticker_socket(self, update_time: int = 1000):\n",
        "  # aggtrade_socket(\n",
        "  #     symbol_ticker_socket(self, symbol: str):\n",
        "  #     ticker_socket(self):\n",
        "  #         def index_price_socket(self, symbol: str, fast: bool = True):\n"
      ]
    },
    {
      "cell_type": "markdown",
      "metadata": {
        "id": "0j0elZ7XhEEv"
      },
      "source": [
        "Prediction\n"
      ]
    },
    {
      "cell_type": "code",
      "execution_count": null,
      "metadata": {
        "id": "6oBktNCupqlB"
      },
      "outputs": [],
      "source": [
        "from fbprophet import Prophet\n",
        "\n",
        "\n",
        "def predict(df,freq='1',period=60,mode='L',his=True):\n",
        "  d = {'L':'linear','log':'logistic'}\n",
        "  m = Prophet(growth=d.get(mode),daily_seasonality=True)\n",
        "\n",
        "  m.fit(df)\n",
        "  fut = m.make_future_dataframe(periods=period,freq=f'{freq}min',include_history=his)\n",
        "  fore = m.predict(fut)\n",
        "  fore['ds']  = fore['ds'].values.tolist()\n",
        "  return fore"
      ]
    },
    {
      "cell_type": "markdown",
      "metadata": {
        "id": "kfKCSpFWDKys"
      },
      "source": [
        "Historical "
      ]
    },
    {
      "cell_type": "code",
      "execution_count": null,
      "metadata": {
        "id": "yR6KnpdodrFi"
      },
      "outputs": [],
      "source": [
        "import numpy as np\n",
        "\n",
        "df=history('BTC','1m','1 day ago')\n",
        "# df['date']  = pd.to_datetime(df['date']).dt.time\n",
        "make_history(df)\n",
        "\n",
        "# make_history(df)\n",
        "\n",
        "# df['ds'] = df['ds'].apply(lambda x: pd.Timestamp(x))\n",
        "# df['ts'] = df.ds.values.astype(np.int64) "
      ]
    },
    {
      "cell_type": "code",
      "execution_count": null,
      "metadata": {
        "id": "2kXciE8c2Ifm"
      },
      "outputs": [],
      "source": [
        "df['ds'] = df.ds.values.tolist()"
      ]
    },
    {
      "cell_type": "code",
      "execution_count": null,
      "metadata": {
        "id": "tahb7x0c2PAZ"
      },
      "outputs": [],
      "source": [
        "df.loc[df['ds']==1642402980000000000]"
      ]
    },
    {
      "cell_type": "code",
      "execution_count": null,
      "metadata": {
        "id": "QH2U1Bl0mvmL"
      },
      "outputs": [],
      "source": [
        "ff = predict(df,1,100,his=False)\n",
        "# ff['ds']=pd.to_datetime(df['ds']).dt.time\n",
        "ff\n",
        "\n"
      ]
    },
    {
      "cell_type": "code",
      "execution_count": null,
      "metadata": {
        "id": "jnSX-SLBr9q_"
      },
      "outputs": [],
      "source": [
        "!date"
      ]
    },
    {
      "cell_type": "code",
      "execution_count": null,
      "metadata": {
        "id": "uHg1DG54eD-z"
      },
      "outputs": [],
      "source": [
        "df[1440:]"
      ]
    },
    {
      "cell_type": "code",
      "execution_count": null,
      "metadata": {
        "id": "QohWR9f3R_Y7"
      },
      "outputs": [],
      "source": [
        "xf=history('EOS','1m','1 day ago')\n",
        "make_history(xf)\n",
        "predict(xf)"
      ]
    },
    {
      "cell_type": "code",
      "execution_count": null,
      "metadata": {
        "id": "_xSCtUVB_9pq"
      },
      "outputs": [],
      "source": [
        "x = df['ds'].iloc[1] -today()\n",
        "x"
      ]
    },
    {
      "cell_type": "code",
      "execution_count": null,
      "metadata": {
        "id": "88zZLG4gL4A0"
      },
      "outputs": [],
      "source": [
        "#Streaming\n",
        "\n",
        "def listenKey(key=None,op=0):\n",
        "  if op: return client.futures_stream_close(key)\n",
        "  elif key==None:return client.futures_stream_get_listen_key()\n",
        "  return client.futures_stream_keepalive(key)\n"
      ]
    },
    {
      "cell_type": "code",
      "execution_count": null,
      "metadata": {
        "id": "byH8WsoFmNiW"
      },
      "outputs": [],
      "source": [
        "predict(df)"
      ]
    },
    {
      "cell_type": "code",
      "execution_count": null,
      "metadata": {
        "id": "gC5KzSw6U4Qr"
      },
      "outputs": [],
      "source": [
        "predict(xf)"
      ]
    },
    {
      "cell_type": "code",
      "execution_count": null,
      "metadata": {
        "id": "38NYbYtmVa5G"
      },
      "outputs": [],
      "source": [
        "m = Prophet(daily_seasonality=True)\n",
        "m.fit(df)\n",
        "fut = m.make_future_dataframe(periods=20,freq=f'{1}min',include_history=True)\n",
        "fore = m.predict(fut)\n",
        "fore.tail()"
      ]
    },
    {
      "cell_type": "code",
      "execution_count": null,
      "metadata": {
        "id": "oUpuRdwzfHQU"
      },
      "outputs": [],
      "source": [
        "\n",
        "m.plot(fore); #close->low "
      ]
    },
    {
      "cell_type": "code",
      "execution_count": null,
      "metadata": {
        "id": "Psw5cBatfQrk"
      },
      "outputs": [],
      "source": [
        "m.plot(fore); "
      ]
    },
    {
      "cell_type": "code",
      "execution_count": null,
      "metadata": {
        "id": "mwqBJP6AoOkh"
      },
      "outputs": [],
      "source": [
        "m.plot(fore,figsize=(20,8));"
      ]
    },
    {
      "cell_type": "code",
      "execution_count": null,
      "metadata": {
        "id": "pv4OnatPnUa_"
      },
      "outputs": [],
      "source": [
        "m.plot(fore,figsize=(20,8)); #linear"
      ]
    },
    {
      "cell_type": "code",
      "execution_count": null,
      "metadata": {
        "id": "eD0yFyR0m1Ez"
      },
      "outputs": [],
      "source": [
        "m.plot(fore);"
      ]
    },
    {
      "cell_type": "code",
      "execution_count": null,
      "metadata": {
        "id": "NGY0CRSflgCA"
      },
      "outputs": [],
      "source": [
        "m.plot_components(fore);"
      ]
    },
    {
      "cell_type": "code",
      "execution_count": null,
      "metadata": {
        "id": "XdBJUdh2qjBW"
      },
      "outputs": [],
      "source": []
    },
    {
      "cell_type": "code",
      "execution_count": null,
      "metadata": {
        "id": "pZ08kfl6heYv"
      },
      "outputs": [],
      "source": [
        "fore[len(df):][['yhat','yhat_lower','yhat_upper','ds']]"
      ]
    },
    {
      "cell_type": "markdown",
      "metadata": {
        "id": "2Kni47KUkvC8"
      },
      "source": [
        "https://towardsdatascience.com/a-quick-start-of-time-series-forecasting-with-a-practical-example-using-fb-prophet-31c4447a2274\n",
        "\n",
        "https://stackoverflow.com/questions/59843459/forecasting-in-fb-prophet-by-minute\n"
      ]
    },
    {
      "cell_type": "markdown",
      "metadata": {
        "id": "0iT9MLwVBlMz"
      },
      "source": [
        "CandleSticks"
      ]
    },
    {
      "cell_type": "markdown",
      "metadata": {
        "id": "TM8LoYeZF0MT"
      },
      "source": [
        "Unarchives\n"
      ]
    },
    {
      "cell_type": "code",
      "execution_count": null,
      "metadata": {
        "id": "cTcZUQKMC6aj"
      },
      "outputs": [],
      "source": [
        "def snapshot(type='futures'): # Can be spot, margin,..\n",
        "  type = type.upper()\n",
        "  info = client.get_account_snapshot(type=type)\n",
        "  return info\n",
        "\n",
        "def assets():\n",
        "  d = snapshot()\n",
        "  asset = pd.DataFrame(d['snapshotVos'][0]['data']['position'])\n",
        "  return d['snapshotVos'][4]['data']['assets']\n",
        "\n",
        "def progress_balance():\n",
        "   d = snapshot()['snapshotVos']\n",
        "   assets = pd.DataFrame()\n",
        "   for i in d:\n",
        "     timestamp = '12' \n",
        "     k = pd.DataFrame(i['data']['assets'],index=[timestamp])\n",
        "     assets = pd.concat([assets,k])\n",
        "   return assets\n",
        "\n",
        "# progress_balance()\n",
        "# assets()"
      ]
    },
    {
      "cell_type": "markdown",
      "metadata": {
        "id": "CiXodX60F7zX"
      },
      "source": [
        "Account"
      ]
    },
    {
      "cell_type": "code",
      "execution_count": null,
      "metadata": {
        "id": "G6nuMYFPF9eV"
      },
      "outputs": [],
      "source": [
        "#Account\n",
        "\n",
        "from binance.helpers import round_step_size\n",
        "\n",
        "amount = 0.000234234\n",
        "tick_size = 0.00001\n",
        "rounded_amount = round_step_size(amount, tick_size)\n",
        "\n",
        "orders = client.get_all_orders(symbol='BNBBTC', limit=10)\n",
        "\n",
        "\n",
        "#Place Order\n",
        "from binance.enums import *\n",
        "order = client.create_order(\n",
        "    symbol='BNBBTC',\n",
        "    side=SIDE_BUY,\n",
        "    type=ORDER_TYPE_LIMIT,\n",
        "    timeInForce=TIME_IN_FORCE_GTC,\n",
        "    quantity=100,\n",
        "    price='0.00001')\n",
        "\n",
        "#Place Limit Order\n",
        "\n",
        "order = client.order_limit_buy(\n",
        "    symbol='BNBBTC',\n",
        "    quantity=100,\n",
        "    price='0.00001')\n",
        "\n",
        "order = client.order_limit_sell(\n",
        "    symbol='BNBBTC',\n",
        "    quantity=100,\n",
        "    price='0.00001')\n",
        "\n",
        "#Market Order\n",
        "\n",
        "order = client.order_market_buy(\n",
        "    symbol='BNBBTC',\n",
        "    quantity=100)\n",
        "\n",
        "order = client.order_market_sell(\n",
        "    symbol='BNBBTC',\n",
        "    quantity=100)\n",
        "\n",
        "#Test Order Creates and validates a new order but does not send it into the exchange.\n",
        "\n",
        "from binance.enums import *\n",
        "order = client.create_test_order(\n",
        "    symbol='BNBBTC',\n",
        "    side=SIDE_BUY,\n",
        "    type=ORDER_TYPE_LIMIT,\n",
        "    timeInForce=TIME_IN_FORCE_GTC,\n",
        "    quantity=100,\n",
        "    price='0.00001')\n",
        "\n",
        "#Order Status\n",
        "order = client.get_order(\n",
        "    symbol='BNBBTC',\n",
        "    orderId='orderId')\n",
        "\n",
        "result = client.cancel_order(\n",
        "    symbol='BNBBTC',\n",
        "    orderId='orderId')\n",
        "\n",
        "orders = client.get_open_orders(symbol='BNBBTC')\n",
        "\n",
        "orders = client.get_all_orders(symbol='BNBBTC')\n",
        "\n",
        "snapshot = client.get_asset_snapshot(asset='BTC')\n",
        "status = client.get_account_status()\n",
        "status = client.get_account_api_trading_status()\n",
        "trades = client.get_my_trades(symbol='BNBBTC')\n",
        "# get fees for all symbols\n",
        "fees = client.get_trade_fee()\n",
        "\n",
        "# get fee for one symbol\n",
        "fees = client.get_trade_fee(symbol='BNBBTC')\n",
        "\n",
        "details = client.get_asset_details()\n",
        "log = client.get_dust_log()\n",
        "transfer = client.transfer_dust(asset='BNZ')\n"
      ]
    },
    {
      "cell_type": "markdown",
      "metadata": {
        "id": "FfP7Gwt2GjnE"
      },
      "source": [
        "Market Data Endpoints"
      ]
    },
    {
      "cell_type": "code",
      "execution_count": null,
      "metadata": {
        "id": "pLoxaIGDGfwJ"
      },
      "outputs": [],
      "source": [
        "# Market Data Endpoints\n",
        "\n",
        "\n",
        "depth = client.get_order_book(symbol='BNBBTC')\n",
        "trades = client.get_recent_trades(symbol='BNBBTC')\n",
        "trades = client.get_historical_trades(symbol='BNBBTC')\n",
        "trades = client.get_aggregate_trades(symbol='BNBBTC')\n",
        "\n",
        "agg_trades = client.aggregate_trade_iter(symbol='ETHBTC', start_str='30 minutes ago UTC')\n",
        "\n",
        "# iterate over the trade iterator\n",
        "for trade in agg_trades:\n",
        "    print(trade)\n",
        "    # do something with the trade data\n",
        "\n",
        "# convert the iterator to a list\n",
        "# note: generators can only be iterated over once so we need to call it again\n",
        "agg_trades = client.aggregate_trade_iter(symbol='ETHBTC', '30 minutes ago UTC')\n",
        "agg_trade_list = list(agg_trades)\n",
        "\n",
        "# example using last_id value\n",
        "agg_trades = client.aggregate_trade_iter(symbol='ETHBTC', last_id=23380478)\n",
        "agg_trade_list = list(agg_trades)\n",
        "\n",
        "\n",
        "candles = client.get_klines(symbol='BNBBTC', interval=Client.KLINE_INTERVAL_30MINUTE)\n",
        "# fetch 1 minute klines for the last day up until now\n",
        "klines = client.get_historical_klines(\"BNBBTC\", Client.KLINE_INTERVAL_1MINUTE, \"1 day ago UTC\")\n",
        "\n",
        "# fetch 30 minute klines for the last month of 2017\n",
        "klines = client.get_historical_klines(\"ETHBTC\", Client.KLINE_INTERVAL_30MINUTE, \"1 Dec, 2017\", \"1 Jan, 2018\")\n",
        "\n",
        "# fetch weekly klines since it listed\n",
        "klines = client.get_historical_klines(\"NEOBTC\", Client.KLINE_INTERVAL_1WEEK, \"1 Jan, 2017\")\n",
        "\n",
        "for kline in client.get_historical_klines_generator(\"BNBBTC\", Client.KLINE_INTERVAL_1MINUTE, \"1 day ago UTC\"):\n",
        "\n",
        "avg_price = client.get_avg_price(symbol='BNBBTC')\n",
        "\n",
        "tickers = client.get_ticker()\n",
        "prices = client.get_all_tickers()\n",
        "tickers = client.get_orderbook_tickers()#Get first bid and ask entry in the order book for all markets.\n",
        "\n"
      ]
    },
    {
      "cell_type": "code",
      "execution_count": null,
      "metadata": {
        "id": "3N5VlsynCYRT"
      },
      "outputs": [],
      "source": [
        "import numpy as np\n",
        "import talib\n",
        "import time\n",
        "\n",
        "\n",
        "flag = True\n",
        "\n",
        "def RSIStrategy(price,period=14): #Long,Short Functions\n",
        "    global PREV\n",
        "    global TAKE\n",
        "    global BALANCE\n",
        "    global flag\n",
        "    # global RSIS\n",
        "    # RSI_Lock.acquire()\n",
        "    if PREV!=-1:\n",
        "      if price>PREV and TAKE==0: SDF[0]+=1\n",
        "      elif price<PREV and TAKE==1: SDF[0]+=1\n",
        "      elif PREV==price: SDF[1]+=1\n",
        "      else:\n",
        "        SDF[2]+=1 \n",
        "    if CLOSES.size <=period: return \n",
        "    rsi = talib.RSI(CLOSES,period)\n",
        "    cur_rsi = rsi[-1]\n",
        "\n",
        "    try:\n",
        "      if cur_rsi <= 30:\n",
        "        print(\"OverSold Long\")\n",
        "        PREV = price    \n",
        "        TAKE=0\n",
        "        if SHORT.q>0:play(SHORT,price)\n",
        "        if flag:\n",
        "          LONG.open(AMOUNT,price)\n",
        "          BALANCE-=p*_q\n",
        "      elif cur_rsi > 70:\n",
        "        print(\"OverBought Short\")\n",
        "        PREV = price\n",
        "        TAKE=1\n",
        "        if LONG.q>0:play(LONG,price)\n",
        "        if flag:\n",
        "          order(CRYPTO,'OPEN','SHORT',AMOUNT)#,trail=.5)\n",
        "          BALANCE-=price*AMOUNT\n",
        "          SHORT.open(AMOUNT,price)\n",
        "    except Exception as e:\n",
        "        print(e)\n",
        "        print('hey',e.status_code,e.code)\n",
        "        codes = ['-2027']\n",
        "        if e.code ==-2027: #Mav leverage\n",
        "          flag = False\n",
        "          time.sleep(15)\n",
        "        elif e.code==4045:\n",
        "          cancel_order('BTC')"
      ]
    },
    {
      "cell_type": "markdown",
      "metadata": {
        "id": "HTtyljxvG-8F"
      },
      "source": [
        "Async"
      ]
    },
    {
      "cell_type": "code",
      "execution_count": null,
      "metadata": {
        "id": "Aw9WfENgG9hS"
      },
      "outputs": [],
      "source": [
        "client = await AsyncClient.create(api_key, api_secret,testnet='true',tld='us',{\"verify\": False, \"timeout\": 20}) #testnet enables trading tId - region . Uses request package - so {} request params\n",
        "\n",
        "loop = asyncio.get_event_loop()\n",
        "loop.run_until_complete(main())\n",
        "\n",
        "    # fetch exchange info\n",
        "    res = await client.get_exchange_info()\n",
        "    print(json.dumps(res, indent=2))\n",
        "\n",
        "  client.get_all_orders(symbol='BNBBTC', requests_params={'timeout': 5}) # override default params\n"
      ]
    },
    {
      "cell_type": "code",
      "execution_count": null,
      "metadata": {
        "id": "Fs1cERxCHGk6"
      },
      "outputs": [],
      "source": [
        "Simple API Endpoints\n",
        ".ping()\n",
        "time_res = client.get_server_time()\n",
        "info = client.get_symbol_info('BNBBTC')\n",
        "info = client.get_all_tickers() # Get information of coins (available for deposit and withdraw) for user\n",
        "\n"
      ]
    },
    {
      "cell_type": "code",
      "execution_count": null,
      "metadata": {
        "id": "CxWjxCwZ-fin"
      },
      "outputs": [],
      "source": [
        "%magic"
      ]
    },
    {
      "cell_type": "markdown",
      "metadata": {
        "id": "VPaeI1yTBZzy"
      },
      "source": [
        "Bibiliography\n",
        "\n",
        "https://github.com/sammchardy/python-binance/blob/master/binance/client.py\n",
        "\n",
        "https://colab.research.dfe.com/drive/1knvw5uUReCjrN7dbZNP-OzYs1OY5Mmc4#scrollTo=y_RiMszHFCZ_\n",
        "\n",
        "https://algotrading101.com/learn/binance-python-api-guide/\n",
        "\n",
        "https://medium.com/analytics-vidhya/futures-trading-with-python-binance-d738c71e17b5\n",
        "\n",
        "https://binance-docs.github.io/apidocs/futures/en/#new-future-account-transfer\n",
        "\n",
        "https://readthedocs.org/projects/python-binance/downloads/pdf/latest/\n",
        "\n",
        "\n",
        "https://testnet.binancefuture.com/en/futures/BTCUSDT\n",
        "\n",
        "\n"
      ]
    }
  ],
  "metadata": {
    "colab": {
      "provenance": []
    },
    "kernelspec": {
      "display_name": "Python 3",
      "name": "python3"
    },
    "language_info": {
      "name": "python"
    }
  },
  "nbformat": 4,
  "nbformat_minor": 0
}