{
  "cells": [
    {
      "cell_type": "markdown",
      "metadata": {
        "id": "view-in-github",
        "colab_type": "text"
      },
      "source": [
        "<a href=\"https://colab.research.google.com/github/pythoneerHiro/binance/blob/main/Sockets.ipynb\" target=\"_parent\"><img src=\"https://colab.research.google.com/assets/colab-badge.svg\" alt=\"Open In Colab\"/></a>"
      ]
    },
    {
      "cell_type": "markdown",
      "metadata": {
        "id": "WDk2XR8vBF-o"
      },
      "source": [
        "Dependencies"
      ]
    },
    {
      "cell_type": "code",
      "execution_count": null,
      "metadata": {
        "id": "9kT2uiV4A3nJ"
      },
      "outputs": [],
      "source": [
        "%%capture\n",
        "%%shell\n",
        "pip install confluent-kafka\n",
        "pip install icecream dask python-binance "
      ]
    },
    {
      "cell_type": "code",
      "source": [
        "from icecream import ic\n",
        "import pandas as pd\n",
        "import numpy as np\n",
        "import logging as log"
      ],
      "metadata": {
        "id": "ELvPxsL1gUgK"
      },
      "execution_count": null,
      "outputs": []
    },
    {
      "cell_type": "markdown",
      "metadata": {
        "id": "dF4Liy9hBxO5"
      },
      "source": [
        "Credentials"
      ]
    },
    {
      "cell_type": "code",
      "source": [
        "from client import client,async_client"
      ],
      "metadata": {
        "id": "QequGCLJgwEX"
      },
      "execution_count": null,
      "outputs": []
    },
    {
      "cell_type": "markdown",
      "metadata": {
        "id": "B5so0RuyCGaa"
      },
      "source": [
        "Sockets"
      ]
    },
    {
      "cell_type": "code",
      "execution_count": null,
      "metadata": {
        "id": "V2RQxaY6DrJ9"
      },
      "outputs": [],
      "source": [
        "FUTURES_DEPTH = \"futures_depth\" \n",
        "FUTURES_AGG = \"futures_agg\"\n",
        "FUTURES = \"futures\" #not working\n",
        "\n",
        "import websockets\n",
        "import logging as log\n",
        "\n",
        "import asyncio\n",
        "\n",
        "\n",
        "class Socket():\n",
        "\n",
        "  from typing import Callable,Awaitable\n",
        "\n",
        "\n",
        "  def __init__(self, symbol:str, socket_type:str):\n",
        "\n",
        "    self.symbol = symbol\n",
        "    self.socket_type = socket_type\n",
        "    self.socket = self.futures_socket_gen(symbol,socket_type)\n",
        "\n",
        "    return\n",
        "\n",
        "  @staticmethod\n",
        "  async def handle_socket_message(msg):\n",
        "      print(msg)\n",
        "\n",
        "  @staticmethod\n",
        "  def futures_socket_gen(symbol:str, socket_type:str):\n",
        "      from binance import BinanceSocketManager\n",
        "\n",
        "      bm = BinanceSocketManager(async_client)\n",
        "\n",
        "      sockets = {\n",
        "          FUTURES_DEPTH: bm.futures_depth_socket,\n",
        "          FUTURES_AGG: bm.aggtrade_futures_socket,\n",
        "      }\n",
        "      \n",
        "      # Set up the socket based on the socket type\n",
        "      socket = sockets.get(socket_type,None)\n",
        "\n",
        "      if socket == None: raise ValueError(\"Invalid socket type\")\n",
        "      \n",
        "      return socket(symbol)\n",
        "  \n",
        "  @staticmethod\n",
        "  async def start_socket(socket, *socket_handlers:Callable[[str],Awaitable[None]]):\n",
        "      RETRY_INTERVAL = 20\n",
        "      TIMEOUT = 60*5 #FIXME: change\n",
        "\n",
        "      while True:\n",
        "          try:\n",
        "              async with socket as stream:\n",
        "                  while True:\n",
        "                      msg = await asyncio.wait_for(stream.recv(), timeout=TIMEOUT)\n",
        "                      await asyncio.gather(*[handle_socket_message(msg) for handle_socket_message in socket_handlers])\n",
        "\n",
        "          except websockets.exceptions.ConnectionClosed:\n",
        "              log.info(f\"Websocket disconnected. Retrying in {RETRY_INTERVAL} seconds.\")\n",
        "              await asyncio.sleep(RETRY_INTERVAL)\n",
        "          except Exception as e:\n",
        "              log.exception(f\"Exception in start_socket: {e}\")\n",
        "              await asyncio.sleep(1)\n",
        "\n",
        "  async def start(self, *socket_handlers:Callable[[str],None]): \n",
        "      socket_handlers = self.handle_socket_message if len(socket_handlers)==0 else socket_handlers\n",
        "      return await self.start_socket(self.socket,socket_handlers)\n"
      ]
    },
    {
      "cell_type": "code",
      "execution_count": null,
      "metadata": {
        "colab": {
          "base_uri": "https://localhost:8080/",
          "height": 353
        },
        "id": "s7OhJ54S_M9G",
        "outputId": "880567b0-5ea1-413e-c3bd-baa234241581"
      },
      "outputs": [
        {
          "ename": "CancelledError",
          "evalue": "ignored",
          "output_type": "error",
          "traceback": [
            "\u001b[0;31m---------------------------------------------------------------------------\u001b[0m",
            "\u001b[0;31mCancelledError\u001b[0m                            Traceback (most recent call last)",
            "\u001b[0;32m<ipython-input-34-66be08f89c61>\u001b[0m in \u001b[0;36m<module>\u001b[0;34m\u001b[0m\n\u001b[1;32m      1\u001b[0m \u001b[0msymbol\u001b[0m \u001b[0;34m=\u001b[0m \u001b[0;34m\"BTCUSDT\"\u001b[0m\u001b[0;34m\u001b[0m\u001b[0;34m\u001b[0m\u001b[0m\n\u001b[1;32m      2\u001b[0m \u001b[0msocket\u001b[0m \u001b[0;34m=\u001b[0m \u001b[0mSocket\u001b[0m\u001b[0;34m(\u001b[0m\u001b[0msymbol\u001b[0m\u001b[0;34m,\u001b[0m\u001b[0mFUTURES_AGG\u001b[0m\u001b[0;34m)\u001b[0m\u001b[0;34m\u001b[0m\u001b[0;34m\u001b[0m\u001b[0m\n\u001b[0;32m----> 3\u001b[0;31m \u001b[0;32mawait\u001b[0m \u001b[0msocket\u001b[0m\u001b[0;34m.\u001b[0m\u001b[0mstart\u001b[0m\u001b[0;34m(\u001b[0m\u001b[0;34m)\u001b[0m\u001b[0;34m\u001b[0m\u001b[0;34m\u001b[0m\u001b[0m\n\u001b[0m",
            "\u001b[0;32m<ipython-input-33-3e8acc054a11>\u001b[0m in \u001b[0;36mstart\u001b[0;34m(self, *socket_handlers)\u001b[0m\n\u001b[1;32m     65\u001b[0m   \u001b[0;32masync\u001b[0m \u001b[0;32mdef\u001b[0m \u001b[0mstart\u001b[0m\u001b[0;34m(\u001b[0m\u001b[0mself\u001b[0m\u001b[0;34m,\u001b[0m \u001b[0;34m*\u001b[0m\u001b[0msocket_handlers\u001b[0m\u001b[0;34m:\u001b[0m\u001b[0mCallable\u001b[0m\u001b[0;34m[\u001b[0m\u001b[0;34m[\u001b[0m\u001b[0mstr\u001b[0m\u001b[0;34m]\u001b[0m\u001b[0;34m,\u001b[0m\u001b[0;32mNone\u001b[0m\u001b[0;34m]\u001b[0m\u001b[0;34m)\u001b[0m\u001b[0;34m:\u001b[0m\u001b[0;34m\u001b[0m\u001b[0;34m\u001b[0m\u001b[0m\n\u001b[1;32m     66\u001b[0m       \u001b[0msocket_handlers\u001b[0m \u001b[0;34m=\u001b[0m \u001b[0mself\u001b[0m\u001b[0;34m.\u001b[0m\u001b[0mhandle_socket_message\u001b[0m \u001b[0;32mif\u001b[0m \u001b[0mlen\u001b[0m\u001b[0;34m(\u001b[0m\u001b[0msocket_handlers\u001b[0m\u001b[0;34m)\u001b[0m\u001b[0;34m==\u001b[0m\u001b[0;36m0\u001b[0m \u001b[0;32melse\u001b[0m \u001b[0msocket_handlers\u001b[0m\u001b[0;34m\u001b[0m\u001b[0;34m\u001b[0m\u001b[0m\n\u001b[0;32m---> 67\u001b[0;31m       \u001b[0;32mreturn\u001b[0m \u001b[0;32mawait\u001b[0m \u001b[0mself\u001b[0m\u001b[0;34m.\u001b[0m\u001b[0mstart_socket\u001b[0m\u001b[0;34m(\u001b[0m\u001b[0mself\u001b[0m\u001b[0;34m.\u001b[0m\u001b[0msocket\u001b[0m\u001b[0;34m,\u001b[0m\u001b[0msocket_handlers\u001b[0m\u001b[0;34m)\u001b[0m\u001b[0;34m\u001b[0m\u001b[0;34m\u001b[0m\u001b[0m\n\u001b[0m",
            "\u001b[0;32m<ipython-input-33-3e8acc054a11>\u001b[0m in \u001b[0;36mstart_socket\u001b[0;34m(socket, *socket_handlers)\u001b[0m\n\u001b[1;32m     53\u001b[0m               \u001b[0;32masync\u001b[0m \u001b[0;32mwith\u001b[0m \u001b[0msocket\u001b[0m \u001b[0;32mas\u001b[0m \u001b[0mstream\u001b[0m\u001b[0;34m:\u001b[0m\u001b[0;34m\u001b[0m\u001b[0;34m\u001b[0m\u001b[0m\n\u001b[1;32m     54\u001b[0m                   \u001b[0;32mwhile\u001b[0m \u001b[0;32mTrue\u001b[0m\u001b[0;34m:\u001b[0m\u001b[0;34m\u001b[0m\u001b[0;34m\u001b[0m\u001b[0m\n\u001b[0;32m---> 55\u001b[0;31m                       \u001b[0mmsg\u001b[0m \u001b[0;34m=\u001b[0m \u001b[0;32mawait\u001b[0m \u001b[0masyncio\u001b[0m\u001b[0;34m.\u001b[0m\u001b[0mwait_for\u001b[0m\u001b[0;34m(\u001b[0m\u001b[0mstream\u001b[0m\u001b[0;34m.\u001b[0m\u001b[0mrecv\u001b[0m\u001b[0;34m(\u001b[0m\u001b[0;34m)\u001b[0m\u001b[0;34m,\u001b[0m \u001b[0mtimeout\u001b[0m\u001b[0;34m=\u001b[0m\u001b[0mTIMEOUT\u001b[0m\u001b[0;34m)\u001b[0m\u001b[0;34m\u001b[0m\u001b[0;34m\u001b[0m\u001b[0m\n\u001b[0m\u001b[1;32m     56\u001b[0m                       \u001b[0;32mawait\u001b[0m \u001b[0masyncio\u001b[0m\u001b[0;34m.\u001b[0m\u001b[0mgather\u001b[0m\u001b[0;34m(\u001b[0m\u001b[0;34m*\u001b[0m\u001b[0;34m[\u001b[0m\u001b[0mhandle_socket_message\u001b[0m\u001b[0;34m(\u001b[0m\u001b[0mmsg\u001b[0m\u001b[0;34m)\u001b[0m \u001b[0;32mfor\u001b[0m \u001b[0mhandle_socket_message\u001b[0m \u001b[0;32min\u001b[0m \u001b[0msocket_handlers\u001b[0m\u001b[0;34m]\u001b[0m\u001b[0;34m)\u001b[0m\u001b[0;34m\u001b[0m\u001b[0;34m\u001b[0m\u001b[0m\n\u001b[1;32m     57\u001b[0m \u001b[0;34m\u001b[0m\u001b[0m\n",
            "\u001b[0;32m/usr/lib/python3.9/asyncio/tasks.py\u001b[0m in \u001b[0;36mwait_for\u001b[0;34m(fut, timeout, loop)\u001b[0m\n\u001b[1;32m    464\u001b[0m         \u001b[0;31m# wait until the future completes or the timeout\u001b[0m\u001b[0;34m\u001b[0m\u001b[0;34m\u001b[0m\u001b[0m\n\u001b[1;32m    465\u001b[0m         \u001b[0;32mtry\u001b[0m\u001b[0;34m:\u001b[0m\u001b[0;34m\u001b[0m\u001b[0;34m\u001b[0m\u001b[0m\n\u001b[0;32m--> 466\u001b[0;31m             \u001b[0;32mawait\u001b[0m \u001b[0mwaiter\u001b[0m\u001b[0;34m\u001b[0m\u001b[0;34m\u001b[0m\u001b[0m\n\u001b[0m\u001b[1;32m    467\u001b[0m         \u001b[0;32mexcept\u001b[0m \u001b[0mexceptions\u001b[0m\u001b[0;34m.\u001b[0m\u001b[0mCancelledError\u001b[0m\u001b[0;34m:\u001b[0m\u001b[0;34m\u001b[0m\u001b[0;34m\u001b[0m\u001b[0m\n\u001b[1;32m    468\u001b[0m             \u001b[0;32mif\u001b[0m \u001b[0mfut\u001b[0m\u001b[0;34m.\u001b[0m\u001b[0mdone\u001b[0m\u001b[0;34m(\u001b[0m\u001b[0;34m)\u001b[0m\u001b[0;34m:\u001b[0m\u001b[0;34m\u001b[0m\u001b[0;34m\u001b[0m\u001b[0m\n",
            "\u001b[0;31mCancelledError\u001b[0m: "
          ]
        }
      ],
      "source": [
        "symbol = \"BTCUSDT\"\n",
        "socket = Socket(symbol,FUTURES_AGG)\n",
        "await socket.start()"
      ]
    },
    {
      "cell_type": "code",
      "execution_count": null,
      "metadata": {
        "id": "CJy6A_4h04cy"
      },
      "outputs": [],
      "source": [
        "from dataclasses import dataclass\n",
        "from typing import List\n",
        "\n",
        "\n",
        "@dataclass\n",
        "class ConsumerProperties():\n",
        "  Topic:str \n",
        "  ConsumerGroupID:str = \"python-group-1\"\n",
        "  ReadFrom:str = \"earliest\"\n",
        "\n",
        "class Kafka():\n",
        "  from confluent_kafka import Producer\n",
        "\n",
        "  def __init__(self):\n",
        "    \n",
        "    self.config_file = self.Download_Kafka_Gist()\n",
        "\n",
        "    self.config = self.Read_ccloud_config(self.config_file)\n",
        "\n",
        "  @staticmethod\n",
        "  def Download_Kafka_Gist()  -> str :\n",
        "    import requests\n",
        "    gist_url = \"https://gist.github.com/pythoneerHiro/02b3400c9f62c278f811362d97db2d9b\"\n",
        "    filename = \"kafka.txt\"\n",
        "    raw_url = f\"{gist_url}/raw/{filename}\"\n",
        "\n",
        "    response = requests.get(raw_url)\n",
        "\n",
        "    if response.status_code == 200:\n",
        "        print(response.text)\n",
        "        with open(filename, \"w\") as f:\n",
        "            f.write(response.text)\n",
        "    else:\n",
        "        raise f\"Failed to download {filename} from {gist_url}\"\n",
        "\n",
        "    return filename\n",
        "  \n",
        "  @staticmethod\n",
        "  def Read_ccloud_config(config_file):\n",
        "      conf = {}\n",
        "      with open(config_file) as fh:\n",
        "          for line in fh:\n",
        "              line = line.strip()\n",
        "              if len(line) != 0 and line[0] != \"#\":\n",
        "                  parameter, value = line.strip().split('=', 1)\n",
        "                  conf[parameter] = value.strip()\n",
        "      return conf\n",
        "  \n",
        "  def producer(self):\n",
        "    from confluent_kafka import Producer\n",
        "\n",
        "    producer = Producer(self.config)\n",
        "\n",
        "    return producer\n",
        "  \n",
        "  def consumer(self,consumer_properties:ConsumerProperties):\n",
        "    from confluent_kafka import Consumer\n",
        "\n",
        "    props = self.config\n",
        "    props[\"group.id\"] = consumer_properties.ConsumerGroupID\n",
        "    props[\"auto.offset.reset\"] = consumer_properties.ReadFrom\n",
        "\n",
        "    consumer = Consumer(props)\n",
        "    topic = consumer_properties.Topic\n",
        "    consumer.subscribe([topic])\n",
        "\n",
        "    return consumer\n",
        "\n",
        "  def admin(self):\n",
        "    from confluent_kafka.admin import AdminClient\n",
        "    \n",
        "    admin_client = AdminClient(self.config)\n",
        "    return admin_client "
      ]
    },
    {
      "cell_type": "code",
      "execution_count": null,
      "metadata": {
        "id": "PgX3LbtHMLhA",
        "colab": {
          "base_uri": "https://localhost:8080/",
          "height": 365
        },
        "outputId": "835dbbf6-04ac-4000-b4c6-7fad9f1858a4"
      },
      "outputs": [
        {
          "output_type": "error",
          "ename": "NameError",
          "evalue": "ignored",
          "traceback": [
            "\u001b[0;31m---------------------------------------------------------------------------\u001b[0m",
            "\u001b[0;31mNameError\u001b[0m                                 Traceback (most recent call last)",
            "\u001b[0;32m<ipython-input-3-bb2a4d7f2ceb>\u001b[0m in \u001b[0;36m<cell line: 10>\u001b[0;34m()\u001b[0m\n\u001b[1;32m      8\u001b[0m   \u001b[0mval\u001b[0m\u001b[0;34m:\u001b[0m\u001b[0mstr\u001b[0m\u001b[0;34m\u001b[0m\u001b[0;34m\u001b[0m\u001b[0m\n\u001b[1;32m      9\u001b[0m \u001b[0;34m\u001b[0m\u001b[0m\n\u001b[0;32m---> 10\u001b[0;31m \u001b[0;32mclass\u001b[0m \u001b[0mKafkaApp\u001b[0m\u001b[0;34m(\u001b[0m\u001b[0;34m)\u001b[0m\u001b[0;34m:\u001b[0m\u001b[0;34m\u001b[0m\u001b[0;34m\u001b[0m\u001b[0m\n\u001b[0m\u001b[1;32m     11\u001b[0m \u001b[0;34m\u001b[0m\u001b[0m\n\u001b[1;32m     12\u001b[0m   \u001b[0;34m@\u001b[0m\u001b[0mstaticmethod\u001b[0m\u001b[0;34m\u001b[0m\u001b[0;34m\u001b[0m\u001b[0m\n",
            "\u001b[0;32m<ipython-input-3-bb2a4d7f2ceb>\u001b[0m in \u001b[0;36mKafkaApp\u001b[0;34m()\u001b[0m\n\u001b[1;32m     40\u001b[0m \u001b[0;34m\u001b[0m\u001b[0m\n\u001b[1;32m     41\u001b[0m   \u001b[0;34m@\u001b[0m\u001b[0mstaticmethod\u001b[0m\u001b[0;34m\u001b[0m\u001b[0;34m\u001b[0m\u001b[0m\n\u001b[0;32m---> 42\u001b[0;31m   \u001b[0;32mdef\u001b[0m \u001b[0mConsume\u001b[0m\u001b[0;34m(\u001b[0m\u001b[0mconsumer_ppt\u001b[0m\u001b[0;34m:\u001b[0m\u001b[0mConsumerProperties\u001b[0m\u001b[0;34m=\u001b[0m\u001b[0mConsumerProperties\u001b[0m\u001b[0;34m(\u001b[0m\u001b[0;34m\"test\"\u001b[0m\u001b[0;34m)\u001b[0m\u001b[0;34m)\u001b[0m\u001b[0;34m:\u001b[0m\u001b[0;34m\u001b[0m\u001b[0;34m\u001b[0m\u001b[0m\n\u001b[0m\u001b[1;32m     43\u001b[0m     \u001b[0mconsumer\u001b[0m \u001b[0;34m=\u001b[0m \u001b[0mKafka\u001b[0m\u001b[0;34m(\u001b[0m\u001b[0;34m)\u001b[0m\u001b[0;34m.\u001b[0m\u001b[0mconsumer\u001b[0m\u001b[0;34m(\u001b[0m\u001b[0mconsumer_ppt\u001b[0m\u001b[0;34m)\u001b[0m\u001b[0;34m\u001b[0m\u001b[0;34m\u001b[0m\u001b[0m\n\u001b[1;32m     44\u001b[0m     \u001b[0;32mtry\u001b[0m\u001b[0;34m:\u001b[0m\u001b[0;34m\u001b[0m\u001b[0;34m\u001b[0m\u001b[0m\n",
            "\u001b[0;31mNameError\u001b[0m: name 'ConsumerProperties' is not defined"
          ]
        }
      ],
      "source": [
        "from dataclasses import dataclass\n",
        "from typing import List\n",
        "\n",
        "@dataclass\n",
        "class KafkaMessage:\n",
        "  topic: str\n",
        "  key:str\n",
        "  val:str\n",
        "\n",
        "class KafkaApp():\n",
        "\n",
        "  @staticmethod\n",
        "  def CreateTopics(topics:List[str]):\n",
        "    from confluent_kafka import KafkaException\n",
        "    from confluent_kafka.admin import NewTopic\n",
        "\n",
        "    admin_client = Kafka().admin()\n",
        "\n",
        "    num_partition = 6\n",
        "    replication_factor = 3 #minimum\n",
        "    \n",
        "    new_topics = [NewTopic(topic, num_partitions=num_partition, replication_factor=replication_factor) for topic in topics]\n",
        "    futures = admin_client.create_topics(new_topics)\n",
        "    for topic, future in futures.items():\n",
        "        try:\n",
        "            future.result()\n",
        "            print(f\"Topic {topic} created\")\n",
        "        except KafkaException as e:\n",
        "            print(f\"Failed to create topic {topic}: {e}\")\n",
        "\n",
        "  \n",
        "  @staticmethod\n",
        "  def Produce(message:KafkaMessage=KafkaMessage(\"test\",\"key\",\"val\")):\n",
        "    producer = Kafka().producer()\n",
        "    topic = message.topic\n",
        "    key = message.key\n",
        "    value = message.val\n",
        "    producer.produce(topic, key=key, value=value)\n",
        "    print(f\"published on {topic} - {key}:{value}\")\n",
        "\n",
        "  @staticmethod\n",
        "  def Consume(consumer_ppt:ConsumerProperties=ConsumerProperties(\"test\")):\n",
        "    consumer = Kafka().consumer(consumer_ppt)\n",
        "    try:\n",
        "        timeout = 1.0\n",
        "        while True:\n",
        "          msg = consumer.poll(timeout)\n",
        "          if msg is not None and msg.error() is None:\n",
        "            key = msg.key().decode('utf-8')\n",
        "            val = msg.value().decode('utf-8')\n",
        "            print(\"consumed-\",val,key)\n",
        "            \n",
        "    except KeyboardInterrupt:\n",
        "        pass\n",
        "    finally:\n",
        "        consumer.close()"
      ]
    },
    {
      "cell_type": "code",
      "execution_count": null,
      "metadata": {
        "colab": {
          "base_uri": "https://localhost:8080/"
        },
        "id": "aomjS0cuBGVQ",
        "outputId": "2133be8b-977b-4470-db30-86a7af893d4a"
      },
      "outputs": [
        {
          "name": "stdout",
          "output_type": "stream",
          "text": [
            "# Required connection configs for Kafka producer, consumer, and admin\n",
            "bootstrap.servers=pkc-lzvrd.us-west4.gcp.confluent.cloud:9092\n",
            "security.protocol=SASL_SSL\n",
            "sasl.mechanisms=PLAIN\n",
            "sasl.username=4QWWDYSIJSOALWM6\n",
            "sasl.password=lkuZ3tt3E//GU9DVnDROsvxJD7VsBVzmLA1DIRqhNisDjUj0t3JsuSCgnZ1djHg2\n",
            "\n",
            "\n",
            "Failed to create topic futures_agg: KafkaError{code=TOPIC_ALREADY_EXISTS,val=36,str=\"Topic 'futures_agg' already exists.\"}\n",
            "Failed to create topic futures_depth: KafkaError{code=TOPIC_ALREADY_EXISTS,val=36,str=\"Topic 'futures_depth' already exists.\"}\n"
          ]
        }
      ],
      "source": [
        "topics = [\n",
        "    FUTURES_AGG,\n",
        "    FUTURES_DEPTH,\n",
        "]\n",
        "KafkaApp.createTopics(topics)"
      ]
    },
    {
      "cell_type": "code",
      "execution_count": null,
      "metadata": {
        "id": "C4EpG9mzNeo9"
      },
      "outputs": [],
      "source": [
        "app = KafkaApp()\n",
        "topic = \"test\"\n",
        "\n",
        "for i in range(10): \n",
        "  KafkaApp.Produce(KafkaMessage(topic,\"key\",\"val\"))"
      ]
    },
    {
      "cell_type": "code",
      "execution_count": null,
      "metadata": {
        "colab": {
          "background_save": true,
          "base_uri": "https://localhost:8080/"
        },
        "id": "TD9sHTRsO5pV",
        "outputId": "b914eb75-7059-4fcf-b049-dd4d49da4b9b"
      },
      "outputs": [
        {
          "name": "stdout",
          "output_type": "stream",
          "text": [
            "# Required connection configs for Kafka producer, consumer, and admin\n",
            "bootstrap.servers=pkc-lzvrd.us-west4.gcp.confluent.cloud:9092\n",
            "security.protocol=SASL_SSL\n",
            "sasl.mechanisms=PLAIN\n",
            "sasl.username=4QWWDYSIJSOALWM6\n",
            "sasl.password=lkuZ3tt3E//GU9DVnDROsvxJD7VsBVzmLA1DIRqhNisDjUj0t3JsuSCgnZ1djHg2\n",
            "\n",
            "\n",
            "consumed- {\"ordertime\":1497014222380,\"orderid\":18,\"itemid\":\"Item_184\",\"address\":{\"city\":\"Mountain View\",\"state\":\"CA\",\"zipcode\":94041}} 18\n"
          ]
        }
      ],
      "source": [
        "consumer_ppt = ConsumerProperties(Topic=topic)\n",
        "app.Consume(consumer_ppt)"
      ]
    },
    {
      "cell_type": "code",
      "execution_count": null,
      "metadata": {
        "id": "DIBJxTQG50oe"
      },
      "outputs": [],
      "source": [
        "kafka = Kafka()\n",
        "producer = kafka.producer()\n",
        "for i in range(1000):\n",
        "  topic = \"test\"\n",
        "  key = \"key\"\n",
        "  value = str(i)\n",
        "  producer.produce(\"test\", key=key, value=value)\n",
        "  print(\"produced-\",i)\n"
      ]
    },
    {
      "cell_type": "code",
      "execution_count": null,
      "metadata": {
        "colab": {
          "background_save": true
        },
        "id": "ScdWhxZup-k5",
        "outputId": "5cad5500-0624-4e48-edc6-9c25dc03c0fe"
      },
      "outputs": [
        {
          "data": {
            "text/html": [
              "\n",
              "  <div id=\"df-1ccf0f03-430c-45d8-803c-d3a0993a287c\">\n",
              "    <div class=\"colab-df-container\">\n",
              "      <div>\n",
              "<style scoped>\n",
              "    .dataframe tbody tr th:only-of-type {\n",
              "        vertical-align: middle;\n",
              "    }\n",
              "\n",
              "    .dataframe tbody tr th {\n",
              "        vertical-align: top;\n",
              "    }\n",
              "\n",
              "    .dataframe thead th {\n",
              "        text-align: right;\n",
              "    }\n",
              "</style>\n",
              "<table border=\"1\" class=\"dataframe\">\n",
              "  <thead>\n",
              "    <tr style=\"text-align: right;\">\n",
              "      <th></th>\n",
              "      <th>0</th>\n",
              "      <th>1</th>\n",
              "      <th>2</th>\n",
              "      <th>3</th>\n",
              "      <th>4</th>\n",
              "      <th>5</th>\n",
              "      <th>6</th>\n",
              "      <th>7</th>\n",
              "      <th>8</th>\n",
              "      <th>9</th>\n",
              "      <th>10</th>\n",
              "      <th>11</th>\n",
              "    </tr>\n",
              "  </thead>\n",
              "  <tbody>\n",
              "    <tr>\n",
              "      <th>661</th>\n",
              "      <td>1679616000000</td>\n",
              "      <td>28296.00</td>\n",
              "      <td>28440.00</td>\n",
              "      <td>26800.00</td>\n",
              "      <td>27460.90</td>\n",
              "      <td>233941.365</td>\n",
              "      <td>1679702399999</td>\n",
              "      <td>6520037473.72420</td>\n",
              "      <td>58928</td>\n",
              "      <td>112778.534</td>\n",
              "      <td>3143260183.35860</td>\n",
              "      <td>0</td>\n",
              "    </tr>\n",
              "    <tr>\n",
              "      <th>662</th>\n",
              "      <td>1679702400000</td>\n",
              "      <td>27447.30</td>\n",
              "      <td>27900.00</td>\n",
              "      <td>27051.00</td>\n",
              "      <td>27469.00</td>\n",
              "      <td>173702.987</td>\n",
              "      <td>1679788799999</td>\n",
              "      <td>4774342002.99440</td>\n",
              "      <td>50287</td>\n",
              "      <td>85637.969</td>\n",
              "      <td>2354384599.28370</td>\n",
              "      <td>0</td>\n",
              "    </tr>\n",
              "    <tr>\n",
              "      <th>663</th>\n",
              "      <td>1679788800000</td>\n",
              "      <td>27468.50</td>\n",
              "      <td>28163.00</td>\n",
              "      <td>27200.00</td>\n",
              "      <td>27973.00</td>\n",
              "      <td>183237.527</td>\n",
              "      <td>1679875199999</td>\n",
              "      <td>5087650338.84190</td>\n",
              "      <td>47524</td>\n",
              "      <td>92101.316</td>\n",
              "      <td>2558701673.08790</td>\n",
              "      <td>0</td>\n",
              "    </tr>\n",
              "    <tr>\n",
              "      <th>664</th>\n",
              "      <td>1679875200000</td>\n",
              "      <td>27972.50</td>\n",
              "      <td>28180.00</td>\n",
              "      <td>26350.00</td>\n",
              "      <td>27136.90</td>\n",
              "      <td>213626.657</td>\n",
              "      <td>1679961599999</td>\n",
              "      <td>5852586857.92560</td>\n",
              "      <td>59496</td>\n",
              "      <td>100606.441</td>\n",
              "      <td>2757468076.91730</td>\n",
              "      <td>0</td>\n",
              "    </tr>\n",
              "    <tr>\n",
              "      <th>665</th>\n",
              "      <td>1679961600000</td>\n",
              "      <td>27112.00</td>\n",
              "      <td>27250.00</td>\n",
              "      <td>26800.00</td>\n",
              "      <td>26939.00</td>\n",
              "      <td>35361.127</td>\n",
              "      <td>1680047999999</td>\n",
              "      <td>955125359.35810</td>\n",
              "      <td>10573</td>\n",
              "      <td>17506.317</td>\n",
              "      <td>472930487.86240</td>\n",
              "      <td>0</td>\n",
              "    </tr>\n",
              "  </tbody>\n",
              "</table>\n",
              "</div>\n",
              "      <button class=\"colab-df-convert\" onclick=\"convertToInteractive('df-1ccf0f03-430c-45d8-803c-d3a0993a287c')\"\n",
              "              title=\"Convert this dataframe to an interactive table.\"\n",
              "              style=\"display:none;\">\n",
              "        \n",
              "  <svg xmlns=\"http://www.w3.org/2000/svg\" height=\"24px\"viewBox=\"0 0 24 24\"\n",
              "       width=\"24px\">\n",
              "    <path d=\"M0 0h24v24H0V0z\" fill=\"none\"/>\n",
              "    <path d=\"M18.56 5.44l.94 2.06.94-2.06 2.06-.94-2.06-.94-.94-2.06-.94 2.06-2.06.94zm-11 1L8.5 8.5l.94-2.06 2.06-.94-2.06-.94L8.5 2.5l-.94 2.06-2.06.94zm10 10l.94 2.06.94-2.06 2.06-.94-2.06-.94-.94-2.06-.94 2.06-2.06.94z\"/><path d=\"M17.41 7.96l-1.37-1.37c-.4-.4-.92-.59-1.43-.59-.52 0-1.04.2-1.43.59L10.3 9.45l-7.72 7.72c-.78.78-.78 2.05 0 2.83L4 21.41c.39.39.9.59 1.41.59.51 0 1.02-.2 1.41-.59l7.78-7.78 2.81-2.81c.8-.78.8-2.07 0-2.86zM5.41 20L4 18.59l7.72-7.72 1.47 1.35L5.41 20z\"/>\n",
              "  </svg>\n",
              "      </button>\n",
              "      \n",
              "  <style>\n",
              "    .colab-df-container {\n",
              "      display:flex;\n",
              "      flex-wrap:wrap;\n",
              "      gap: 12px;\n",
              "    }\n",
              "\n",
              "    .colab-df-convert {\n",
              "      background-color: #E8F0FE;\n",
              "      border: none;\n",
              "      border-radius: 50%;\n",
              "      cursor: pointer;\n",
              "      display: none;\n",
              "      fill: #1967D2;\n",
              "      height: 32px;\n",
              "      padding: 0 0 0 0;\n",
              "      width: 32px;\n",
              "    }\n",
              "\n",
              "    .colab-df-convert:hover {\n",
              "      background-color: #E2EBFA;\n",
              "      box-shadow: 0px 1px 2px rgba(60, 64, 67, 0.3), 0px 1px 3px 1px rgba(60, 64, 67, 0.15);\n",
              "      fill: #174EA6;\n",
              "    }\n",
              "\n",
              "    [theme=dark] .colab-df-convert {\n",
              "      background-color: #3B4455;\n",
              "      fill: #D2E3FC;\n",
              "    }\n",
              "\n",
              "    [theme=dark] .colab-df-convert:hover {\n",
              "      background-color: #434B5C;\n",
              "      box-shadow: 0px 1px 3px 1px rgba(0, 0, 0, 0.15);\n",
              "      filter: drop-shadow(0px 1px 2px rgba(0, 0, 0, 0.3));\n",
              "      fill: #FFFFFF;\n",
              "    }\n",
              "  </style>\n",
              "\n",
              "      <script>\n",
              "        const buttonEl =\n",
              "          document.querySelector('#df-1ccf0f03-430c-45d8-803c-d3a0993a287c button.colab-df-convert');\n",
              "        buttonEl.style.display =\n",
              "          google.colab.kernel.accessAllowed ? 'block' : 'none';\n",
              "\n",
              "        async function convertToInteractive(key) {\n",
              "          const element = document.querySelector('#df-1ccf0f03-430c-45d8-803c-d3a0993a287c');\n",
              "          const dataTable =\n",
              "            await google.colab.kernel.invokeFunction('convertToInteractive',\n",
              "                                                     [key], {});\n",
              "          if (!dataTable) return;\n",
              "\n",
              "          const docLinkHtml = 'Like what you see? Visit the ' +\n",
              "            '<a target=\"_blank\" href=https://colab.research.google.com/notebooks/data_table.ipynb>data table notebook</a>'\n",
              "            + ' to learn more about interactive tables.';\n",
              "          element.innerHTML = '';\n",
              "          dataTable['output_type'] = 'display_data';\n",
              "          await google.colab.output.renderOutput(dataTable, element);\n",
              "          const docLink = document.createElement('div');\n",
              "          docLink.innerHTML = docLinkHtml;\n",
              "          element.appendChild(docLink);\n",
              "        }\n",
              "      </script>\n",
              "    </div>\n",
              "  </div>\n",
              "  "
            ],
            "text/plain": [
              "                0         1         2         3         4           5   \\\n",
              "661  1679616000000  28296.00  28440.00  26800.00  27460.90  233941.365   \n",
              "662  1679702400000  27447.30  27900.00  27051.00  27469.00  173702.987   \n",
              "663  1679788800000  27468.50  28163.00  27200.00  27973.00  183237.527   \n",
              "664  1679875200000  27972.50  28180.00  26350.00  27136.90  213626.657   \n",
              "665  1679961600000  27112.00  27250.00  26800.00  26939.00   35361.127   \n",
              "\n",
              "                6                 7      8           9                 10 11  \n",
              "661  1679702399999  6520037473.72420  58928  112778.534  3143260183.35860  0  \n",
              "662  1679788799999  4774342002.99440  50287   85637.969  2354384599.28370  0  \n",
              "663  1679875199999  5087650338.84190  47524   92101.316  2558701673.08790  0  \n",
              "664  1679961599999  5852586857.92560  59496  100606.441  2757468076.91730  0  \n",
              "665  1680047999999   955125359.35810  10573   17506.317   472930487.86240  0  "
            ]
          },
          "execution_count": 205,
          "metadata": {},
          "output_type": "execute_result"
        }
      ],
      "source": [
        "df = pd.DataFrame(client.futures_historical_klines(\n",
        "    symbol='BTCUSDT',\n",
        "    interval='1d',\n",
        "    start_str='2021-06-01',\n",
        "    # end_str='2021-06-30'\n",
        "))\n",
        "df.tail()"
      ]
    },
    {
      "cell_type": "markdown",
      "metadata": {
        "id": "LobvXd5lt4c6"
      },
      "source": [
        "Archived"
      ]
    },
    {
      "cell_type": "code",
      "execution_count": null,
      "metadata": {
        "id": "h8OIHmN3FMWW"
      },
      "outputs": [],
      "source": [
        "# symbol = \"BTCUSDT\"\n",
        "# socket = await futures_socket_gen(symbol,KLINE)\n",
        "# await start_socket(socket,handle_socket_message)"
      ]
    },
    {
      "cell_type": "code",
      "source": [
        "logging.basicConfig(level=logging.DEBUG)"
      ],
      "metadata": {
        "id": "J4liMAy5YAZe"
      },
      "execution_count": null,
      "outputs": []
    },
    {
      "cell_type": "code",
      "source": [
        "!pytest"
      ],
      "metadata": {
        "colab": {
          "base_uri": "https://localhost:8080/"
        },
        "id": "_Wu5k3ZTCKkr",
        "outputId": "8ad1e227-9349-414d-e8e6-c433b1bad18f"
      },
      "execution_count": null,
      "outputs": [
        {
          "output_type": "stream",
          "name": "stdout",
          "text": [
            "\u001b[1m============================= test session starts ==============================\u001b[0m\n",
            "platform linux -- Python 3.9.16, pytest-7.2.2, pluggy-1.0.0\n",
            "rootdir: /content\n",
            "\u001b[1mcollecting ... \u001b[0m\u001b[1m\rcollected 1 item                                                               \u001b[0m\n",
            "\n",
            "test_list.py \u001b[32m.\u001b[0m\u001b[32m                                                           [100%]\u001b[0m\n",
            "\n",
            "\u001b[32m============================== \u001b[32m\u001b[1m1 passed\u001b[0m\u001b[32m in 0.01s\u001b[0m\u001b[32m ===============================\u001b[0m\n"
          ]
        }
      ]
    }
  ],
  "metadata": {
    "colab": {
      "provenance": [],
      "authorship_tag": "ABX9TyPwIKXKGt+Swb7qQznlVrx3",
      "include_colab_link": true
    },
    "kernelspec": {
      "display_name": "Python 3",
      "name": "python3"
    },
    "language_info": {
      "name": "python"
    }
  },
  "nbformat": 4,
  "nbformat_minor": 0
}