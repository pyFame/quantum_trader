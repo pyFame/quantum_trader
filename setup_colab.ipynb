{
 "cells": [
  {
   "cell_type": "code",
   "execution_count": null,
   "metadata": {
    "collapsed": true
   },
   "outputs": [],
   "source": [
    "%%capture\n",
    "\n",
    "!pip install -q condacolab\n",
    "import condacolab\n",
    "condacolab.install()\n",
    "!conda --version\n",
    "!conda install -c conda-forge ta-lib"
   ]
  },
  {
   "cell_type": "code",
   "execution_count": 1,
   "outputs": [
    {
     "name": "stdout",
     "output_type": "stream",
     "text": [
      "Requirement already satisfied: unsync in /Users/hiro/opt/anaconda3/lib/python3.9/site-packages (1.4.0)\r\n",
      "Requirement already satisfied: icecream in /Users/hiro/opt/anaconda3/lib/python3.9/site-packages (2.1.3)\r\n",
      "Requirement already satisfied: dask in /Users/hiro/opt/anaconda3/lib/python3.9/site-packages (2022.7.0)\r\n",
      "Collecting fastprogress\r\n",
      "  Downloading fastprogress-1.0.3-py3-none-any.whl (12 kB)\r\n",
      "Collecting python-binance\r\n",
      "  Downloading python_binance-1.0.17-py2.py3-none-any.whl (67 kB)\r\n",
      "\u001B[2K     \u001B[90m━━━━━━━━━━━━━━━━━━━━━━━━━━━━━━━━━━━━━━━\u001B[0m \u001B[32m67.6/67.6 kB\u001B[0m \u001B[31m387.1 kB/s\u001B[0m eta \u001B[36m0:00:00\u001B[0ma \u001B[36m0:00:01\u001B[0m\r\n",
      "\u001B[?25hRequirement already satisfied: asttokens>=2.0.1 in /Users/hiro/opt/anaconda3/lib/python3.9/site-packages (from icecream) (2.2.1)\r\n",
      "Requirement already satisfied: colorama>=0.3.9 in /Users/hiro/opt/anaconda3/lib/python3.9/site-packages (from icecream) (0.4.5)\r\n",
      "Requirement already satisfied: executing>=0.3.1 in /Users/hiro/opt/anaconda3/lib/python3.9/site-packages (from icecream) (1.2.0)\r\n",
      "Requirement already satisfied: pygments>=2.2.0 in /Users/hiro/opt/anaconda3/lib/python3.9/site-packages (from icecream) (2.11.2)\r\n",
      "Requirement already satisfied: packaging>=20.0 in /Users/hiro/opt/anaconda3/lib/python3.9/site-packages (from dask) (21.3)\r\n",
      "Requirement already satisfied: fsspec>=0.6.0 in /Users/hiro/opt/anaconda3/lib/python3.9/site-packages (from dask) (2022.7.1)\r\n",
      "Requirement already satisfied: pyyaml>=5.3.1 in /Users/hiro/opt/anaconda3/lib/python3.9/site-packages (from dask) (6.0)\r\n",
      "Requirement already satisfied: cloudpickle>=1.1.1 in /Users/hiro/opt/anaconda3/lib/python3.9/site-packages (from dask) (2.0.0)\r\n",
      "Requirement already satisfied: partd>=0.3.10 in /Users/hiro/opt/anaconda3/lib/python3.9/site-packages (from dask) (1.2.0)\r\n",
      "Requirement already satisfied: toolz>=0.8.2 in /Users/hiro/opt/anaconda3/lib/python3.9/site-packages (from dask) (0.11.2)\r\n",
      "Requirement already satisfied: ujson in /Users/hiro/opt/anaconda3/lib/python3.9/site-packages (from python-binance) (5.4.0)\r\n",
      "Requirement already satisfied: requests in /Users/hiro/opt/anaconda3/lib/python3.9/site-packages (from python-binance) (2.28.1)\r\n",
      "Collecting pycryptodome\r\n",
      "  Downloading pycryptodome-3.17-cp35-abi3-macosx_10_9_x86_64.whl (1.6 MB)\r\n",
      "\u001B[2K     \u001B[90m━━━━━━━━━━━━━━━━━━━━━━━━━━━━━━━━━━━━━━━━\u001B[0m \u001B[32m1.6/1.6 MB\u001B[0m \u001B[31m1.0 MB/s\u001B[0m eta \u001B[36m0:00:00\u001B[0m00:01\u001B[0m00:01\u001B[0m0m\r\n",
      "\u001B[?25hRequirement already satisfied: six in /Users/hiro/opt/anaconda3/lib/python3.9/site-packages (from python-binance) (1.16.0)\r\n",
      "Collecting websockets\r\n",
      "  Downloading websockets-10.4-cp39-cp39-macosx_10_9_x86_64.whl (97 kB)\r\n",
      "\u001B[2K     \u001B[90m━━━━━━━━━━━━━━━━━━━━━━━━━━━━━━━━━━━━━━━━\u001B[0m \u001B[32m97.9/97.9 kB\u001B[0m \u001B[31m4.3 MB/s\u001B[0m eta \u001B[36m0:00:00\u001B[0m\r\n",
      "\u001B[?25hCollecting dateparser\r\n",
      "  Downloading dateparser-1.1.8-py2.py3-none-any.whl (293 kB)\r\n",
      "\u001B[2K     \u001B[90m━━━━━━━━━━━━━━━━━━━━━━━━━━━━━━━━━━━━━━━\u001B[0m \u001B[32m293.8/293.8 kB\u001B[0m \u001B[31m1.5 MB/s\u001B[0m eta \u001B[36m0:00:00\u001B[0ma \u001B[36m0:00:01\u001B[0m\r\n",
      "\u001B[?25hCollecting aiohttp\r\n",
      "  Downloading aiohttp-3.8.4-cp39-cp39-macosx_10_9_x86_64.whl (360 kB)\r\n",
      "\u001B[2K     \u001B[90m━━━━━━━━━━━━━━━━━━━━━━━━━━━━━━━━━━━━━━━\u001B[0m \u001B[32m360.3/360.3 kB\u001B[0m \u001B[31m1.7 MB/s\u001B[0m eta \u001B[36m0:00:00\u001B[0ma \u001B[36m0:00:01\u001B[0m\r\n",
      "\u001B[?25hRequirement already satisfied: pyparsing!=3.0.5,>=2.0.2 in /Users/hiro/opt/anaconda3/lib/python3.9/site-packages (from packaging>=20.0->dask) (3.0.9)\r\n",
      "Requirement already satisfied: locket in /Users/hiro/opt/anaconda3/lib/python3.9/site-packages (from partd>=0.3.10->dask) (1.0.0)\r\n",
      "Collecting frozenlist>=1.1.1\r\n",
      "  Downloading frozenlist-1.3.3-cp39-cp39-macosx_10_9_x86_64.whl (36 kB)\r\n",
      "Requirement already satisfied: attrs>=17.3.0 in /Users/hiro/opt/anaconda3/lib/python3.9/site-packages (from aiohttp->python-binance) (21.4.0)\r\n",
      "Collecting aiosignal>=1.1.2\r\n",
      "  Downloading aiosignal-1.3.1-py3-none-any.whl (7.6 kB)\r\n",
      "Collecting async-timeout<5.0,>=4.0.0a3\r\n",
      "  Downloading async_timeout-4.0.2-py3-none-any.whl (5.8 kB)\r\n",
      "Collecting multidict<7.0,>=4.5\r\n",
      "  Downloading multidict-6.0.4-cp39-cp39-macosx_10_9_x86_64.whl (29 kB)\r\n",
      "Requirement already satisfied: charset-normalizer<4.0,>=2.0 in /Users/hiro/opt/anaconda3/lib/python3.9/site-packages (from aiohttp->python-binance) (2.0.4)\r\n",
      "Collecting yarl<2.0,>=1.0\r\n",
      "  Downloading yarl-1.8.2-cp39-cp39-macosx_10_9_x86_64.whl (61 kB)\r\n",
      "\u001B[2K     \u001B[90m━━━━━━━━━━━━━━━━━━━━━━━━━━━━━━━━━━━━━━━━\u001B[0m \u001B[32m61.2/61.2 kB\u001B[0m \u001B[31m2.5 MB/s\u001B[0m eta \u001B[36m0:00:00\u001B[0m\r\n",
      "\u001B[?25hCollecting tzlocal\r\n",
      "  Downloading tzlocal-4.3-py3-none-any.whl (20 kB)\r\n",
      "Requirement already satisfied: python-dateutil in /Users/hiro/opt/anaconda3/lib/python3.9/site-packages (from dateparser->python-binance) (2.8.2)\r\n",
      "Requirement already satisfied: regex!=2019.02.19,!=2021.8.27 in /Users/hiro/opt/anaconda3/lib/python3.9/site-packages (from dateparser->python-binance) (2022.7.9)\r\n",
      "Requirement already satisfied: pytz in /Users/hiro/opt/anaconda3/lib/python3.9/site-packages (from dateparser->python-binance) (2022.1)\r\n",
      "Requirement already satisfied: certifi>=2017.4.17 in /Users/hiro/opt/anaconda3/lib/python3.9/site-packages (from requests->python-binance) (2022.9.24)\r\n",
      "Requirement already satisfied: urllib3<1.27,>=1.21.1 in /Users/hiro/opt/anaconda3/lib/python3.9/site-packages (from requests->python-binance) (1.26.11)\r\n",
      "Requirement already satisfied: idna<4,>=2.5 in /Users/hiro/opt/anaconda3/lib/python3.9/site-packages (from requests->python-binance) (3.3)\r\n",
      "Collecting pytz-deprecation-shim\r\n",
      "  Downloading pytz_deprecation_shim-0.1.0.post0-py2.py3-none-any.whl (15 kB)\r\n",
      "Collecting tzdata\r\n",
      "  Downloading tzdata-2023.2-py2.py3-none-any.whl (342 kB)\r\n",
      "\u001B[2K     \u001B[90m━━━━━━━━━━━━━━━━━━━━━━━━━━━━━━━━━━━━━━━\u001B[0m \u001B[32m342.1/342.1 kB\u001B[0m \u001B[31m1.7 MB/s\u001B[0m eta \u001B[36m0:00:00\u001B[0m00:01\u001B[0m00:01\u001B[0m\r\n",
      "\u001B[?25hInstalling collected packages: websockets, tzdata, pycryptodome, multidict, frozenlist, fastprogress, async-timeout, yarl, pytz-deprecation-shim, aiosignal, tzlocal, aiohttp, dateparser, python-binance\r\n",
      "Successfully installed aiohttp-3.8.4 aiosignal-1.3.1 async-timeout-4.0.2 dateparser-1.1.8 fastprogress-1.0.3 frozenlist-1.3.3 multidict-6.0.4 pycryptodome-3.17 python-binance-1.0.17 pytz-deprecation-shim-0.1.0.post0 tzdata-2023.2 tzlocal-4.3 websockets-10.4 yarl-1.8.2\r\n"
     ]
    }
   ],
   "source": [
    "!pip install unsync icecream dask fastprogress python-binance"
   ],
   "metadata": {
    "collapsed": false
   }
  }
 ],
 "metadata": {
  "kernelspec": {
   "display_name": "Python 3",
   "language": "python",
   "name": "python3"
  },
  "language_info": {
   "codemirror_mode": {
    "name": "ipython",
    "version": 2
   },
   "file_extension": ".py",
   "mimetype": "text/x-python",
   "name": "python",
   "nbconvert_exporter": "python",
   "pygments_lexer": "ipython2",
   "version": "2.7.6"
  }
 },
 "nbformat": 4,
 "nbformat_minor": 0
}
