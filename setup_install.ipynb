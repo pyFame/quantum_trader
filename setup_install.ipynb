%%capture

!pip install -q condacolab
import condacolab
condacolab.install()
!conda --version
!conda install -c conda-forge ta-lib

!pip install unsync icecream dask fastprogress python-binance